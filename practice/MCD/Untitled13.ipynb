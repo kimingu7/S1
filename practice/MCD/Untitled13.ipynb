{
 "cells": [
  {
   "cell_type": "markdown",
   "id": "f550cbeb",
   "metadata": {},
   "source": [
    "### 19-7"
   ]
  },
  {
   "cell_type": "code",
   "execution_count": 1,
   "id": "9b791130",
   "metadata": {},
   "outputs": [
    {
     "name": "stdout",
     "output_type": "stream",
     "text": [
      "0 1\n",
      "1 0\n",
      "3 0\n",
      "3 1\n",
      "0 5 0\n",
      "5 0 0\n",
      "0 0 0\n",
      "5 5 0\n"
     ]
    }
   ],
   "source": [
    "lst_input = [[0 for _ in range(2)] for _ in range(4)]\n",
    "for i in range(4):\n",
    "    lst_input[i] = list(map(int, input().split()))\n",
    "vect = [[0 for _ in range(3)] for _ in range(4)]\n",
    "for i in range(4):\n",
    "    vect[lst_input[i][0]][lst_input[i][1]] = 5\n",
    "for i in vect:\n",
    "    print(*i)"
   ]
  },
  {
   "cell_type": "markdown",
   "id": "2a07d29a",
   "metadata": {},
   "source": [
    "### 19-8"
   ]
  },
  {
   "cell_type": "code",
   "execution_count": 5,
   "id": "2382e4e3",
   "metadata": {},
   "outputs": [
    {
     "name": "stdout",
     "output_type": "stream",
     "text": [
      "1 5 5 4\n",
      "4 2 1 1\n",
      "3 9 3 2\n",
      "4 5 9 1\n",
      "(2,0)\n"
     ]
    }
   ],
   "source": [
    "image = [[0 for _ in range(4)] for _ in range(4)]\n",
    "for i in range(4):\n",
    "    image[i] = list(map(int, input().split()))\n",
    "image_sum = [[0 for _ in range(2)] for _ in range(3)]\n",
    "def rectSum():\n",
    "    for i in range(3):\n",
    "        for j in range(2):\n",
    "            image_sum[i][j] = (image[i][j] + image[i][j+1] + image[i][j+2] +\n",
    "                                  image[i+1][j] + image[i+1][j+1] + image[i+1][j+2])\n",
    "    sum_max = max(map(max,image_sum))\n",
    "    for i in range(3):\n",
    "        for j in range(2):\n",
    "            if image_sum[i][j] == sum_max:\n",
    "                print(f'({i},{j})')\n",
    "rectSum()"
   ]
  },
  {
   "cell_type": "markdown",
   "id": "c5936a81",
   "metadata": {},
   "source": [
    "### 19.5-1"
   ]
  },
  {
   "cell_type": "code",
   "execution_count": 14,
   "id": "96ff8f73",
   "metadata": {},
   "outputs": [
    {
     "name": "stdout",
     "output_type": "stream",
     "text": [
      "1 1 4 5 2\n",
      "a=5\n",
      "b=1\n"
     ]
    }
   ],
   "source": [
    "def BBQ():\n",
    "    global a, b\n",
    "    num_list = list(map(int, input().split()))\n",
    "    a = max(num_list)\n",
    "    b = min(num_list)\n",
    "BBQ()\n",
    "print(f'a={a}')\n",
    "print(f'b={b}')"
   ]
  },
  {
   "cell_type": "markdown",
   "id": "9296a240",
   "metadata": {},
   "source": [
    "### 19.5-2"
   ]
  },
  {
   "cell_type": "code",
   "execution_count": 28,
   "id": "cb684dc7",
   "metadata": {
    "scrolled": true
   },
   "outputs": [
    {
     "name": "stdout",
     "output_type": "stream",
     "text": [
      "0 0 0 0\n",
      "1 0 0 0\n",
      "0 0 1 0\n",
      "0 0 0 0\n",
      "1 0 0 1\n",
      "안정된 상태\n"
     ]
    }
   ],
   "source": [
    "cell = [[0 for _ in range(4)] for _ in range(5)]\n",
    "for i in range(5):\n",
    "    cell[i] = list(map(int, input().split()))\n",
    "stable = 0\n",
    "for i in range(5):\n",
    "    for j in range(4):\n",
    "        if cell[i][j] == 1:\n",
    "            if i == 0:\n",
    "                if j == 0:\n",
    "                    sum_cell = cell[i][j] + cell[i][j+1] + cell[i+1][j] + cell[i+1][j+1]\n",
    "                elif j == 3:\n",
    "                    sum_cell = cell[i][j-1] + cell[i][j] + cell[i+1][j-1] +cell[i+1][j] \n",
    "                else :\n",
    "                    sum_cell = (cell[i][j] + cell[i][j+1] + cell[i+1][j-1] +cell[i+1][j] \n",
    "                                + cell[i+1][j+1])\n",
    "            elif i == 4:\n",
    "                if j == 0:\n",
    "                    sum_cell = cell[i][j] + cell[i][j+1] +cell[i-1][j] + cell[i-1][j+1]\n",
    "                elif j == 3:\n",
    "                    sum_cell = cell[i][j-1] + cell[i][j] + cell[i-1][j-1] +cell[i-1][j] \n",
    "                else :\n",
    "                    sum_cell = (cell[i][j] + cell[i][j+1] + cell[i-1][j-1] +cell[i-1][j] \n",
    "                                + cell[i-1][j+1])\n",
    "            else :\n",
    "                if j == 0:\n",
    "                    sum_cell = (cell[i][j] + cell[i][j+1] +cell[i-1][j] + cell[i-1][j+1]\n",
    "                               + cell[i+1][j] + cell[i+1][j+1])\n",
    "                elif j == 3:\n",
    "                    sum_cell = (cell[i][j-1] + cell[i][j] + cell[i-1][j-1] +cell[i-1][j]\n",
    "                               + cell[i+1][j] + cell[i+1][j-1])\n",
    "                else :\n",
    "                    sum_cell = (cell[i-1][j-1] + cell[i-1][j] + cell[i-1][j+1] \n",
    "                                + cell[i][j-1] + cell[i][j] + cell[i][j+1] + \n",
    "                                cell[i+1][j-1] + cell[i+1][j] + cell[i+1][j+1])\n",
    "            if sum_cell > 1 and stable == 0:\n",
    "                print(\"불안정한 상태\")\n",
    "                stable = 1\n",
    "                break\n",
    "            elif i+j == 7 and stable == 0:\n",
    "                print(\"안정된 상태\")"
   ]
  },
  {
   "cell_type": "markdown",
   "id": "53281ff1",
   "metadata": {},
   "source": [
    "### 19.5-3 "
   ]
  },
  {
   "cell_type": "code",
   "execution_count": 29,
   "id": "05a8680a",
   "metadata": {},
   "outputs": [
    {
     "name": "stdout",
     "output_type": "stream",
     "text": [
      "3 10 11 15\n",
      "0 0 1 0\n",
      "0 0 0 0\n",
      "0 2 3 0\n",
      "0 0 4 0\n"
     ]
    }
   ],
   "source": [
    "lst_1 = [[0 for _ in range(4)] for _ in range(4)]\n",
    "lst_2 = [[0 for _ in range(4)] for _ in range(4)]\n",
    "lst_input = list(map(int, input().split()))\n",
    "for i in range(4):\n",
    "    for j in range(4):\n",
    "        lst_1[i][j] = 1 + (i*4) + j\n",
    "cnt = 1\n",
    "for i in range(4):\n",
    "    for j in range(4):\n",
    "        for k in range(4):\n",
    "            if lst_1[i][j] == lst_input[k]:\n",
    "                lst_2[i][j] = cnt\n",
    "                cnt+=1\n",
    "for i in lst_2:\n",
    "    print(*i)"
   ]
  },
  {
   "cell_type": "markdown",
   "id": "77e8d082",
   "metadata": {},
   "source": [
    "### 19.5-4 "
   ]
  },
  {
   "cell_type": "code",
   "execution_count": 34,
   "id": "e6d7bc57",
   "metadata": {},
   "outputs": [
    {
     "name": "stdout",
     "output_type": "stream",
     "text": [
      "G 3\n",
      "S 2\n",
      "S 0\n",
      "1 0 1 0\n",
      "1 0 1 0\n",
      "1 0 1 0\n",
      "1 1 1 1\n"
     ]
    }
   ],
   "source": [
    "lst = [[0 for _ in range(4)] for _ in range(4)]\n",
    "lst_1 = [[0 for _ in range(2)] for _ in range(3)]\n",
    "for i in range(3):\n",
    "    lst_1[i] = list(input().split())\n",
    "for i in range(3):\n",
    "    if lst_1[i][0] == 'G':\n",
    "        if lst_1[i][1] == '0':\n",
    "            for i in range(4):\n",
    "                lst[0][i] = 1\n",
    "        elif lst_1[i][1] == '1':\n",
    "            for i in range(4):\n",
    "                lst[1][i] = 1\n",
    "        elif lst_1[i][1] == '2':\n",
    "            for i in range(4):\n",
    "                lst[2][i] = 1\n",
    "        else :\n",
    "            for i in range(4):\n",
    "                lst[3][i] = 1\n",
    "    else :\n",
    "        if lst_1[i][1] == '0':\n",
    "            for i in range(4):\n",
    "                lst[i][0] = 1\n",
    "        elif lst_1[i][1] == '1':\n",
    "            for i in range(4):\n",
    "                lst[i][1] = 1\n",
    "        elif lst_1[i][1] == '2':\n",
    "            for i in range(4):\n",
    "                lst[i][2] = 1\n",
    "        else :\n",
    "            for i in range(4):\n",
    "                lst[i][3] = 1\n",
    "for i in lst:\n",
    "    print(*i)"
   ]
  },
  {
   "cell_type": "markdown",
   "id": "5defc956",
   "metadata": {},
   "source": [
    "### 19.5-5 "
   ]
  },
  {
   "cell_type": "code",
   "execution_count": 35,
   "id": "5ea280b1",
   "metadata": {},
   "outputs": [
    {
     "name": "stdout",
     "output_type": "stream",
     "text": [
      "BBB\n",
      "BCD\n",
      "DZZ\n",
      "BCDZ\n"
     ]
    }
   ],
   "source": [
    "image = [[0 for _ in range(3)] for _ in range(3)]\n",
    "n_image = [0 for _ in range(9)]\n",
    "for i in range(3):\n",
    "    image[i] = input()\n",
    "for i in range(3):\n",
    "    for j in range(3):\n",
    "        n_image[(i*3)+j] = image[i][j]\n",
    "n_image = list(set(n_image))\n",
    "n_image.sort()\n",
    "print(*n_image,sep='')"
   ]
  },
  {
   "cell_type": "markdown",
   "id": "5d6a4e9e",
   "metadata": {},
   "source": [
    "### 19.5-6 "
   ]
  },
  {
   "cell_type": "code",
   "execution_count": 37,
   "id": "da98e9ed",
   "metadata": {},
   "outputs": [
    {
     "name": "stdout",
     "output_type": "stream",
     "text": [
      "AB\n",
      "CD\n",
      "발견(1개)\n"
     ]
    }
   ],
   "source": [
    "map_ = [['A','B','G','K'],['T','T','A','B'],['A','C','C','D']]\n",
    "pattern = [[0 for _ in range(2)] for _ in range(2)]\n",
    "for i in range(2):\n",
    "    pattern[i] = input()\n",
    "cnt = 0\n",
    "for i in range(2):\n",
    "    for j in range(3):\n",
    "        if map_[i][j] == pattern[0][0]:\n",
    "            if map_[i+1][j] == pattern[1][0]:\n",
    "                if map_[i][j+1] == pattern[0][1]:\n",
    "                    if map_[i+1][j+1] == pattern[1][1] and cnt == 0:\n",
    "                        print('발견(1개)')\n",
    "                        cnt+=1\n",
    "        elif i+j == 3 and cnt == 0:\n",
    "            print(\"미발견\")"
   ]
  },
  {
   "cell_type": "markdown",
   "id": "8ac9ca56",
   "metadata": {},
   "source": [
    "### 19.5-7 "
   ]
  },
  {
   "cell_type": "code",
   "execution_count": 47,
   "id": "998ff8a8",
   "metadata": {},
   "outputs": [
    {
     "name": "stdout",
     "output_type": "stream",
     "text": [
      "1 1\n",
      "1 0\n",
      "(0,1)\n"
     ]
    }
   ],
   "source": [
    "map_ = [[3,5,1],[3,8,1],[1,1,5]]\n",
    "bit = [[0 for _ in range(2)] for _ in range(2)]\n",
    "sum_map = [[0 for _ in range(2)] for _ in range(2)]\n",
    "for i in range(2):\n",
    "    bit[i] = list(map(int,input().split()))\n",
    "for i in range(2):\n",
    "    for j in range(2):\n",
    "        for k in range(2):\n",
    "            for l in range(2):\n",
    "                if bit[k][l] == 1:\n",
    "                    sum_map[i][j] = sum_map[i][j] + map_[i+k][j+l]\n",
    "max_sum = max(map(max, sum_map))\n",
    "for i in range(2):\n",
    "    for j in range(2):\n",
    "        if sum_map[i][j] == max_sum:\n",
    "            print(f'({i},{j})')"
   ]
  },
  {
   "cell_type": "markdown",
   "id": "b984eb62",
   "metadata": {},
   "source": [
    "### 20-2"
   ]
  },
  {
   "cell_type": "code",
   "execution_count": 13,
   "id": "eebf1a59",
   "metadata": {},
   "outputs": [
    {
     "name": "stdout",
     "output_type": "stream",
     "text": [
      "3\n",
      "3 2 1 0 1 2 3 "
     ]
    }
   ],
   "source": [
    "n = int(input())\n",
    "cnt = 0\n",
    "def countdown(n):\n",
    "    global cnt\n",
    "    if n == 0:\n",
    "        for i in range(cnt+1):\n",
    "            print(i,end=' ')\n",
    "    else:\n",
    "        cnt+=1\n",
    "        print(n,end=' ')\n",
    "        countdown(n-1)\n",
    "countdown(n)"
   ]
  },
  {
   "cell_type": "markdown",
   "id": "5ee6d748",
   "metadata": {},
   "source": [
    "### 20-3 "
   ]
  },
  {
   "cell_type": "code",
   "execution_count": 20,
   "id": "3c5ea2b2",
   "metadata": {},
   "outputs": [
    {
     "name": "stdout",
     "output_type": "stream",
     "text": [
      "1 2 3 4 5 6\n",
      "1 2 3 4 5 6 5 4 3 2 1 "
     ]
    }
   ],
   "source": [
    "mj = list(map(int, input().split()))\n",
    "n = 0\n",
    "def moonwalk(n):\n",
    "    if n == len(mj):\n",
    "        mj.reverse()\n",
    "        for i in range(1,n):\n",
    "            print(mj[i],end=' ')\n",
    "    else :\n",
    "        print(mj[n],end=' ')\n",
    "        moonwalk(n+1)\n",
    "        n+=1\n",
    "moonwalk(n)"
   ]
  },
  {
   "cell_type": "markdown",
   "id": "fbf0c952",
   "metadata": {},
   "source": [
    "### 20-4 "
   ]
  },
  {
   "cell_type": "code",
   "execution_count": 7,
   "id": "6cd967b1",
   "metadata": {},
   "outputs": [
    {
     "name": "stdout",
     "output_type": "stream",
     "text": [
      "2\n",
      "8 6 4 2 "
     ]
    }
   ],
   "source": [
    "n = int(input())\n",
    "n = n + 6\n",
    "cnt = 0\n",
    "def abc(n):\n",
    "    global cnt\n",
    "    if cnt < 4:\n",
    "        cnt+=1\n",
    "        print(n,end=' ')\n",
    "        abc(n-2)        \n",
    "abc(n)"
   ]
  },
  {
   "cell_type": "markdown",
   "id": "aee2bdea",
   "metadata": {},
   "source": [
    "### 20-5 "
   ]
  },
  {
   "cell_type": "code",
   "execution_count": 9,
   "id": "f9173869",
   "metadata": {},
   "outputs": [
    {
     "name": "stdout",
     "output_type": "stream",
     "text": [
      "abcde\n",
      "abcde\n",
      "edcba"
     ]
    }
   ],
   "source": [
    "lst = list(input())\n",
    "n = 0\n",
    "def call_lst(n):\n",
    "    if n == len(lst):\n",
    "        lst.reverse()\n",
    "        print('')\n",
    "        for i in range(n):\n",
    "            print(lst[i],end='')\n",
    "    else :\n",
    "        print(lst[n],end='')\n",
    "        call_lst(n+1)\n",
    "        n+=1\n",
    "call_lst(n)"
   ]
  },
  {
   "cell_type": "markdown",
   "id": "968cc522",
   "metadata": {},
   "source": [
    "### 20-6 "
   ]
  },
  {
   "cell_type": "code",
   "execution_count": 26,
   "id": "715da9de",
   "metadata": {},
   "outputs": [
    {
     "name": "stdout",
     "output_type": "stream",
     "text": [
      "3 9\n",
      "3 4 5 6 7 8 9 8 7 6 5 4 3 "
     ]
    }
   ],
   "source": [
    "a, b = map(int, input().split())\n",
    "n = a\n",
    "def call_ab(n):\n",
    "    if n == b:\n",
    "        for i in range(n-a+1):\n",
    "            print(n-i,end=' ')\n",
    "    else:\n",
    "        print(n,end=' ')\n",
    "        call_ab(n+1)\n",
    "        n+=1\n",
    "call_ab(n)       "
   ]
  },
  {
   "cell_type": "markdown",
   "id": "1f2d19e4",
   "metadata": {},
   "source": [
    "### 20-7 "
   ]
  },
  {
   "cell_type": "code",
   "execution_count": 52,
   "id": "49e5a676",
   "metadata": {},
   "outputs": [
    {
     "name": "stdout",
     "output_type": "stream",
     "text": [
      "3\n",
      "1 4 7 3 7 4 1 "
     ]
    }
   ],
   "source": [
    "lst = [3,7,4,1,9,4,6,2]\n",
    "a = int(input())\n",
    "n = 0\n",
    "lst_a = lst[:a+1]\n",
    "lst_a.reverse()\n",
    "def call_a(n):\n",
    "    if n == a+1:\n",
    "        lst_a.reverse()\n",
    "        for i in range(1,n):\n",
    "            print(lst_a[i],end=' ')\n",
    "    else :\n",
    "        print(lst_a[n],end=' ')\n",
    "        call_a(n+1)\n",
    "        n+=1\n",
    "call_a(n)"
   ]
  },
  {
   "cell_type": "markdown",
   "id": "bdc76797",
   "metadata": {},
   "source": [
    "### 20-8 "
   ]
  },
  {
   "cell_type": "code",
   "execution_count": 67,
   "id": "696c1d50",
   "metadata": {},
   "outputs": [
    {
     "name": "stdout",
     "output_type": "stream",
     "text": [
      "17\n",
      "1 2 4 8 17\n"
     ]
    }
   ],
   "source": [
    "n = int(input())\n",
    "lst_n = [0 for _ in range(100)]\n",
    "i = 0\n",
    "def dv_2(n):\n",
    "    global i\n",
    "    if n > 0:\n",
    "        lst_n[i] = n\n",
    "        i+=1\n",
    "        dv_2(n//2)\n",
    "dv_2(n)\n",
    "lst_n = list(set(lst_n))\n",
    "while 0 in lst_n:\n",
    "    lst_n.remove(0)   \n",
    "print(*lst_n)"
   ]
  },
  {
   "cell_type": "markdown",
   "id": "dcad8e25",
   "metadata": {},
   "source": [
    "### 20.5-2 "
   ]
  },
  {
   "cell_type": "code",
   "execution_count": 82,
   "id": "d862de8e",
   "metadata": {},
   "outputs": [
    {
     "name": "stdout",
     "output_type": "stream",
     "text": [
      "abcdef\n",
      "f\n",
      "ef\n",
      "def\n",
      "cdef\n",
      "bcdef\n",
      "abcdef\n"
     ]
    }
   ],
   "source": [
    "stc = list(input())\n",
    "for i in range(1,len(stc)+1):\n",
    "    for j in range(len(stc)-i,len(stc)):\n",
    "        print(stc[j],end='')\n",
    "    print(\"\")"
   ]
  },
  {
   "cell_type": "markdown",
   "id": "dfebc04f",
   "metadata": {},
   "source": [
    "### 20.5-3 "
   ]
  },
  {
   "cell_type": "code",
   "execution_count": 85,
   "id": "bfb64390",
   "metadata": {},
   "outputs": [
    {
     "name": "stdout",
     "output_type": "stream",
     "text": [
      "abcabc\n",
      "동일한문장\n"
     ]
    }
   ],
   "source": [
    "stc = list(input())\n",
    "stc_1 = stc[:len(stc)//2]\n",
    "stc_2 = stc[len(stc)//2:]\n",
    "if stc_1 == stc_2:\n",
    "    print('동일한문장')\n",
    "else :\n",
    "    print('다른문장')"
   ]
  },
  {
   "cell_type": "markdown",
   "id": "2dedd0ed",
   "metadata": {},
   "source": [
    "### 20.5-4 "
   ]
  },
  {
   "cell_type": "code",
   "execution_count": 94,
   "id": "4c090084",
   "metadata": {},
   "outputs": [
    {
     "name": "stdout",
     "output_type": "stream",
     "text": [
      "1 1 1 1\n",
      "1 0 0 1\n",
      "1 0 0 0\n",
      "0 0 1 0\n",
      "\n",
      "0 0 0 0\n",
      "0 0 0 0\n",
      "1 1 1 1\n",
      "0 1 0 0\n",
      "걸리다\n"
     ]
    }
   ],
   "source": [
    "bit_1 = [[0 for _ in range(4)] for _ in range(4)]\n",
    "blank = [0 for _ in range(4)]\n",
    "bit_2 = [[0 for _ in range(4)] for _ in range(4)]\n",
    "cnt = 0\n",
    "for i in range(4):\n",
    "    bit_1[i] = list(map(int, input().split()))\n",
    "blank = list(input())\n",
    "for i in range(4):\n",
    "    bit_2[i] = list(map(int, input().split()))\n",
    "for i in range(4):\n",
    "    for j in range(4):\n",
    "        if bit_1[i][j] + bit_2[i][j] > 1 and cnt == 0:\n",
    "            print('걸리다')\n",
    "            cnt+=1\n",
    "        elif i+j == 6 and cnt == 0:\n",
    "            print('걸리지않는다')"
   ]
  },
  {
   "cell_type": "markdown",
   "id": "ab31f4ee",
   "metadata": {},
   "source": [
    "### 20.5-5 "
   ]
  },
  {
   "cell_type": "code",
   "execution_count": 109,
   "id": "fefeb09b",
   "metadata": {},
   "outputs": [
    {
     "name": "stdout",
     "output_type": "stream",
     "text": [
      "A\n",
      "ZYXABCD"
     ]
    }
   ],
   "source": [
    "alp = input()\n",
    "alp_ascii = ord(alp)\n",
    "cnt = 0\n",
    "for i in range(ord(alp)-3,ord(alp)+4):\n",
    "    if i <=ord('Z') and i >=ord('A'):\n",
    "        print(chr(i),end='')\n",
    "    elif i > ord('Z'):\n",
    "        print(chr(ord('A')+cnt),end='')\n",
    "        cnt+=1\n",
    "    elif i < ord('A'):\n",
    "        print(chr(ord('Z')-cnt),end='')\n",
    "        cnt+=1"
   ]
  },
  {
   "cell_type": "markdown",
   "id": "5551cb24",
   "metadata": {},
   "source": [
    "### 20.5-6 "
   ]
  },
  {
   "cell_type": "code",
   "execution_count": 113,
   "id": "b835a5e2",
   "metadata": {},
   "outputs": [
    {
     "name": "stdout",
     "output_type": "stream",
     "text": [
      "3 5 7 1 4 2 8\n",
      "3 5 7 1 \n",
      "3 5 7 1 4 \n",
      "3 5 7 1 4 2 \n",
      "3 5 7 1 4 2 8 \n"
     ]
    }
   ],
   "source": [
    "lst = list(map(int, input().split()))\n",
    "for i in range(4):\n",
    "    for j in range(i+4):\n",
    "        print(lst[j],end=' ')\n",
    "    print(\"\")"
   ]
  },
  {
   "cell_type": "markdown",
   "id": "d5fa0fe7",
   "metadata": {},
   "source": [
    "### 20.5-7 "
   ]
  },
  {
   "cell_type": "code",
   "execution_count": 115,
   "id": "8a763c5d",
   "metadata": {
    "scrolled": true
   },
   "outputs": [
    {
     "name": "stdout",
     "output_type": "stream",
     "text": [
      "BBQWORLD\n",
      "B\n",
      "BB\n",
      "BBQ\n",
      "BBQW\n",
      "BBQWO\n",
      "BBQWOR\n",
      "BBQWORL\n",
      "BBQWORLD\n"
     ]
    }
   ],
   "source": [
    "lst = list(input())\n",
    "for i in range(1,len(lst)+1):\n",
    "    for j in range(i):\n",
    "        print(lst[j],end='')\n",
    "    print(\"\")"
   ]
  },
  {
   "cell_type": "markdown",
   "id": "d6ca7377",
   "metadata": {},
   "source": [
    "###  20.5-8"
   ]
  },
  {
   "cell_type": "code",
   "execution_count": 117,
   "id": "09ea704c",
   "metadata": {},
   "outputs": [
    {
     "name": "stdout",
     "output_type": "stream",
     "text": [
      "1 3 3 7\n",
      "2 3 4 6\n",
      "1 2 3 3 3 4 6 7\n"
     ]
    }
   ],
   "source": [
    "lst_1 = list(map(int, input().split()))\n",
    "lst_2 = list(map(int, input().split()))\n",
    "lst_3 = lst_1 + lst_2\n",
    "lst_3.sort()\n",
    "print(*lst_3)"
   ]
  },
  {
   "cell_type": "markdown",
   "id": "fb1a6c37",
   "metadata": {},
   "source": [
    "### 20.5-9 "
   ]
  },
  {
   "cell_type": "code",
   "execution_count": 149,
   "id": "6fbcb16b",
   "metadata": {},
   "outputs": [
    {
     "name": "stdout",
     "output_type": "stream",
     "text": [
      "2 3\n",
      "(1,2)\n",
      "(2,2)\n"
     ]
    }
   ],
   "source": [
    "lst = [[3,5,4,2,5],[3,3,3,2,1],[3,2,6,7,8],[9,1,1,3,2]]\n",
    "size_y, size_x = map(int,input().split())\n",
    "pattern = [[0 for _ in range(size_x)] for _ in range(size_y)]\n",
    "sum_pattern = [[0 for _ in range(5-size_x+1)] for _ in range(4-size_y+1)]\n",
    "for i in range(4-size_y+1):\n",
    "    for j in range(5-size_x+1):\n",
    "        for k in range(size_y):\n",
    "            for l in range(size_x):\n",
    "                sum_pattern[i][j] = sum_pattern[i][j] + lst[i+k][j+l]\n",
    "max_sum = max(map(max, sum_pattern))\n",
    "cnt = 0\n",
    "for i in range(4-size_y+1):\n",
    "    for j in range(5-size_x+1):\n",
    "        if sum_pattern[i][j] == max_sum and cnt == 0:\n",
    "            print(f'({i},{j})')\n",
    "            cnt+=1"
   ]
  },
  {
   "cell_type": "markdown",
   "id": "42305f91",
   "metadata": {},
   "source": [
    "### 21-2 "
   ]
  },
  {
   "cell_type": "code",
   "execution_count": 151,
   "id": "28e5ebdd",
   "metadata": {},
   "outputs": [
    {
     "name": "stdout",
     "output_type": "stream",
     "text": [
      "qlqlaqkq\n",
      "tkaruqtkf\n",
      "LOGIN\n"
     ]
    }
   ],
   "source": [
    "ID = list('qlqlaqkq')\n",
    "PW = list('tkaruqtkf')\n",
    "ID_ = list(input())\n",
    "PW_ = list(input())\n",
    "if ID == ID_ and PW == PW_:\n",
    "    print(\"LOGIN\")\n",
    "else :\n",
    "    print(\"INVALID\")"
   ]
  },
  {
   "cell_type": "markdown",
   "id": "cbc75a69",
   "metadata": {},
   "source": [
    "### 21-4 "
   ]
  },
  {
   "cell_type": "code",
   "execution_count": 160,
   "id": "d014f541",
   "metadata": {},
   "outputs": [
    {
     "name": "stdout",
     "output_type": "stream",
     "text": [
      "4\n",
      "0123443442344344123443442344344"
     ]
    }
   ],
   "source": [
    "n1 = int(input())\n",
    "n2 = 0\n",
    "def levels(n2):\n",
    "    if n2 <= n1:\n",
    "        level = n2\n",
    "        print(level,end='')\n",
    "        levels(n2+1)\n",
    "        levels(n2+1)\n",
    "levels(n2)"
   ]
  },
  {
   "cell_type": "markdown",
   "id": "e35afb69",
   "metadata": {},
   "source": [
    "### 21-5 "
   ]
  },
  {
   "cell_type": "code",
   "execution_count": 173,
   "id": "da60c335",
   "metadata": {},
   "outputs": [
    {
     "name": "stdout",
     "output_type": "stream",
     "text": [
      "KFC\n",
      "ABCDEFG\n",
      "BBQ\n",
      "ABCDEFG\n",
      "KFC\n",
      "BBQ\n"
     ]
    }
   ],
   "source": [
    "lst = [[0 for _ in range(10)] for _ in range(3)]\n",
    "lst_len = [0 for _ in range(3)]\n",
    "for i in range(3):\n",
    "    lst[i] = list(input())\n",
    "    lst_len[i] = len(lst[i])\n",
    "tmp = lst[lst_len.index(max(lst_len))]\n",
    "lst[lst_len.index(max(lst_len))] = lst[0]\n",
    "lst[0] = tmp\n",
    "for i in lst:\n",
    "    print(*i,sep='')"
   ]
  },
  {
   "cell_type": "markdown",
   "id": "4a0f5d52",
   "metadata": {},
   "source": [
    "### 21-6"
   ]
  },
  {
   "cell_type": "code",
   "execution_count": 34,
   "id": "957be85c",
   "metadata": {},
   "outputs": [
    {
     "name": "stdout",
     "output_type": "stream",
     "text": [
      "4 3\n",
      "85\n"
     ]
    }
   ],
   "source": [
    "n3, n1 = map(int, input().split())\n",
    "n2 = 0\n",
    "cnt = 0\n",
    "def levels(n2):\n",
    "    global cnt\n",
    "    if n2 <= n1:\n",
    "        cnt+=1\n",
    "        for i in range(n3):\n",
    "            levels(n2+1)\n",
    "levels(n2)\n",
    "print(cnt)"
   ]
  },
  {
   "cell_type": "markdown",
   "id": "87cb0235",
   "metadata": {},
   "source": [
    "### 21-7 "
   ]
  },
  {
   "cell_type": "code",
   "execution_count": 43,
   "id": "5e04f46f",
   "metadata": {},
   "outputs": [
    {
     "name": "stdout",
     "output_type": "stream",
     "text": [
      "ABCDE\n",
      "5 4 3 2 1 2 3 4 5 "
     ]
    }
   ],
   "source": [
    "lst = list(input())\n",
    "n = len(lst)\n",
    "def call_alp(n):\n",
    "    for i in range(0,n):\n",
    "        print(n-i,end=' ')\n",
    "    for i in range(2,n+1):\n",
    "        print(i,end=' ')\n",
    "call_alp(n)"
   ]
  },
  {
   "cell_type": "markdown",
   "id": "9190ec35",
   "metadata": {},
   "source": [
    "### 21-8 "
   ]
  },
  {
   "cell_type": "code",
   "execution_count": 53,
   "id": "90752223",
   "metadata": {
    "scrolled": true
   },
   "outputs": [
    {
     "name": "stdout",
     "output_type": "stream",
     "text": [
      "3\n",
      "down\n",
      "down\n",
      "click\n",
      "7,5\n"
     ]
    }
   ],
   "source": [
    "a = int(input())\n",
    "order_list = [0 for _ in range(a)]\n",
    "mouse_x = 5\n",
    "mouse_y = 5\n",
    "for i in range(a):\n",
    "    order_list[i] = input()\n",
    "for i in range(a):\n",
    "    if order_list[i] == 'up':\n",
    "        mouse_y = mouse_y - 1\n",
    "    elif order_list[i] == 'down':\n",
    "        mouse_y = mouse_y + 1\n",
    "    elif order_list[i] == 'left':\n",
    "        mouse_x = mouse_x - 1\n",
    "    elif order_list[i] == 'right':\n",
    "        mouse_x = mouse_x + 1\n",
    "    elif order_list[i] == 'click':\n",
    "        print(f'{mouse_y},{mouse_x}')"
   ]
  },
  {
   "cell_type": "markdown",
   "id": "26ee2225",
   "metadata": {},
   "source": [
    "### 21.5-1"
   ]
  },
  {
   "cell_type": "code",
   "execution_count": 55,
   "id": "6506f420",
   "metadata": {},
   "outputs": [
    {
     "name": "stdout",
     "output_type": "stream",
     "text": [
      "DTK\n",
      "EAP\n",
      "CQG\n",
      "PHB\n",
      "3\n"
     ]
    }
   ],
   "source": [
    "lst = [[0 for _ in range(3)] for _ in range(4)]\n",
    "lst_ab = [[0 for _ in range(2)] for _ in range(2)]\n",
    "for i in range(4):\n",
    "    lst[i] = list(input())\n",
    "for i in range(4):\n",
    "    for j in range(3):\n",
    "        if lst[i][j] == 'A':\n",
    "            lst_ab[0][0] = i\n",
    "            lst_ab[0][1] = j\n",
    "        if lst[i][j] == 'B':\n",
    "            lst_ab[1][0] = i\n",
    "            lst_ab[1][1] = j\n",
    "length_ab = abs(lst_ab[0][0] - lst_ab[1][0]) + abs(lst_ab[0][1] - lst_ab[1][1])\n",
    "print(length_ab)"
   ]
  },
  {
   "cell_type": "markdown",
   "id": "e36c7b70",
   "metadata": {},
   "source": [
    "### 21.5-2 "
   ]
  },
  {
   "cell_type": "code",
   "execution_count": 56,
   "id": "512a5195",
   "metadata": {},
   "outputs": [
    {
     "name": "stdout",
     "output_type": "stream",
     "text": [
      "2\n",
      "5\n"
     ]
    }
   ],
   "source": [
    "lst = [[3,4,1,5],[3,4,1,3],[5,2,3,6]]\n",
    "sum_lst = [0 for _ in range(4)]\n",
    "sl_index = int(input())\n",
    "for i in range(4):\n",
    "    for j in range(3):\n",
    "        sum_lst[i] = sum_lst[i] + lst[j][i]\n",
    "print(sum_lst[sl_index])"
   ]
  },
  {
   "cell_type": "markdown",
   "id": "24254e5c",
   "metadata": {},
   "source": [
    "### 21.5-3"
   ]
  },
  {
   "cell_type": "code",
   "execution_count": 80,
   "id": "81f49ef4",
   "metadata": {
    "scrolled": true
   },
   "outputs": [
    {
     "name": "stdout",
     "output_type": "stream",
     "text": [
      "APKDB\n",
      "A B\n",
      "A#K#B\n"
     ]
    }
   ],
   "source": [
    "lst_1 = list(input())\n",
    "char_1, char_2 = input().split()\n",
    "lst_2 = lst_1\n",
    "for i in range(len(lst_1)):\n",
    "    if lst_1[i] == char_1:\n",
    "        if i < len(lst_1)-1 and i > 0:\n",
    "            lst_2[i-1] = lst_2[i+1] = '#'\n",
    "        elif i == 0:\n",
    "            lst_2[i+1] = '#'\n",
    "        else :\n",
    "            lst_2[i-1] = '#'\n",
    "    if lst_1[i] == char_2:\n",
    "        if i < len(lst_1)-1 and i > 0:\n",
    "            lst_2[i-1] = lst_2[i+1] = '#'\n",
    "        elif i == 0:\n",
    "            lst_2[i+1] = '#'\n",
    "        else :\n",
    "            lst_2[i-1] = '#'\n",
    "print(*lst_2,sep='')"
   ]
  },
  {
   "cell_type": "markdown",
   "id": "7ea5113d",
   "metadata": {},
   "source": [
    "### 21.5-4 "
   ]
  },
  {
   "cell_type": "code",
   "execution_count": 84,
   "id": "6308da0b",
   "metadata": {
    "scrolled": true
   },
   "outputs": [
    {
     "name": "stdout",
     "output_type": "stream",
     "text": [
      "A_C\n",
      "_K_\n",
      "T__\n",
      "___\n",
      "___\n",
      "___\n",
      "A__\n",
      "TKC\n"
     ]
    }
   ],
   "source": [
    "spaceship = [[0 for _ in range(3)] for _ in range(4)]\n",
    "for i in range(4):\n",
    "    spaceship[i] = list(input())\n",
    "for k in range(4):\n",
    "    for j in range(3):\n",
    "        for i in range(3,0,-1):\n",
    "            if spaceship[i][j] == '_':\n",
    "                tmp = spaceship[i][j]\n",
    "                spaceship[i][j] = spaceship[i-1][j]\n",
    "                spaceship[i-1][j] = tmp\n",
    "for i in spaceship:\n",
    "    print(*i,sep='')"
   ]
  },
  {
   "cell_type": "markdown",
   "id": "9230d950",
   "metadata": {},
   "source": [
    "### 21.5-5 "
   ]
  },
  {
   "cell_type": "code",
   "execution_count": 85,
   "id": "9e21a4bb",
   "metadata": {},
   "outputs": [
    {
     "name": "stdout",
     "output_type": "stream",
     "text": [
      "1 9 3 1 0 1 0 7\n",
      "0 0 1 1 1 3 7 9\n"
     ]
    }
   ],
   "source": [
    "vect = list(map(int,input().split()))\n",
    "vect.sort()\n",
    "print(*vect)"
   ]
  },
  {
   "cell_type": "markdown",
   "id": "d03332c1",
   "metadata": {},
   "source": [
    "### 21.5-6 "
   ]
  },
  {
   "cell_type": "code",
   "execution_count": 86,
   "id": "35af6962",
   "metadata": {},
   "outputs": [
    {
     "name": "stdout",
     "output_type": "stream",
     "text": [
      "3 4\n",
      "1 5 #\n",
      "# 5 5\n",
      "# # 5\n",
      "# 6 2\n"
     ]
    }
   ],
   "source": [
    "lst = [[1,5,3],[4,5,5],[3,3,5],[4,6,2]]\n",
    "a, b = map(int,input().split())\n",
    "for i in range(4):\n",
    "    for j in range(3):\n",
    "        if lst[i][j] >= a and lst[i][j] <= b:\n",
    "            lst[i][j] = 0\n",
    "for i in range(4):\n",
    "    for j in range(3):\n",
    "        if lst[i][j] == 0:\n",
    "            lst[i][j] = '#'\n",
    "for i in lst:\n",
    "    print(*i)"
   ]
  },
  {
   "cell_type": "markdown",
   "id": "22d3e759",
   "metadata": {},
   "source": [
    "### 22-1"
   ]
  },
  {
   "cell_type": "code",
   "execution_count": 74,
   "id": "90f231ff",
   "metadata": {},
   "outputs": [
    {
     "name": "stdout",
     "output_type": "stream",
     "text": [
      "11\n",
      "12\n",
      "13\n"
     ]
    }
   ],
   "source": [
    "n1 = 2\n",
    "n2 = 3\n",
    "def levelpath(n3, n4):\n",
    "    global cnt_n1, cnt_n2\n",
    "    cnt_n1 = cnt_n2 = 0\n",
    "    if n3 < n1:\n",
    "        levelpath(n3+1, n4)\n",
    "        cnt_n1+=1\n",
    "        if n4 < n2:\n",
    "            levelpath(n3, n4+1)\n",
    "            cnt_n2+=1\n",
    "            print(f'{cnt_n1}{cnt_n2}')\n",
    "levelpath(1, 0)"
   ]
  },
  {
   "cell_type": "code",
   "execution_count": 100,
   "id": "706ceb84",
   "metadata": {},
   "outputs": [
    {
     "name": "stdout",
     "output_type": "stream",
     "text": [
      "1 1\n",
      "2 2\n",
      "3 3\n"
     ]
    }
   ],
   "source": [
    "n1 = 3\n",
    "n2 = 3\n",
    "def levelpath(n3, n4):\n",
    "    global cnt_n1, cnt_n2\n",
    "    cnt_n1 = cnt_n2 = 0\n",
    "    if n3 < n1:\n",
    "        levelpath(n3+1, n4)\n",
    "        cnt_n1+=1\n",
    "        if n4 < n2 :\n",
    "            cnt_n2+=1\n",
    "            print(cnt_n1,cnt_n2)\n",
    "levelpath(0, 0)"
   ]
  },
  {
   "cell_type": "markdown",
   "id": "5dfc029d",
   "metadata": {},
   "source": [
    "### 22-2 "
   ]
  },
  {
   "cell_type": "code",
   "execution_count": 84,
   "id": "c32fd036",
   "metadata": {},
   "outputs": [
    {
     "name": "stdout",
     "output_type": "stream",
     "text": [
      "aaa\n",
      "bbb\n",
      "ccc\n",
      "BAD\n"
     ]
    }
   ],
   "source": [
    "stc = [0 for _ in range(3)]\n",
    "for i in range(3):\n",
    "    stc[i] = list(input())\n",
    "if stc[0] == stc[1] and stc[0] == stc[2]:\n",
    "    print(\"WOW\")\n",
    "elif stc[0] != stc[1] and stc[0] != stc[2] and stc[1] != stc[2]:\n",
    "    print(\"BAD\")\n",
    "else :\n",
    "    print(\"GOOD\")"
   ]
  },
  {
   "cell_type": "markdown",
   "id": "98037db0",
   "metadata": {},
   "source": [
    "### 22-4"
   ]
  },
  {
   "cell_type": "code",
   "execution_count": 113,
   "id": "f214ee48",
   "metadata": {},
   "outputs": [
    {
     "name": "stdout",
     "output_type": "stream",
     "text": [
      "up\n",
      "down\n",
      "down\n",
      "down\n",
      "down\n",
      "B3\n"
     ]
    }
   ],
   "source": [
    "stc = [0 for _ in range(5)]\n",
    "for i in range(5):\n",
    "    stc[i] = input()\n",
    "man = 1\n",
    "for i in range(5):\n",
    "    if stc[i] == 'up':\n",
    "        man = man + 1\n",
    "    elif stc[i] == 'down':\n",
    "        man = man - 1\n",
    "if man > 0 :\n",
    "    print(man)\n",
    "else :\n",
    "    print(f'B{abs(man-1)}')"
   ]
  },
  {
   "cell_type": "markdown",
   "id": "8c4efafb",
   "metadata": {},
   "source": [
    "### 22-5"
   ]
  },
  {
   "cell_type": "code",
   "execution_count": 127,
   "id": "b47a377b",
   "metadata": {},
   "outputs": [
    {
     "name": "stdout",
     "output_type": "stream",
     "text": [
      "2\n",
      "1111\n",
      "1112\n",
      "1121\n",
      "1122\n",
      "1211\n",
      "1212\n",
      "1221\n",
      "1222\n",
      "2111\n",
      "2112\n",
      "2121\n",
      "2122\n",
      "2211\n",
      "2212\n",
      "2221\n",
      "2222\n"
     ]
    }
   ],
   "source": [
    "from itertools import product\n",
    "\n",
    "n = int(input())\n",
    "dataset = [0 for _ in range(n)]\n",
    "for i in range(n):\n",
    "    dataset[i] = i+1\n",
    "clean_list = list(product(dataset, repeat = 4))\n",
    "for i in clean_list:\n",
    "    print(*i,sep='')"
   ]
  },
  {
   "cell_type": "markdown",
   "id": "b90ca403",
   "metadata": {},
   "source": [
    "### 22-6"
   ]
  },
  {
   "cell_type": "code",
   "execution_count": 133,
   "id": "52da6541",
   "metadata": {},
   "outputs": [
    {
     "name": "stdout",
     "output_type": "stream",
     "text": [
      "apple\n",
      "microsoft\n",
      "google\n",
      "xioami\n",
      "긴문장:1\n",
      "짧은문장:0\n"
     ]
    }
   ],
   "source": [
    "stc = [0 for _ in range(4)]\n",
    "stc_len = [0 for _ in range(4)]\n",
    "for i in range(4):\n",
    "    stc[i] = list(input())\n",
    "for i in range(4):\n",
    "    stc_len[i] = len(stc[i])\n",
    "print(f'긴문장:{stc_len.index(max(stc_len))}')\n",
    "print(f'짧은문장:{stc_len.index(min(stc_len))}')"
   ]
  },
  {
   "cell_type": "markdown",
   "id": "dd0668dc",
   "metadata": {},
   "source": [
    "### 22-8"
   ]
  },
  {
   "cell_type": "code",
   "execution_count": 134,
   "id": "2c31b420",
   "metadata": {},
   "outputs": [
    {
     "name": "stdout",
     "output_type": "stream",
     "text": [
      "1\n",
      "MAX=6\n",
      "MIN=2\n"
     ]
    }
   ],
   "source": [
    "lst_0 = [[2,4],[1,5]]\n",
    "lst_1 = [[2,3],[3,6]]\n",
    "lst_2 = [[7,3],[1,5]]\n",
    "n = int(input())\n",
    "if n == 0:\n",
    "    print(f'MAX={max(map(max, lst_0))}')\n",
    "    print(f'MIN={min(map(min, lst_0))}')\n",
    "elif n == 1:\n",
    "    print(f'MAX={max(map(max, lst_1))}')\n",
    "    print(f'MIN={min(map(min, lst_1))}')\n",
    "else :\n",
    "    print(f'MAX={max(map(max, lst_2))}')\n",
    "    print(f'MIN={min(map(min, lst_2))}')"
   ]
  },
  {
   "cell_type": "markdown",
   "id": "972f6e5f",
   "metadata": {},
   "source": [
    "### 22-9"
   ]
  },
  {
   "cell_type": "code",
   "execution_count": 142,
   "id": "d15ed17f",
   "metadata": {},
   "outputs": [
    {
     "name": "stdout",
     "output_type": "stream",
     "text": [
      "Jason\n",
      "암호해제\n"
     ]
    }
   ],
   "source": [
    "PW_lst = ['Jason','Dr.tom','EXEXI','GK12P','POW']\n",
    "PW = input()\n",
    "cnt = 0\n",
    "for i in range(len(PW_lst)):\n",
    "    if PW_lst[i] == PW:\n",
    "        print(\"암호해제\")\n",
    "        cnt+=1\n",
    "    elif i == len(PW_lst) - 1 and cnt == 0:\n",
    "        print(\"암호틀림\")"
   ]
  },
  {
   "cell_type": "markdown",
   "id": "4bb0130b",
   "metadata": {},
   "source": [
    "### 22.5-1"
   ]
  },
  {
   "cell_type": "code",
   "execution_count": 145,
   "id": "3789bfb5",
   "metadata": {},
   "outputs": [
    {
     "name": "stdout",
     "output_type": "stream",
     "text": [
      "D\n",
      "미발견\n"
     ]
    }
   ],
   "source": [
    "lst = [[['A','T','B'],['C','C','B']],[['A','A','A'],['B','B','C']]]\n",
    "char = input()\n",
    "cnt = 0\n",
    "for i in range(2):\n",
    "    for j in range(2):\n",
    "        for k in range(3):\n",
    "            if lst[i][j][k] == char:\n",
    "                print('발견')\n",
    "                cnt+=1\n",
    "            elif i+j+k == 4 and cnt == 0:\n",
    "                print(\"미발견\")"
   ]
  },
  {
   "cell_type": "markdown",
   "id": "d11a37e0",
   "metadata": {},
   "source": [
    "### 22.5-2"
   ]
  },
  {
   "cell_type": "code",
   "execution_count": 151,
   "id": "42063af9",
   "metadata": {},
   "outputs": [
    {
     "name": "stdout",
     "output_type": "stream",
     "text": [
      "3\n",
      "xxx\n",
      "xxo\n",
      "xox\n",
      "xoo\n",
      "oxx\n",
      "oxo\n",
      "oox\n",
      "ooo\n"
     ]
    }
   ],
   "source": [
    "from itertools import product\n",
    "\n",
    "n = int(input())\n",
    "dataset = ['x','o']\n",
    "meet_list = list(product(dataset, repeat = n))\n",
    "for i in meet_list:\n",
    "    print(*i,sep='')"
   ]
  },
  {
   "cell_type": "markdown",
   "id": "0390ccc7",
   "metadata": {},
   "source": [
    "### 22.5-3"
   ]
  },
  {
   "cell_type": "code",
   "execution_count": 157,
   "id": "9864a07b",
   "metadata": {},
   "outputs": [
    {
     "name": "stdout",
     "output_type": "stream",
     "text": [
      "A\n",
      "AAA\n",
      "AAA\n",
      "AAA\n",
      "\n",
      "BBB\n",
      "BBB\n",
      "BBB\n",
      "\n",
      "CCC\n",
      "CCC\n",
      "CCC\n",
      "\n"
     ]
    }
   ],
   "source": [
    "lst = [[[0 for _ in range(3)] for _ in range(3)] for _ in range(3)]\n",
    "char = input()\n",
    "for i in range(3):\n",
    "    for j in range(3):\n",
    "        for k in range(3):\n",
    "            lst[i][j][k] = chr(ord(char)+i)\n",
    "for i in range(3):\n",
    "    for j in range(3):\n",
    "        for k in range(3):\n",
    "            print(lst[i][j][k],end='')\n",
    "        print('')\n",
    "    print('')"
   ]
  },
  {
   "cell_type": "markdown",
   "id": "d09c2a8a",
   "metadata": {},
   "source": [
    "### 22.5-4"
   ]
  },
  {
   "cell_type": "code",
   "execution_count": 159,
   "id": "aab99cf7",
   "metadata": {},
   "outputs": [
    {
     "name": "stdout",
     "output_type": "stream",
     "text": [
      "1 3\n",
      "1 1 1 \n",
      "3 3 3 \n",
      "\n",
      "1 1 1 \n",
      "3 3 3 \n",
      "\n",
      "1 1 1 \n",
      "3 3 3 \n",
      "\n"
     ]
    }
   ],
   "source": [
    "lst = [[[0 for _ in range(3)] for _ in range(2)] for _ in range(3)]\n",
    "a, b = map(int, input().split())\n",
    "for i in range(3):\n",
    "    for j in range(2):\n",
    "        for k in range(3):\n",
    "            if j == 0:\n",
    "                lst[i][j][k] = a\n",
    "            else :\n",
    "                lst[i][j][k] = b\n",
    "for i in range(3):\n",
    "    for j in range(2):\n",
    "        for k in range(3):\n",
    "            print(lst[i][j][k],end=' ')\n",
    "        print('')\n",
    "    print('')"
   ]
  },
  {
   "cell_type": "markdown",
   "id": "c4c55baa",
   "metadata": {},
   "source": [
    "### 22.5-5"
   ]
  },
  {
   "cell_type": "code",
   "execution_count": 182,
   "id": "97065916",
   "metadata": {},
   "outputs": [
    {
     "name": "stdout",
     "output_type": "stream",
     "text": [
      "A 5\n",
      "P\n"
     ]
    }
   ],
   "source": [
    "map_ = [[3,5,4,2,2,3],[1,3,3,3,4,2],[5,4,4,2,3,5]]\n",
    "price = ['T','P','G','K','C']\n",
    "input_char, input_num = input().split()\n",
    "input_num = int(input_num)\n",
    "if input_char == 'A':\n",
    "    input_char = 0\n",
    "elif input_char == 'B':\n",
    "    input_char = 1\n",
    "elif input_char == 'C':\n",
    "    input_char = 2\n",
    "price_tag = map_[input_char][input_num-1]-1\n",
    "print(price[price_tag])"
   ]
  },
  {
   "cell_type": "markdown",
   "id": "afc7764a",
   "metadata": {},
   "source": [
    "### 22.5-6"
   ]
  },
  {
   "cell_type": "code",
   "execution_count": 203,
   "id": "d9090347",
   "metadata": {
    "scrolled": true
   },
   "outputs": [
    {
     "name": "stdout",
     "output_type": "stream",
     "text": [
      "kfcmclo\n",
      "zzzzz\n",
      "abc\n",
      "mincoding\n",
      "abc\n",
      "zzzzz\n",
      "kfcmclo\n",
      "mincoding\n"
     ]
    }
   ],
   "source": [
    "lst = [[0 for _ in range(10)] for _ in range(4)]\n",
    "len_lst = [0 for _ in range(4)]\n",
    "lst_n = [[0 for _ in range(10)] for _ in range(4)]\n",
    "for i in range(4):\n",
    "    lst[i] = list(input())\n",
    "    len_lst[i] = len(lst[i])\n",
    "len_lst.sort()\n",
    "for i in range(4):\n",
    "    for j in range(4):\n",
    "        if len_lst[i] == len(lst[j]):\n",
    "            lst_n[i] = lst[j]\n",
    "for i in lst_n:\n",
    "    print(*i,sep='')"
   ]
  },
  {
   "cell_type": "markdown",
   "id": "586290da",
   "metadata": {},
   "source": [
    "### 22.5-7"
   ]
  },
  {
   "cell_type": "code",
   "execution_count": 204,
   "id": "39da4db3",
   "metadata": {
    "scrolled": true
   },
   "outputs": [
    {
     "name": "stdout",
     "output_type": "stream",
     "text": [
      "## \n",
      "# #\n",
      "# #\n",
      "# #\n",
      "## \n"
     ]
    }
   ],
   "source": [
    "lst_0 = [[' ','#',' '],['#',' ','#'],['#','#','#'],['#',' ','#'],['#',' ','#']]\n",
    "lst_1 = [['#','#','#'],['#',' ','#'],['#','#','#'],['#',' ','#'],['#','#','#']]\n",
    "lst_2 = [['#','#','#'],['#',' ','#'],['#',' ',' '],['#',' ','#'],['#','#','#']]\n",
    "lst_3 = [['#','#',' '],['#',' ','#'],['#',' ','#'],['#',' ','#'],['#','#',' ']]\n",
    "n = int(input())\n",
    "if n == 0:\n",
    "    for i in lst_0:\n",
    "        print(*i,sep='')    \n",
    "elif n == 1:\n",
    "    for i in lst_1:\n",
    "        print(*i,sep='')   \n",
    "elif n == 2:\n",
    "    for i in lst_2:\n",
    "        print(*i,sep='') \n",
    "elif n == 3:\n",
    "    for i in lst_3:\n",
    "        print(*i,sep='')"
   ]
  },
  {
   "cell_type": "code",
   "execution_count": null,
   "id": "6b9e8dd8",
   "metadata": {},
   "outputs": [],
   "source": []
  },
  {
   "cell_type": "code",
   "execution_count": null,
   "id": "343247d4",
   "metadata": {},
   "outputs": [],
   "source": []
  },
  {
   "cell_type": "code",
   "execution_count": null,
   "id": "e19d65e8",
   "metadata": {},
   "outputs": [],
   "source": []
  },
  {
   "cell_type": "code",
   "execution_count": null,
   "id": "c7290938",
   "metadata": {},
   "outputs": [],
   "source": []
  },
  {
   "cell_type": "code",
   "execution_count": null,
   "id": "7b672d3f",
   "metadata": {},
   "outputs": [],
   "source": []
  },
  {
   "cell_type": "code",
   "execution_count": null,
   "id": "520eb66d",
   "metadata": {},
   "outputs": [],
   "source": []
  },
  {
   "cell_type": "code",
   "execution_count": null,
   "id": "9fc45fd7",
   "metadata": {},
   "outputs": [],
   "source": []
  },
  {
   "cell_type": "code",
   "execution_count": null,
   "id": "9d54563c",
   "metadata": {},
   "outputs": [],
   "source": []
  },
  {
   "cell_type": "code",
   "execution_count": null,
   "id": "986c843a",
   "metadata": {},
   "outputs": [],
   "source": []
  },
  {
   "cell_type": "code",
   "execution_count": null,
   "id": "1d481116",
   "metadata": {},
   "outputs": [],
   "source": []
  },
  {
   "cell_type": "code",
   "execution_count": null,
   "id": "923ab8b1",
   "metadata": {},
   "outputs": [],
   "source": []
  },
  {
   "cell_type": "code",
   "execution_count": null,
   "id": "8ca6adb2",
   "metadata": {},
   "outputs": [],
   "source": []
  }
 ],
 "metadata": {
  "kernelspec": {
   "display_name": "Python 3 (ipykernel)",
   "language": "python",
   "name": "python3"
  },
  "language_info": {
   "codemirror_mode": {
    "name": "ipython",
    "version": 3
   },
   "file_extension": ".py",
   "mimetype": "text/x-python",
   "name": "python",
   "nbconvert_exporter": "python",
   "pygments_lexer": "ipython3",
   "version": "3.9.13"
  }
 },
 "nbformat": 4,
 "nbformat_minor": 5
}
