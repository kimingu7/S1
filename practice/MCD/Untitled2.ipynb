{
 "cells": [
  {
   "cell_type": "code",
   "execution_count": 3,
   "id": "150cdb25",
   "metadata": {},
   "outputs": [
    {
     "name": "stdout",
     "output_type": "stream",
     "text": [
      "1 4 2 1 6\n",
      "합은 14입니다\n"
     ]
    }
   ],
   "source": [
    "lst = list(map(int,input().split()))\n",
    "sum = 0\n",
    "for i in range(len(lst)):\n",
    "    sum = sum + lst[i]\n",
    "print(\"합은 {}입니다\".format(sum))"
   ]
  },
  {
   "cell_type": "code",
   "execution_count": 7,
   "id": "212138b0",
   "metadata": {},
   "outputs": [
    {
     "name": "stdout",
     "output_type": "stream",
     "text": [
      "2 5\n",
      "2345"
     ]
    }
   ],
   "source": [
    "arr = [0,0,0,0,0,0]\n",
    "a, b = map(int,input().split())\n",
    "t = b - a + 1\n",
    "k = 0\n",
    "for i in range(t):\n",
    "    arr[i] = a + k\n",
    "    k+=1\n",
    "for i in range(t):\n",
    "    print(arr[i],end='')"
   ]
  },
  {
   "cell_type": "code",
   "execution_count": 9,
   "id": "dc6ab918",
   "metadata": {},
   "outputs": [
    {
     "name": "stdout",
     "output_type": "stream",
     "text": [
      "A B C\n",
      "65\n",
      "66\n",
      "67\n"
     ]
    }
   ],
   "source": [
    "a, b, c = input().split()\n",
    "print(ord(a))\n",
    "print(ord(b))\n",
    "print(ord(c))"
   ]
  },
  {
   "cell_type": "code",
   "execution_count": 12,
   "id": "391c65d1",
   "metadata": {},
   "outputs": [
    {
     "name": "stdout",
     "output_type": "stream",
     "text": [
      "3\n",
      "1 2 3 4 5 \n",
      "1 2 3 4 5 \n",
      "1 2 3 4 5 \n"
     ]
    }
   ],
   "source": [
    "a = int(input())\n",
    "for i in range(a):\n",
    "    for i in range(5):\n",
    "        print(i+1,end=' ')\n",
    "    print('')"
   ]
  },
  {
   "cell_type": "code",
   "execution_count": 14,
   "id": "14f04c9e",
   "metadata": {},
   "outputs": [
    {
     "name": "stdout",
     "output_type": "stream",
     "text": [
      "$:36\n",
      "@:64\n",
      "D:68\n",
      "A:65\n",
      "9:57\n",
      "#:35\n"
     ]
    }
   ],
   "source": [
    "char = ['$','@','D','A','9','#']\n",
    "for i in range(len(char)):\n",
    "    print(\"{}:{}\".format(char[i],ord(char[i])))"
   ]
  },
  {
   "cell_type": "code",
   "execution_count": 15,
   "id": "3fe6f4bd",
   "metadata": {},
   "outputs": [
    {
     "name": "stdout",
     "output_type": "stream",
     "text": [
      "2\n",
      "B T K A\n",
      "B T K A\n"
     ]
    }
   ],
   "source": [
    "lst = ['B','T','K','A']\n",
    "a = int(input())\n",
    "for i in range(a):\n",
    "    print(*lst,sep=' ')"
   ]
  },
  {
   "cell_type": "code",
   "execution_count": 20,
   "id": "9b185026",
   "metadata": {},
   "outputs": [
    {
     "name": "stdout",
     "output_type": "stream",
     "text": [
      "a\n",
      "소문자입니다\n"
     ]
    }
   ],
   "source": [
    "a = input()\n",
    "if a.isupper() == True:\n",
    "    print(\"대문자입니다\")\n",
    "elif a.islower() == True:\n",
    "    print(\"소문자입니다\")"
   ]
  },
  {
   "cell_type": "code",
   "execution_count": 23,
   "id": "29825dc0",
   "metadata": {},
   "outputs": [
    {
     "name": "stdout",
     "output_type": "stream",
     "text": [
      "2\n",
      "##\n",
      "##\n"
     ]
    }
   ],
   "source": [
    "a = int(input())\n",
    "for i in range(a):\n",
    "    for i in range(a):\n",
    "        print(\"#\",end='')\n",
    "    print(\"\")"
   ]
  },
  {
   "cell_type": "code",
   "execution_count": 25,
   "id": "a2520ef1",
   "metadata": {
    "scrolled": true
   },
   "outputs": [
    {
     "name": "stdout",
     "output_type": "stream",
     "text": [
      "8\n",
      "13\n"
     ]
    }
   ],
   "source": [
    "char = input()\n",
    "char_new = int(char)\n",
    "if char_new >= 0 and char_new <= 9 :\n",
    "    char_new = char_new + 5\n",
    "print(char_new)"
   ]
  },
  {
   "cell_type": "code",
   "execution_count": 32,
   "id": "61e2f7ef",
   "metadata": {},
   "outputs": [
    {
     "name": "stdout",
     "output_type": "stream",
     "text": [
      "D\n",
      "ABCD"
     ]
    }
   ],
   "source": [
    "char = input()\n",
    "char_new = ord(char)\n",
    "for i in range(ord('A'),ord(char)+1):\n",
    "    print(chr(i),end='')"
   ]
  },
  {
   "cell_type": "code",
   "execution_count": 34,
   "id": "341e8990",
   "metadata": {},
   "outputs": [
    {
     "name": "stdout",
     "output_type": "stream",
     "text": [
      "a\n",
      "A\n"
     ]
    }
   ],
   "source": [
    "char = input()\n",
    "char_new = char.upper()\n",
    "print(char_new)"
   ]
  },
  {
   "cell_type": "code",
   "execution_count": 39,
   "id": "c5426cc0",
   "metadata": {},
   "outputs": [
    {
     "name": "stdout",
     "output_type": "stream",
     "text": [
      "B H\n",
      "B C D E F G H \n",
      "B C D E F G H \n",
      "B C D E F G H \n",
      "B C D E F G H \n"
     ]
    }
   ],
   "source": [
    "a, b = input().split()\n",
    "a_new = ord(a)\n",
    "b_new = ord(b)\n",
    "for i in range(4):\n",
    "    for i in range(a_new,b_new+1):\n",
    "        print(chr(i),end=' ')\n",
    "    print(\"\")"
   ]
  },
  {
   "cell_type": "code",
   "execution_count": null,
   "id": "79fa095c",
   "metadata": {},
   "outputs": [],
   "source": [
    "global flag, a, b, c\n",
    "\n",
    "def input():\n",
    "    global a, b, c\n",
    "    a, b, c = input().split()\n",
    "    \n",
    "def process():\n",
    "    global flag\n",
    "    if a == 'A' and b == 'B' and c == 'C':\n",
    "        flag = 1\n",
    "    \n",
    "def output():\n",
    "    if flag == 1:\n",
    "        print(\"ABC를찾았다\")\n",
    "    else :\n",
    "        print(\"못찾았다\")\n",
    "input()\n",
    "process()\n",
    "output()"
   ]
  },
  {
   "cell_type": "code",
   "execution_count": 5,
   "id": "75305b0a",
   "metadata": {},
   "outputs": [
    {
     "name": "stdout",
     "output_type": "stream",
     "text": [
      "1 9 2\n",
      "1 2 3 4 5 6 7 8 9 \n",
      "1 2 3 4 5 6 7 8 9 \n"
     ]
    }
   ],
   "source": [
    "a, b, c = map(int,input().split())\n",
    "for i in range(c):\n",
    "    for i in range(a, b-a+2):\n",
    "        print(i,end=' ')\n",
    "    print(\"\")"
   ]
  },
  {
   "cell_type": "code",
   "execution_count": 6,
   "id": "d5198a5b",
   "metadata": {},
   "outputs": [
    {
     "name": "stdout",
     "output_type": "stream",
     "text": [
      "A 3\n",
      "문자'A'의 아스키코드값은 65\n",
      "문자'3'의 아스키코드값은 51\n"
     ]
    }
   ],
   "source": [
    "a, b = input().split()\n",
    "a_ascii = ord(a)\n",
    "b_ascii = ord(b)\n",
    "print(\"문자'{}'의 아스키코드값은 {}\".format(a,a_ascii))\n",
    "print(\"문자'{}'의 아스키코드값은 {}\".format(b,b_ascii))"
   ]
  },
  {
   "cell_type": "code",
   "execution_count": 15,
   "id": "bc4d156c",
   "metadata": {},
   "outputs": [
    {
     "ename": "SyntaxError",
     "evalue": "invalid syntax (2172162148.py, line 3)",
     "output_type": "error",
     "traceback": [
      "\u001b[1;36m  Cell \u001b[1;32mIn[15], line 3\u001b[1;36m\u001b[0m\n\u001b[1;33m    for i in range(ord(char),ord(a):\u001b[0m\n\u001b[1;37m                                   ^\u001b[0m\n\u001b[1;31mSyntaxError\u001b[0m\u001b[1;31m:\u001b[0m invalid syntax\n"
     ]
    }
   ],
   "source": [
    "char = input()\n",
    "char_new = ord(char)\n",
    "for i in range(ord(char),ord(a),-1):\n",
    "    print(chr(i),end='')"
   ]
  },
  {
   "cell_type": "code",
   "execution_count": null,
   "id": "7114b53b",
   "metadata": {},
   "outputs": [],
   "source": []
  },
  {
   "cell_type": "code",
   "execution_count": 16,
   "id": "35a7e851",
   "metadata": {},
   "outputs": [
    {
     "name": "stdout",
     "output_type": "stream",
     "text": [
      "g\n",
      "gfedcba`_^]\\[ZYXWVUTSRQPONMLKJIHGFEDCB"
     ]
    }
   ],
   "source": [
    "char = input()\n",
    "char_new = ord(char)\n",
    "for i in range(ord(char),ord(a),-1):\n",
    "    print(chr(i),end='')"
   ]
  },
  {
   "cell_type": "code",
   "execution_count": null,
   "id": "d45a83e7",
   "metadata": {},
   "outputs": [],
   "source": []
  },
  {
   "cell_type": "code",
   "execution_count": null,
   "id": "d29a529a",
   "metadata": {},
   "outputs": [],
   "source": []
  },
  {
   "cell_type": "code",
   "execution_count": null,
   "id": "60334524",
   "metadata": {},
   "outputs": [],
   "source": []
  },
  {
   "cell_type": "code",
   "execution_count": null,
   "id": "804837c5",
   "metadata": {},
   "outputs": [],
   "source": []
  },
  {
   "cell_type": "code",
   "execution_count": null,
   "id": "206d9a34",
   "metadata": {},
   "outputs": [],
   "source": []
  },
  {
   "cell_type": "code",
   "execution_count": null,
   "id": "1c5eeb7c",
   "metadata": {},
   "outputs": [],
   "source": []
  },
  {
   "cell_type": "code",
   "execution_count": null,
   "id": "0b26b4f8",
   "metadata": {},
   "outputs": [],
   "source": []
  },
  {
   "cell_type": "code",
   "execution_count": null,
   "id": "52ed25d4",
   "metadata": {},
   "outputs": [],
   "source": []
  },
  {
   "cell_type": "code",
   "execution_count": null,
   "id": "4472ac73",
   "metadata": {},
   "outputs": [],
   "source": []
  },
  {
   "cell_type": "code",
   "execution_count": null,
   "id": "69546a5f",
   "metadata": {},
   "outputs": [],
   "source": []
  }
 ],
 "metadata": {
  "kernelspec": {
   "display_name": "Python 3 (ipykernel)",
   "language": "python",
   "name": "python3"
  },
  "language_info": {
   "codemirror_mode": {
    "name": "ipython",
    "version": 3
   },
   "file_extension": ".py",
   "mimetype": "text/x-python",
   "name": "python",
   "nbconvert_exporter": "python",
   "pygments_lexer": "ipython3",
   "version": "3.9.13"
  }
 },
 "nbformat": 4,
 "nbformat_minor": 5
}
