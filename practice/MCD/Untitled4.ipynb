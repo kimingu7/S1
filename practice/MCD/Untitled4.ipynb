{
 "cells": [
  {
   "cell_type": "code",
   "execution_count": 27,
   "id": "30c1b10c",
   "metadata": {},
   "outputs": [
    {
     "name": "stdout",
     "output_type": "stream",
     "text": [
      "1\n",
      "초기값\n"
     ]
    }
   ],
   "source": [
    "a = int(input())\n",
    "def BBQ():\n",
    "    if a > 0 and a < 5:\n",
    "        print(\"초기값\")\n",
    "    elif a > 6 and a < 10 :\n",
    "        print(\"중간값\")\n",
    "    else :\n",
    "        print(\"알수없는값\")\n",
    "if a == 3 or a == 5 or a == 7 :\n",
    "    for i in range(10):\n",
    "        print(i,end='')\n",
    "elif a == 0 or a == 8 :\n",
    "    for i in range(10,0,-1):\n",
    "        print(i,end='')\n",
    "else :\n",
    "    BBQ()"
   ]
  },
  {
   "cell_type": "code",
   "execution_count": null,
   "id": "33f2ae00",
   "metadata": {},
   "outputs": [],
   "source": [
    "101(2)\n",
    "11(2)"
   ]
  },
  {
   "cell_type": "code",
   "execution_count": 29,
   "id": "f22d421d",
   "metadata": {},
   "outputs": [
    {
     "name": "stdout",
     "output_type": "stream",
     "text": [
      "3\n",
      "33333\n",
      "33333\n",
      "33333\n",
      "333\n",
      "333\n",
      "333\n"
     ]
    }
   ],
   "source": [
    "a = int(input())\n",
    "for i in range(3):\n",
    "    for j in range(5):\n",
    "        print(a,end='')\n",
    "    print(\"\")\n",
    "for i in range(3):\n",
    "    for j in range(3):\n",
    "        print(a,end='')\n",
    "    print(\"\")"
   ]
  },
  {
   "cell_type": "code",
   "execution_count": 32,
   "id": "7aa3efaf",
   "metadata": {},
   "outputs": [
    {
     "name": "stdout",
     "output_type": "stream",
     "text": [
      "1 2 3\n",
      "0 1 1 1 0 0\n"
     ]
    }
   ],
   "source": [
    "lst = [0,0,0,0,0,0]\n",
    "a, b, c = map(int, input().split())\n",
    "lst[a] = 1\n",
    "lst[b] = 1\n",
    "lst[c] = 1\n",
    "print(*lst,sep=' ')"
   ]
  },
  {
   "cell_type": "code",
   "execution_count": null,
   "id": "a1aa3c9a",
   "metadata": {},
   "outputs": [],
   "source": [
    "18.5 >> 10010.1\n",
    "23.25 >> 10111.01\n",
    "55.125 >> 110111.001"
   ]
  },
  {
   "cell_type": "code",
   "execution_count": 47,
   "id": "3bca57a5",
   "metadata": {},
   "outputs": [
    {
     "name": "stdout",
     "output_type": "stream",
     "text": [
      "10\n",
      "1 2 3 4 5 6 7 8 9 10 "
     ]
    }
   ],
   "source": [
    "n = int(input())\n",
    "i = 1\n",
    "while i <= n :\n",
    "    print(i,end=' ')\n",
    "    i+=1"
   ]
  },
  {
   "cell_type": "code",
   "execution_count": 52,
   "id": "06e11624",
   "metadata": {},
   "outputs": [
    {
     "name": "stdout",
     "output_type": "stream",
     "text": [
      "1\n",
      "3\n",
      "4\n",
      "1\n",
      "6\n"
     ]
    }
   ],
   "source": [
    "lst = [3,4,1,6,7,1]\n",
    "for i in range(6):\n",
    "    print(lst[i-1],end)\n",
    "    if lst[i] == 7:\n",
    "        break "
   ]
  },
  {
   "cell_type": "code",
   "execution_count": null,
   "id": "a54b293f",
   "metadata": {},
   "outputs": [],
   "source": []
  },
  {
   "cell_type": "code",
   "execution_count": null,
   "id": "5713d9bd",
   "metadata": {},
   "outputs": [],
   "source": []
  },
  {
   "cell_type": "code",
   "execution_count": null,
   "id": "8e688cab",
   "metadata": {},
   "outputs": [],
   "source": []
  },
  {
   "cell_type": "code",
   "execution_count": null,
   "id": "15359a82",
   "metadata": {},
   "outputs": [],
   "source": []
  },
  {
   "cell_type": "code",
   "execution_count": null,
   "id": "9505fd0e",
   "metadata": {},
   "outputs": [],
   "source": []
  },
  {
   "cell_type": "code",
   "execution_count": null,
   "id": "c4b06171",
   "metadata": {},
   "outputs": [],
   "source": []
  }
 ],
 "metadata": {
  "kernelspec": {
   "display_name": "Python 3 (ipykernel)",
   "language": "python",
   "name": "python3"
  },
  "language_info": {
   "codemirror_mode": {
    "name": "ipython",
    "version": 3
   },
   "file_extension": ".py",
   "mimetype": "text/x-python",
   "name": "python",
   "nbconvert_exporter": "python",
   "pygments_lexer": "ipython3",
   "version": "3.9.13"
  }
 },
 "nbformat": 4,
 "nbformat_minor": 5
}
