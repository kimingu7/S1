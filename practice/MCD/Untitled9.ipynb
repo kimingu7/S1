{
 "cells": [
  {
   "cell_type": "code",
   "execution_count": 23,
   "id": "a114a2eb",
   "metadata": {},
   "outputs": [
    {
     "name": "stdout",
     "output_type": "stream",
     "text": [
      "ABCABCab\n",
      "big=ABCABC\n",
      "small=ab\n"
     ]
    }
   ],
   "source": [
    "lst = list(input().split())\n",
    "if len(lst) == 1:\n",
    "    str = ''.join(lst)\n",
    "    lst = list(str)\n",
    "lst_big = [0 for i in range(8)]\n",
    "lst_small = [0 for i in range(8)]\n",
    "for i in range(len(lst)):\n",
    "    if lst[i].isupper() == True:\n",
    "        lst_big[i] = lst[i]\n",
    "    else :\n",
    "        lst_small[i] = lst[i]\n",
    "while 0 in lst_big:\n",
    "    lst_big.remove(0)\n",
    "while 0 in lst_small:\n",
    "    lst_small.remove(0)    \n",
    "print(\"big=\",*lst_big,sep='')\n",
    "print(\"small=\",*lst_small,sep='')"
   ]
  },
  {
   "cell_type": "code",
   "execution_count": 29,
   "id": "2344f4e5",
   "metadata": {},
   "outputs": [
    {
     "name": "stdout",
     "output_type": "stream",
     "text": [
      "7\n",
      "값이 없습니다\n"
     ]
    }
   ],
   "source": [
    "global arr\n",
    "arr = [[3,2,6,2,4],[1,4,2,6,5]]\n",
    "target = int(input())\n",
    "\n",
    "def KFC(target):\n",
    "    global flag\n",
    "    for i in range(2):\n",
    "        for j in range(5):\n",
    "            if arr[i][j] == target:\n",
    "                flag = 1\n",
    "                break\n",
    "            else :\n",
    "                flag = 0\n",
    "KFC(target)\n",
    "if flag == 1:\n",
    "    print(\"값이 존재합니다\")\n",
    "else :\n",
    "    print(\"값이 없습니다\")"
   ]
  },
  {
   "cell_type": "code",
   "execution_count": 31,
   "id": "8a0301f8",
   "metadata": {},
   "outputs": [
    {
     "name": "stdout",
     "output_type": "stream",
     "text": [
      "4\n",
      "6 5 6 7 5 6\n"
     ]
    }
   ],
   "source": [
    "arr = [[1,3,6,2],[4,2,4,5],[6,3,7,3],[1,5,4,6]]\n",
    "select = [0 for i in range(16)]\n",
    "a = int(input())\n",
    "for i in range(4):\n",
    "    for j in range(4):\n",
    "        if arr[i][j] > a:\n",
    "            select[(i*4)+j] = arr[i][j]\n",
    "while 0 in select:\n",
    "    select.remove(0)\n",
    "print(*select)"
   ]
  },
  {
   "cell_type": "code",
   "execution_count": 33,
   "id": "7d0ea8db",
   "metadata": {},
   "outputs": [
    {
     "name": "stdout",
     "output_type": "stream",
     "text": [
      "A C\n",
      "발견!!!\n"
     ]
    }
   ],
   "source": [
    "lst = ['D','F','G','D','A','Q']\n",
    "ch1, ch2 = input().split()\n",
    "for i in range(len(lst)):\n",
    "    if lst[i] >= ch1 and lst[i] <= ch2:\n",
    "        flag = 1\n",
    "        break\n",
    "    else :\n",
    "        flag = 0\n",
    "if flag == 1:\n",
    "    print(\"발견!!!\")\n",
    "else :\n",
    "    print(\"미발견!!!\")"
   ]
  },
  {
   "cell_type": "code",
   "execution_count": 41,
   "id": "6f2236a4",
   "metadata": {},
   "outputs": [
    {
     "name": "stdout",
     "output_type": "stream",
     "text": [
      "1\n",
      "5\n"
     ]
    }
   ],
   "source": [
    "global arr\n",
    "arr = [[1,1,1],[1,2,1],[3,6,3]]\n",
    "a = int(input())\n",
    "def Count():\n",
    "    count = 0\n",
    "    for i in range(3):\n",
    "        for j in range(3):\n",
    "            if arr[i][j] == a:\n",
    "                count+=1\n",
    "    return count\n",
    "count_a = Count()\n",
    "print(count_a)"
   ]
  },
  {
   "cell_type": "code",
   "execution_count": 42,
   "id": "6f689182",
   "metadata": {},
   "outputs": [
    {
     "name": "stdout",
     "output_type": "stream",
     "text": [
      "A\n",
      "TWO\n"
     ]
    }
   ],
   "source": [
    "lst = ['A','1','1','1','5','A','w','z']\n",
    "a = input()\n",
    "count = 0\n",
    "for i in range(len(lst)):\n",
    "    if lst[i] == a:\n",
    "        count+=1\n",
    "if count >= 3:\n",
    "    print(\"THREE\")\n",
    "elif count == 2:\n",
    "    print(\"TWO\")\n",
    "elif count == 1:\n",
    "    print(\"ONE\")\n",
    "else :\n",
    "    print(\"NOTHING\")"
   ]
  },
  {
   "cell_type": "code",
   "execution_count": 43,
   "id": "b1f6ded9",
   "metadata": {},
   "outputs": [
    {
     "name": "stdout",
     "output_type": "stream",
     "text": [
      "c\n",
      "세상에\n"
     ]
    }
   ],
   "source": [
    "arr = [['a','b','a','c','z'],['c','t','a','c','d'],['c','c','c','c','a']]\n",
    "a = input()\n",
    "count = 0\n",
    "for i in range(3):\n",
    "    for j in range(5):\n",
    "        if arr[i][j] == a:\n",
    "            count+=1\n",
    "if count >= 3 and count < 5:\n",
    "    print(\"이야\")\n",
    "elif count >= 5 and count < 7:\n",
    "    print(\"와우\")\n",
    "elif count >= 7:\n",
    "    print(\"세상에\")\n",
    "else :\n",
    "    print(\"이런\")"
   ]
  },
  {
   "cell_type": "code",
   "execution_count": 63,
   "id": "befe0075",
   "metadata": {},
   "outputs": [
    {
     "name": "stdout",
     "output_type": "stream",
     "text": [
      "3 1 5 0 0 3\n",
      "315\n",
      "##3\n"
     ]
    }
   ],
   "source": [
    "lst = list(map(int, input().split()))\n",
    "arr = [lst[ix-3:ix] for ix in range(3, len(lst)+1, 3)]\n",
    "for i in range(2):\n",
    "    for j in range(3):\n",
    "        if arr[i][j] == 0:\n",
    "            arr[i][j] = '#'\n",
    "for i in arr:\n",
    "    print(*i,sep='')"
   ]
  },
  {
   "cell_type": "code",
   "execution_count": 67,
   "id": "49600ca2",
   "metadata": {},
   "outputs": [
    {
     "name": "stdout",
     "output_type": "stream",
     "text": [
      "A B e \n",
      "e 7 w \n",
      "8 7 9 \n"
     ]
    }
   ],
   "source": [
    "arr = [['a','b','E'],['E','2','W'],['3','2','4']]\n",
    "for i in range(3):\n",
    "    for j in range(3):\n",
    "        if arr[i][j].isupper() == True:\n",
    "            print(arr[i][j].lower(),end=' ')\n",
    "        elif arr[i][j].islower() == True:\n",
    "            print(arr[i][j].upper(),end=' ')\n",
    "        else :\n",
    "            print(int(arr[i][j])+5,end=' ')\n",
    "    print(\"\")"
   ]
  },
  {
   "cell_type": "code",
   "execution_count": 73,
   "id": "a26178fd",
   "metadata": {},
   "outputs": [
    {
     "name": "stdout",
     "output_type": "stream",
     "text": [
      "A\n",
      "존재\n"
     ]
    }
   ],
   "source": [
    "global arr\n",
    "arr = [['a','b','d'],['e','w','z'],['q','v','a']]\n",
    "def input_A():\n",
    "    a = input()\n",
    "    return a\n",
    "def process():\n",
    "    for i in range(3):\n",
    "        for j in range(3):\n",
    "            if arr[i][j] == input_A_a.lower():\n",
    "                flag = 1\n",
    "                break\n",
    "            else :\n",
    "                flag = 0\n",
    "    if flag == 1:\n",
    "        print(\"존재\")\n",
    "    else :\n",
    "        print(\"없음\")\n",
    "input_A_a = input_A()\n",
    "process()"
   ]
  },
  {
   "cell_type": "code",
   "execution_count": 77,
   "id": "7353b5f2",
   "metadata": {},
   "outputs": [
    {
     "name": "stdout",
     "output_type": "stream",
     "text": [
      "0 2 0\n",
      "9\n",
      "0\n",
      "9\n"
     ]
    }
   ],
   "source": [
    "arr = [[3, 1, 6], [7, 8, 4], [9, 2, 3]]\n",
    "a, b, c = map(int,input().split())\n",
    "arr[a][b] = c\n",
    "print(max(map(max, arr))+ min(map(min, arr)))"
   ]
  },
  {
   "cell_type": "code",
   "execution_count": 79,
   "id": "a9164d75",
   "metadata": {},
   "outputs": [
    {
     "name": "stdout",
     "output_type": "stream",
     "text": [
      "6 5 4 3 2 7\n",
      "[[3, 1, 5], [0, 0, 3]]\n"
     ]
    }
   ],
   "source": [
    "lst_1 = list(map(int,input().split()))\n",
    "arr = [lst[ix-3:ix] for ix in range(3, len(lst)+1, 3)]\n",
    "\n",
    "print(arr)"
   ]
  },
  {
   "cell_type": "code",
   "execution_count": null,
   "id": "235a14fa",
   "metadata": {},
   "outputs": [],
   "source": []
  },
  {
   "cell_type": "code",
   "execution_count": null,
   "id": "4706953a",
   "metadata": {},
   "outputs": [],
   "source": []
  },
  {
   "cell_type": "code",
   "execution_count": null,
   "id": "49bba122",
   "metadata": {},
   "outputs": [],
   "source": []
  },
  {
   "cell_type": "code",
   "execution_count": null,
   "id": "cc04889e",
   "metadata": {},
   "outputs": [],
   "source": []
  },
  {
   "cell_type": "code",
   "execution_count": null,
   "id": "25fa6019",
   "metadata": {},
   "outputs": [],
   "source": []
  },
  {
   "cell_type": "code",
   "execution_count": null,
   "id": "4af306a5",
   "metadata": {},
   "outputs": [],
   "source": []
  },
  {
   "cell_type": "code",
   "execution_count": null,
   "id": "34a6cb48",
   "metadata": {},
   "outputs": [],
   "source": []
  },
  {
   "cell_type": "code",
   "execution_count": null,
   "id": "e3d4c978",
   "metadata": {},
   "outputs": [],
   "source": []
  },
  {
   "cell_type": "code",
   "execution_count": null,
   "id": "15f91e8d",
   "metadata": {},
   "outputs": [],
   "source": []
  },
  {
   "cell_type": "code",
   "execution_count": null,
   "id": "22bbd4e0",
   "metadata": {},
   "outputs": [],
   "source": []
  },
  {
   "cell_type": "code",
   "execution_count": null,
   "id": "cb14bdd7",
   "metadata": {},
   "outputs": [],
   "source": []
  },
  {
   "cell_type": "code",
   "execution_count": null,
   "id": "98f7de80",
   "metadata": {},
   "outputs": [],
   "source": []
  }
 ],
 "metadata": {
  "kernelspec": {
   "display_name": "Python 3 (ipykernel)",
   "language": "python",
   "name": "python3"
  },
  "language_info": {
   "codemirror_mode": {
    "name": "ipython",
    "version": 3
   },
   "file_extension": ".py",
   "mimetype": "text/x-python",
   "name": "python",
   "nbconvert_exporter": "python",
   "pygments_lexer": "ipython3",
   "version": "3.9.13"
  }
 },
 "nbformat": 4,
 "nbformat_minor": 5
}
