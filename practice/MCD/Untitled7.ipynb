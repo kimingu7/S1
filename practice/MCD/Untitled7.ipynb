{
 "cells": [
  {
   "cell_type": "code",
   "execution_count": 3,
   "id": "cc472e42",
   "metadata": {},
   "outputs": [
    {
     "name": "stdout",
     "output_type": "stream",
     "text": [
      "1\n",
      "9 6 3\n",
      "8 5 2\n",
      "7 4 1\n"
     ]
    }
   ],
   "source": [
    "a = int(input())\n",
    "arr = [[0,0,0],[0,0,0],[0,0,0]]\n",
    "if a % 5 == 1:\n",
    "    for i in range(2,-1,-1):\n",
    "        for j in range(2,-1,-1):\n",
    "            arr[i][j] = 9-i-(j*3)\n",
    "elif a % 5 == 2:\n",
    "    for i in range(2,-1,-1):\n",
    "        for j in range(2,-1,-1):\n",
    "            arr[i][j] = 7-(i*3)+j\n",
    "else :\n",
    "    for i in range(2,-1,-1):\n",
    "        for j in range(2,-1,-1):\n",
    "            arr[i][j] = 10+i+(j*3)\n",
    "for i in arr:\n",
    "    print(*i)"
   ]
  },
  {
   "cell_type": "code",
   "execution_count": 8,
   "id": "d98d5fe5",
   "metadata": {},
   "outputs": [
    {
     "name": "stdout",
     "output_type": "stream",
     "text": [
      "5 2\n",
      "4\n",
      "7\n"
     ]
    }
   ],
   "source": [
    "global dv_ab\n",
    "a, b = map(int, input().split())\n",
    "sum_ab = a + b\n",
    "dv_ab = int(a/b)\n",
    "\n",
    "def even():\n",
    "    global dv_ab\n",
    "    dv_ab = dv_ab * 2\n",
    "    return dv_ab\n",
    "def odd():\n",
    "    global dv_ab\n",
    "    dv_ab = dv_ab - 10\n",
    "    return dv_ab\n",
    "def printData(value):\n",
    "    print(value)\n",
    "if dv_ab%2 == 0 :\n",
    "    even()\n",
    "else :\n",
    "    odd()\n",
    "\n",
    "printData(dv_ab)\n",
    "printData(sum_ab)"
   ]
  },
  {
   "cell_type": "code",
   "execution_count": 10,
   "id": "4cd6b79e",
   "metadata": {},
   "outputs": [
    {
     "name": "stdout",
     "output_type": "stream",
     "text": [
      "3 6\n",
      "11 7\n",
      "GOP==SUM\n"
     ]
    }
   ],
   "source": [
    "global x1, x2, y1, y2, pd_xy, sum_xy\n",
    "x1, y1 = map(int, input().split())\n",
    "x2, y2 = map(int, input().split())\n",
    "\n",
    "def GOP():\n",
    "    global pd_xy, x1, y1\n",
    "    pd_xy = x1 * y1\n",
    "    return pd_xy\n",
    "\n",
    "def SUM():\n",
    "    global sum_xy, x2, y2\n",
    "    sum_xy = x2 + y2\n",
    "    return sum_xy\n",
    "    \n",
    "a = GOP()\n",
    "b = SUM()\n",
    "\n",
    "if a > b :\n",
    "    print(\"GOP>SUM\")\n",
    "elif a < b :\n",
    "    print(\"GOP<SUM\")\n",
    "else :\n",
    "    print(\"GOP==SUM\")"
   ]
  },
  {
   "cell_type": "code",
   "execution_count": 17,
   "id": "1326cc9d",
   "metadata": {},
   "outputs": [
    {
     "name": "stdout",
     "output_type": "stream",
     "text": [
      "10\n",
      "119\n"
     ]
    }
   ],
   "source": [
    "global tong, stone\n",
    "stone = int(input())\n",
    "\n",
    "def pingpong():\n",
    "    global tong, stone\n",
    "    tong = stone + 10\n",
    "    return tong\n",
    "pingpong()\n",
    "print(tong)"
   ]
  },
  {
   "cell_type": "code",
   "execution_count": 19,
   "id": "e7b689cd",
   "metadata": {},
   "outputs": [
    {
     "name": "stdout",
     "output_type": "stream",
     "text": [
      "13 9 5 1\n",
      "14 10 6 2\n",
      "15 11 7 3\n",
      "16 12 8 4\n"
     ]
    }
   ],
   "source": [
    "arr = [[0,0,0,0],[0,0,0,0],[0,0,0,0],[0,0,0,0]]\n",
    "\n",
    "for i in range(4):\n",
    "    for j in range(4):\n",
    "        arr[i][j] = 13+i-(j*4)\n",
    "for i in arr:\n",
    "    print(*i)"
   ]
  },
  {
   "cell_type": "code",
   "execution_count": 22,
   "id": "20fca75d",
   "metadata": {},
   "outputs": [
    {
     "name": "stdout",
     "output_type": "stream",
     "text": [
      "2\n",
      "12 11 0 9\n",
      "8 7 0 5\n",
      "4 3 0 1\n"
     ]
    }
   ],
   "source": [
    "arr = [[0,0,0,0],[0,0,0,0],[0,0,0,0]]\n",
    "a = int(input())\n",
    "for i in range(3):\n",
    "    for j in range(4):\n",
    "        arr[i][j] = 12-(i*4)-j\n",
    "for i in range(3):\n",
    "    arr[i][a] = 0\n",
    "for i in arr:\n",
    "    print(*i)"
   ]
  },
  {
   "cell_type": "code",
   "execution_count": 26,
   "id": "ae1d0d1c",
   "metadata": {},
   "outputs": [
    {
     "name": "stdout",
     "output_type": "stream",
     "text": [
      "3 8 10 2\n",
      "3 5 8 7\n",
      "2 8 6 4\n",
      "1 3 0 9\n",
      "@###\n",
      "@@#@\n",
      "####\n",
      "@@!@\n"
     ]
    }
   ],
   "source": [
    "arr=[0 for _ in range(4)]\n",
    "\n",
    "for i in range(0,4):\n",
    "    arr[i]=list(map(int, input().split()))\n",
    "    \n",
    "for i in range(0,4):\n",
    "    for j in range(0,4):\n",
    "        if arr[i][j] == 0:\n",
    "            arr[i][j] = '!'\n",
    "        elif arr[i][j] % 2 == 0:\n",
    "            arr[i][j] = '#'\n",
    "        else :\n",
    "            arr[i][j] = '@'\n",
    "    \n",
    "for i in arr:\n",
    "    print(*i,sep='')"
   ]
  },
  {
   "cell_type": "code",
   "execution_count": 41,
   "id": "60500e63",
   "metadata": {},
   "outputs": [
    {
     "name": "stdout",
     "output_type": "stream",
     "text": [
      "5\n",
      "5 4 3 2 1 "
     ]
    }
   ],
   "source": [
    "def input_a():\n",
    "    global a\n",
    "    a = int(input())\n",
    "    return a\n",
    "def CountDown(a):\n",
    "    for i in range(a):\n",
    "        print(a-i,end=' ')\n",
    "input_a()\n",
    "CountDown(a)"
   ]
  },
  {
   "cell_type": "code",
   "execution_count": 42,
   "id": "f647276d",
   "metadata": {},
   "outputs": [
    {
     "name": "stdout",
     "output_type": "stream",
     "text": [
      "2 10 18 26\n",
      "4 12 20 28\n",
      "6 14 22 30\n",
      "8 16 24 32\n"
     ]
    }
   ],
   "source": [
    "arr = [[0,0,0,0],[0,0,0,0],[0,0,0,0],[0,0,0,0]]\n",
    "\n",
    "for i in range(4):\n",
    "    for j in range(4):\n",
    "        arr[i][j] = 2+(i*2)+(j*8)\n",
    "for i in arr:\n",
    "    print(*i)"
   ]
  },
  {
   "cell_type": "code",
   "execution_count": 47,
   "id": "8a959c30",
   "metadata": {},
   "outputs": [
    {
     "name": "stdout",
     "output_type": "stream",
     "text": [
      "3\n",
      "21 16 11 6 1\n",
      "22 17 12 7 2\n",
      "23 18 13 8 3\n",
      "3 3 3 3 3\n",
      "25 20 15 10 5\n"
     ]
    }
   ],
   "source": [
    "arr = [[0 for i in range(5)] for j in range(5)] \n",
    "a = int(input())\n",
    "for i in range(5):\n",
    "    for j in range(5):\n",
    "        arr[i][j] = 21 + i - (j*5)\n",
    "for i in range(5):\n",
    "    arr[a][i] = a\n",
    "for i in arr:\n",
    "    print(*i)"
   ]
  },
  {
   "cell_type": "code",
   "execution_count": 66,
   "id": "2d937b12",
   "metadata": {},
   "outputs": [
    {
     "name": "stdout",
     "output_type": "stream",
     "text": [
      "B\n",
      "없음\n"
     ]
    }
   ],
   "source": [
    "global arr\n",
    "arr = [['D','A','C','C','D'],['S','D','F','A','E'],['E','E','T','J','H']]\n",
    "def input_a():\n",
    "    global a\n",
    "    a = input()\n",
    "    check_a()\n",
    "    if check == 1:\n",
    "        print(\"있음\")\n",
    "    else :\n",
    "        print(\"없음\")\n",
    "def check_a():\n",
    "    global check\n",
    "    count = 0\n",
    "    for i in range(3):\n",
    "        for j in range(5):\n",
    "            if arr[i][j] == a:\n",
    "                count+=1\n",
    "    if count >= 1 :\n",
    "        check = 1\n",
    "    else :\n",
    "        check = 0\n",
    "input_a()"
   ]
  },
  {
   "cell_type": "code",
   "execution_count": 74,
   "id": "8d6adb36",
   "metadata": {},
   "outputs": [
    {
     "name": "stdout",
     "output_type": "stream",
     "text": [
      "1 11 7\n",
      "1 2 3 4\n",
      "11 12 13 14\n",
      "7 8 9 10\n"
     ]
    }
   ],
   "source": [
    "arr = [[0 for i in range(4)] for j in range(3)]\n",
    "a,b,c = map(int, input().split())\n",
    "for i in range(4):\n",
    "    arr[0][i] = a+i   \n",
    "for i in range(4):\n",
    "    arr[1][i] = b+i   \n",
    "for i in range(4):\n",
    "    arr[2][i] = c+i\n",
    "    \n",
    "for i in arr:\n",
    "    print(*i)"
   ]
  },
  {
   "cell_type": "code",
   "execution_count": 75,
   "id": "419de26c",
   "metadata": {},
   "outputs": [
    {
     "name": "stdout",
     "output_type": "stream",
     "text": [
      "2 4\n",
      "10 16 22\n",
      "11 17 23\n",
      "7 7 7\n",
      "7 7 7\n",
      "7 7 7\n",
      "15 21 27\n"
     ]
    }
   ],
   "source": [
    "arr = [[0 for j in range(3)] for i in range(6)]\n",
    "a, b = map(int, input().split())\n",
    "for i in range(6):\n",
    "    for j in range(3):\n",
    "        arr[i][j] = 10+i+(j*6)\n",
    "for i in range(a,b+1):\n",
    "    for j in range(3):\n",
    "        arr[i][j] = 7\n",
    "for i in arr:\n",
    "    print(*i)"
   ]
  },
  {
   "cell_type": "code",
   "execution_count": 76,
   "id": "aad7123b",
   "metadata": {},
   "outputs": [
    {
     "name": "stdout",
     "output_type": "stream",
     "text": [
      "M\n",
      "A\n"
     ]
    }
   ],
   "source": [
    "global a\n",
    "def aToZ():\n",
    "    a = input()\n",
    "    if ord('Z') - ord(a) > ord(a) - ord('A') :\n",
    "        print('A')\n",
    "    else :\n",
    "        print('Z')\n",
    "aToZ()"
   ]
  },
  {
   "cell_type": "code",
   "execution_count": 79,
   "id": "048a44a3",
   "metadata": {},
   "outputs": [
    {
     "name": "stdout",
     "output_type": "stream",
     "text": [
      "85\n",
      "B\n"
     ]
    }
   ],
   "source": [
    "def Calculator():\n",
    "    global grade\n",
    "    score = int(input())\n",
    "    if score > 90 :\n",
    "        grade = 'A'\n",
    "    elif score >= 80 and score < 90 :\n",
    "        grade = 'B'\n",
    "    elif score >= 70 and score < 80 :\n",
    "        grade = 'C'\n",
    "    else :\n",
    "        grade = 'D'\n",
    "Calculator()\n",
    "print(grade)"
   ]
  },
  {
   "cell_type": "code",
   "execution_count": null,
   "id": "8e04d4a8",
   "metadata": {},
   "outputs": [],
   "source": []
  },
  {
   "cell_type": "code",
   "execution_count": null,
   "id": "b61718c8",
   "metadata": {},
   "outputs": [],
   "source": []
  },
  {
   "cell_type": "code",
   "execution_count": null,
   "id": "54704156",
   "metadata": {},
   "outputs": [],
   "source": []
  },
  {
   "cell_type": "code",
   "execution_count": null,
   "id": "ee5c89db",
   "metadata": {},
   "outputs": [],
   "source": []
  },
  {
   "cell_type": "code",
   "execution_count": null,
   "id": "1728cee4",
   "metadata": {},
   "outputs": [],
   "source": []
  },
  {
   "cell_type": "code",
   "execution_count": null,
   "id": "4c564ed2",
   "metadata": {},
   "outputs": [],
   "source": []
  },
  {
   "cell_type": "code",
   "execution_count": null,
   "id": "5162405f",
   "metadata": {},
   "outputs": [],
   "source": []
  },
  {
   "cell_type": "code",
   "execution_count": null,
   "id": "b475cad7",
   "metadata": {},
   "outputs": [],
   "source": []
  },
  {
   "cell_type": "code",
   "execution_count": null,
   "id": "cf611ec0",
   "metadata": {},
   "outputs": [],
   "source": []
  },
  {
   "cell_type": "code",
   "execution_count": null,
   "id": "394b9dbb",
   "metadata": {},
   "outputs": [],
   "source": []
  }
 ],
 "metadata": {
  "kernelspec": {
   "display_name": "Python 3 (ipykernel)",
   "language": "python",
   "name": "python3"
  },
  "language_info": {
   "codemirror_mode": {
    "name": "ipython",
    "version": 3
   },
   "file_extension": ".py",
   "mimetype": "text/x-python",
   "name": "python",
   "nbconvert_exporter": "python",
   "pygments_lexer": "ipython3",
   "version": "3.9.13"
  }
 },
 "nbformat": 4,
 "nbformat_minor": 5
}
