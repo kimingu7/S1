{
 "cells": [
  {
   "cell_type": "code",
   "execution_count": 10,
   "id": "57c887cd",
   "metadata": {},
   "outputs": [
    {
     "name": "stdout",
     "output_type": "stream",
     "text": [
      "a z\n",
      "abcdefghijklmnopqrstuvwxyz"
     ]
    }
   ],
   "source": [
    "a, b = input().split()\n",
    "\n",
    "if a.isupper() == True:\n",
    "    if b.isupper() == True:\n",
    "        print(\"대문자들\")\n",
    "    else :\n",
    "        print(\"대소문자\")\n",
    "elif a.islower() == True:\n",
    "    if b.isupper() == True:\n",
    "        print(\"대소문자\")\n",
    "    else :\n",
    "        for i in range(ord('a'),ord('z')+1):\n",
    "            print(chr(i),end='')"
   ]
  },
  {
   "cell_type": "code",
   "execution_count": 15,
   "id": "a222662e",
   "metadata": {},
   "outputs": [
    {
     "name": "stdout",
     "output_type": "stream",
     "text": [
      "B\n",
      "n\n"
     ]
    }
   ],
   "source": [
    "arr = [[0,0,0,0,0],[0,0,0,0,0],[0,0,0,0,0]]\n",
    "a = input()\n",
    "a_ascii = ord(a)\n",
    "for i in range(3):\n",
    "    for j in range(5):\n",
    "        arr[i][j] = chr(ord(a)+(i*5)+j)\n",
    "print(arr[2][2].lower())"
   ]
  },
  {
   "cell_type": "code",
   "execution_count": 20,
   "id": "7cb9e18a",
   "metadata": {},
   "outputs": [
    {
     "name": "stdout",
     "output_type": "stream",
     "text": [
      "a b c\n",
      "부족하다\n"
     ]
    }
   ],
   "source": [
    "char = list(input().split())\n",
    "count = 0\n",
    "for i in range(3):\n",
    "    if char[i].upper == True :\n",
    "        count+=1\n",
    "if count == 3 :\n",
    "    print(\"풍족하다\")\n",
    "elif count == 0 :\n",
    "    print(\"부족하다\")\n",
    "else :\n",
    "    print(\"적절하다\")"
   ]
  },
  {
   "cell_type": "code",
   "execution_count": 35,
   "id": "c14a68da",
   "metadata": {},
   "outputs": [
    {
     "name": "stdout",
     "output_type": "stream",
     "text": [
      "A B C\n",
      "0\n"
     ]
    }
   ],
   "source": [
    "char = list(input().split())\n",
    "count = 0\n",
    "for i in range(0, 3):\n",
    "    if char[i].isupper == True :\n",
    "        count+=1\n",
    "print(count)"
   ]
  },
  {
   "cell_type": "code",
   "execution_count": 26,
   "id": "67aefd46",
   "metadata": {},
   "outputs": [
    {
     "name": "stdout",
     "output_type": "stream",
     "text": [
      "1 1\n",
      "0 0 0 0 \n",
      "0 1 0 0 \n"
     ]
    }
   ],
   "source": [
    "arr = [[0,0,0,0],[0,0,0,0]]\n",
    "x, y = map(int, input().split())\n",
    "arr[y][x] = 1\n",
    "for i in range(2):\n",
    "    for j in range(4):\n",
    "        print(arr[i][j],end=' ')\n",
    "    print(\"\")"
   ]
  },
  {
   "cell_type": "code",
   "execution_count": 41,
   "id": "c1cad34e",
   "metadata": {},
   "outputs": [
    {
     "name": "stdout",
     "output_type": "stream",
     "text": [
      "5\n",
      "3\n",
      "6\n",
      "1\n",
      "2\n",
      "3\n",
      "7 5 \n",
      "8 3 \n",
      "4 5 \n"
     ]
    }
   ],
   "source": [
    "arr = []\n",
    "\n",
    "for i in range(3):\n",
    "    lst = []\n",
    "    for j in range(2):\n",
    "        lst.append(int(input())+2)\n",
    "    arr.append(lst)\n",
    "for i in range(3):\n",
    "    for j in range(2):\n",
    "        print(arr[i][j],end=' ')\n",
    "    print(\"\")"
   ]
  },
  {
   "cell_type": "code",
   "execution_count": 44,
   "id": "9bd4bb76",
   "metadata": {},
   "outputs": [
    {
     "name": "stdout",
     "output_type": "stream",
     "text": [
      "3 4\n",
      "5 6 7 "
     ]
    }
   ],
   "source": [
    "a, b = map(int, input().split())\n",
    "sum = a + b\n",
    "i = 5\n",
    "while i <= sum :\n",
    "    print(i,end=' ')\n",
    "    i+=1"
   ]
  },
  {
   "cell_type": "code",
   "execution_count": 51,
   "id": "af18304e",
   "metadata": {},
   "outputs": [
    {
     "name": "stdout",
     "output_type": "stream",
     "text": [
      "1 2 7 4 9 6\n",
      "6 9 4 7 "
     ]
    }
   ],
   "source": [
    "lst = list(map(int, input().split()))\n",
    "for i in range(5,-1,-1):\n",
    "    print(lst[i],end=' ')\n",
    "    if lst[i] == 7:\n",
    "        break"
   ]
  },
  {
   "cell_type": "code",
   "execution_count": 55,
   "id": "1e76951b",
   "metadata": {},
   "outputs": [
    {
     "name": "stdout",
     "output_type": "stream",
     "text": [
      "3 4 1 6 7 5 "
     ]
    }
   ],
   "source": [
    "lst = [3,4,1,6,7,5]\n",
    "i = 0\n",
    "while i < len(lst):\n",
    "    print(lst[i],end=' ')\n",
    "    i+=1"
   ]
  },
  {
   "cell_type": "code",
   "execution_count": 62,
   "id": "f95492b2",
   "metadata": {},
   "outputs": [
    {
     "name": "stdout",
     "output_type": "stream",
     "text": [
      "2\n",
      "3 4 5 6 \n",
      "7 8 9 10 \n",
      "11 12 13 14 \n"
     ]
    }
   ],
   "source": [
    "arr = [[0]*4]*3\n",
    "a = int(input())\n",
    "for i in range(3):\n",
    "    for j in range(4):\n",
    "        arr[i][j] = a + (i*4) + j + 1\n",
    "        print(arr[i][j],end=\" \")\n",
    "    print(\"\")"
   ]
  },
  {
   "cell_type": "code",
   "execution_count": null,
   "id": "0fdd6e1e",
   "metadata": {},
   "outputs": [],
   "source": [
    "lst_1 = [B,D,5,Q,A]\n",
    "lst_2 = [Q,E,R,E,F]\n",
    "a = input()\n",
    "if a.upper() == True:\n",
    "    print(lst_2)\n",
    "elif a.lwoer()"
   ]
  },
  {
   "cell_type": "code",
   "execution_count": null,
   "id": "56ea94dd",
   "metadata": {},
   "outputs": [],
   "source": []
  },
  {
   "cell_type": "code",
   "execution_count": null,
   "id": "343ca81a",
   "metadata": {},
   "outputs": [],
   "source": []
  },
  {
   "cell_type": "code",
   "execution_count": null,
   "id": "f58d3c99",
   "metadata": {},
   "outputs": [],
   "source": []
  },
  {
   "cell_type": "code",
   "execution_count": null,
   "id": "220745b1",
   "metadata": {},
   "outputs": [],
   "source": []
  },
  {
   "cell_type": "code",
   "execution_count": null,
   "id": "900cc8b2",
   "metadata": {},
   "outputs": [],
   "source": []
  },
  {
   "cell_type": "code",
   "execution_count": null,
   "id": "737ca7e7",
   "metadata": {},
   "outputs": [],
   "source": []
  },
  {
   "cell_type": "code",
   "execution_count": null,
   "id": "01be4753",
   "metadata": {},
   "outputs": [],
   "source": []
  },
  {
   "cell_type": "code",
   "execution_count": null,
   "id": "6881a95e",
   "metadata": {},
   "outputs": [],
   "source": []
  },
  {
   "cell_type": "code",
   "execution_count": null,
   "id": "c42ec2e9",
   "metadata": {},
   "outputs": [],
   "source": []
  },
  {
   "cell_type": "code",
   "execution_count": null,
   "id": "69cb983b",
   "metadata": {},
   "outputs": [],
   "source": []
  },
  {
   "cell_type": "code",
   "execution_count": null,
   "id": "649c62bb",
   "metadata": {},
   "outputs": [],
   "source": []
  },
  {
   "cell_type": "code",
   "execution_count": null,
   "id": "339a45d8",
   "metadata": {},
   "outputs": [],
   "source": []
  },
  {
   "cell_type": "code",
   "execution_count": null,
   "id": "387c34c9",
   "metadata": {},
   "outputs": [],
   "source": []
  },
  {
   "cell_type": "code",
   "execution_count": null,
   "id": "5c62f837",
   "metadata": {},
   "outputs": [],
   "source": []
  },
  {
   "cell_type": "code",
   "execution_count": null,
   "id": "c385cbba",
   "metadata": {},
   "outputs": [],
   "source": []
  },
  {
   "cell_type": "code",
   "execution_count": null,
   "id": "c20f12c8",
   "metadata": {},
   "outputs": [],
   "source": []
  },
  {
   "cell_type": "code",
   "execution_count": null,
   "id": "0f340221",
   "metadata": {},
   "outputs": [],
   "source": []
  },
  {
   "cell_type": "code",
   "execution_count": null,
   "id": "526babb2",
   "metadata": {},
   "outputs": [],
   "source": []
  },
  {
   "cell_type": "code",
   "execution_count": null,
   "id": "58037d5d",
   "metadata": {},
   "outputs": [],
   "source": []
  },
  {
   "cell_type": "code",
   "execution_count": null,
   "id": "17b88d1a",
   "metadata": {},
   "outputs": [],
   "source": []
  },
  {
   "cell_type": "code",
   "execution_count": null,
   "id": "44e7d557",
   "metadata": {},
   "outputs": [],
   "source": []
  },
  {
   "cell_type": "code",
   "execution_count": null,
   "id": "a9d99116",
   "metadata": {},
   "outputs": [],
   "source": []
  }
 ],
 "metadata": {
  "kernelspec": {
   "display_name": "Python 3 (ipykernel)",
   "language": "python",
   "name": "python3"
  },
  "language_info": {
   "codemirror_mode": {
    "name": "ipython",
    "version": 3
   },
   "file_extension": ".py",
   "mimetype": "text/x-python",
   "name": "python",
   "nbconvert_exporter": "python",
   "pygments_lexer": "ipython3",
   "version": "3.9.13"
  }
 },
 "nbformat": 4,
 "nbformat_minor": 5
}
