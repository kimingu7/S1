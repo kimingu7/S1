{
 "cells": [
  {
   "cell_type": "code",
   "execution_count": 6,
   "id": "6727f536",
   "metadata": {},
   "outputs": [
    {
     "ename": "NameError",
     "evalue": "name 't' is not defined",
     "output_type": "error",
     "traceback": [
      "\u001b[1;31m---------------------------------------------------------------------------\u001b[0m",
      "\u001b[1;31mNameError\u001b[0m                                 Traceback (most recent call last)",
      "Cell \u001b[1;32mIn[6], line 5\u001b[0m\n\u001b[0;32m      2\u001b[0m     \u001b[38;5;28;01mglobal\u001b[39;00m t\n\u001b[0;32m      3\u001b[0m     t \u001b[38;5;241m=\u001b[39m \u001b[38;5;28mint\u001b[39m(\u001b[38;5;28minput\u001b[39m())\n\u001b[1;32m----> 5\u001b[0m \u001b[38;5;28;01mfor\u001b[39;00m i \u001b[38;5;129;01min\u001b[39;00m \u001b[38;5;28mrange\u001b[39m(\u001b[43mt\u001b[49m,t\u001b[38;5;241m+\u001b[39m\u001b[38;5;241m6\u001b[39m):\n\u001b[0;32m      6\u001b[0m     lst\u001b[38;5;241m.\u001b[39mappend(t)\n\u001b[0;32m      8\u001b[0m \u001b[38;5;28;01mdef\u001b[39;00m \u001b[38;5;21mPrintAll\u001b[39m():\n",
      "\u001b[1;31mNameError\u001b[0m: name 't' is not defined"
     ]
    }
   ],
   "source": [
    "def main():\n",
    "    global t\n",
    "    t = int(input())\n",
    "\n",
    "for i in range(t,t+6):\n",
    "    lst.append(t)\n",
    "\n",
    "def PrintAll():\n",
    "    for i in range(5):\n",
    "        print(lst[i])\n",
    "main()\n",
    "PrintAll()"
   ]
  },
  {
   "cell_type": "code",
   "execution_count": 16,
   "id": "7019889f",
   "metadata": {},
   "outputs": [
    {
     "name": "stdout",
     "output_type": "stream",
     "text": [
      "3\n",
      "3\n",
      "4\n",
      "5\n",
      "6\n",
      "7\n",
      "8\n"
     ]
    }
   ],
   "source": [
    "global t\n",
    "lst = []\n",
    "def main():\n",
    "    global t\n",
    "    t = int(input())\n",
    "for i in range(t,t+6):\n",
    "    lst.append(i)\n",
    "def PrintAll():\n",
    "    for i in range(6):\n",
    "        print(lst[i])\n",
    "main()\n",
    "PrintAll()"
   ]
  },
  {
   "cell_type": "code",
   "execution_count": 25,
   "id": "e77729c7",
   "metadata": {},
   "outputs": [
    {
     "name": "stdout",
     "output_type": "stream",
     "text": [
      "1 2 3\n",
      "BBQ100%\n"
     ]
    }
   ],
   "source": [
    "def QTR():\n",
    "    print(\"QTR100%\")\n",
    "def BBQ():\n",
    "    print(\"BBQ100%\")\n",
    "sum = 0\n",
    "lst = list(map(int,input().split()))\n",
    "for i in range(len(lst)):\n",
    "    sum = sum + lst[i]\n",
    "if sum >= 10:\n",
    "    QTR()\n",
    "else :\n",
    "    BBQ()"
   ]
  },
  {
   "cell_type": "code",
   "execution_count": 29,
   "id": "ff88e550",
   "metadata": {},
   "outputs": [
    {
     "name": "stdout",
     "output_type": "stream",
     "text": [
      "2\n",
      "3 1 8 7 3 9 "
     ]
    }
   ],
   "source": [
    "lst = [3, 4, 1, 5, 8, 1, 7, 7, 3, 6, 9]\n",
    "a = int(input())\n",
    "for i in range(0,11,a):\n",
    "    print(lst[i],end=' ')"
   ]
  },
  {
   "cell_type": "code",
   "execution_count": 33,
   "id": "6d42d5c5",
   "metadata": {},
   "outputs": [
    {
     "name": "stdout",
     "output_type": "stream",
     "text": [
      "2 3\n",
      "(2)(3)\n"
     ]
    }
   ],
   "source": [
    "global a, b\n",
    "def mincoding():\n",
    "    global a, b\n",
    "    a,b = map(int, input().split())\n",
    "def main():\n",
    "    print(\"({})({})\".format(a,b))\n",
    "    \n",
    "mincoding()\n",
    "main()"
   ]
  },
  {
   "cell_type": "code",
   "execution_count": 39,
   "id": "bf39dfdb",
   "metadata": {},
   "outputs": [
    {
     "name": "stdout",
     "output_type": "stream",
     "text": [
      "b\n",
      "BBQ\n"
     ]
    }
   ],
   "source": [
    "def KFC():\n",
    "    print(\"KFC\")\n",
    "def BBQ():\n",
    "    print(\"BBQ\")\n",
    "a = input()\n",
    "\n",
    "if a == 'B':\n",
    "    KFC()\n",
    "    BBQ()\n",
    "elif a == 'b':\n",
    "    BBQ()\n",
    "elif a == '7':\n",
    "    KFC()"
   ]
  },
  {
   "cell_type": "code",
   "execution_count": 42,
   "id": "28710724",
   "metadata": {},
   "outputs": [
    {
     "name": "stdout",
     "output_type": "stream",
     "text": [
      "2 3\n",
      "22222\n",
      "33333\n"
     ]
    }
   ],
   "source": [
    "a, b = map(int, input().split())\n",
    "list_a = []\n",
    "list_b = []\n",
    "for i in range(5):\n",
    "    list_a.append(a)\n",
    "for i in range(5):\n",
    "    list_b.append(b)\n",
    "\n",
    "def PrintAll():\n",
    "    print(*list_a,sep='')\n",
    "    print(*list_b,sep='')\n",
    "PrintAll()"
   ]
  },
  {
   "cell_type": "code",
   "execution_count": 46,
   "id": "f6fe03d7",
   "metadata": {},
   "outputs": [
    {
     "name": "stdout",
     "output_type": "stream",
     "text": [
      "6\n",
      "65432\n"
     ]
    }
   ],
   "source": [
    "list = [0,0,0,0,0]\n",
    "a = int(input())\n",
    "for i in range(0, 5):\n",
    "    list[i] = a-i\n",
    "\n",
    "def KFC():\n",
    "    print(*list,sep='')\n",
    "KFC()"
   ]
  },
  {
   "cell_type": "code",
   "execution_count": 50,
   "id": "4f881eac",
   "metadata": {},
   "outputs": [
    {
     "name": "stdout",
     "output_type": "stream",
     "text": [
      "b\n",
      "3 2 1 4 "
     ]
    }
   ],
   "source": [
    "arr = [4,1,2,3,5]\n",
    "a = input()\n",
    "\n",
    "if a == 'a' or a == 'b' or a == 'c':\n",
    "    for i in range(3,-1,-1):\n",
    "        print(arr[i],end=' ')\n",
    "else :\n",
    "    for i in range(4,0,-1):\n",
    "        print(arr[i],end=' ')"
   ]
  },
  {
   "cell_type": "code",
   "execution_count": 52,
   "id": "14efec74",
   "metadata": {},
   "outputs": [
    {
     "name": "stdout",
     "output_type": "stream",
     "text": [
      "3 5\n",
      "2 4 6 "
     ]
    }
   ],
   "source": [
    "lst = [3,5,1,2,4,6,7]\n",
    "a, b = map(int, input().split())\n",
    "\n",
    "for i in range(a, b+1):\n",
    "    print(lst[i],end=' ')"
   ]
  },
  {
   "cell_type": "code",
   "execution_count": 54,
   "id": "05d30cb6",
   "metadata": {},
   "outputs": [
    {
     "name": "stdout",
     "output_type": "stream",
     "text": [
      "4\n",
      "4 3 2 1\n"
     ]
    }
   ],
   "source": [
    "data = [0,0,0,0]\n",
    "a = int(input())\n",
    "for i in range(len(data)):\n",
    "    data[i] = a-i\n",
    "print(*data,sep=' ')"
   ]
  },
  {
   "cell_type": "code",
   "execution_count": 55,
   "id": "9349bf88",
   "metadata": {},
   "outputs": [
    {
     "name": "stdout",
     "output_type": "stream",
     "text": [
      "1 9\n",
      "1 2 3 7 8 9\n"
     ]
    }
   ],
   "source": [
    "arr = [0,0,0,0,0,0]\n",
    "a, b = map(int, input().split())\n",
    "k = 0\n",
    "for i in range(0,3):\n",
    "    arr[i] = a+i\n",
    "for i in range(5,2,-1):\n",
    "    arr[i] = b-k\n",
    "    k+=1\n",
    "print(*arr,sep=' ')"
   ]
  },
  {
   "cell_type": "code",
   "execution_count": 56,
   "id": "6c7ce25b",
   "metadata": {},
   "outputs": [
    {
     "name": "stdout",
     "output_type": "stream",
     "text": [
      "1 2\n",
      "1 3 5 7 9\n"
     ]
    }
   ],
   "source": [
    "arr = [0,0,0,0,0]\n",
    "a, b = map(int, input().split())\n",
    "for i in range(0,5):\n",
    "    arr[i] = a+(i*b)\n",
    "print(*arr,sep=' ')"
   ]
  },
  {
   "cell_type": "code",
   "execution_count": 69,
   "id": "442f4334",
   "metadata": {},
   "outputs": [
    {
     "name": "stdout",
     "output_type": "stream",
     "text": [
      "3\n",
      "3 6 9 12 15 18\n"
     ]
    }
   ],
   "source": [
    "arr = [0,0,0,0,0,0]\n",
    "a = int(input())\n",
    "for i in range(0,6):\n",
    "    arr[i] = a*(i+1)\n",
    "print(*arr,sep=' ')"
   ]
  },
  {
   "cell_type": "code",
   "execution_count": 79,
   "id": "99367d8c",
   "metadata": {},
   "outputs": [
    {
     "name": "stdout",
     "output_type": "stream",
     "text": [
      "1 2 3 4 5\\\n"
     ]
    },
    {
     "ename": "TypeError",
     "evalue": "'list' object is not callable",
     "output_type": "error",
     "traceback": [
      "\u001b[1;31m---------------------------------------------------------------------------\u001b[0m",
      "\u001b[1;31mTypeError\u001b[0m                                 Traceback (most recent call last)",
      "Cell \u001b[1;32mIn[79], line 1\u001b[0m\n\u001b[1;32m----> 1\u001b[0m asd \u001b[38;5;241m=\u001b[39m \u001b[38;5;28;43mlist\u001b[39;49m\u001b[43m(\u001b[49m\u001b[38;5;28;43mmap\u001b[39;49m\u001b[43m(\u001b[49m\u001b[38;5;28;43mint\u001b[39;49m\u001b[43m,\u001b[49m\u001b[38;5;28;43minput\u001b[39;49m\u001b[43m(\u001b[49m\u001b[43m)\u001b[49m\u001b[38;5;241;43m.\u001b[39;49m\u001b[43msplit\u001b[49m\u001b[43m(\u001b[49m\u001b[43m)\u001b[49m\u001b[43m)\u001b[49m\u001b[43m)\u001b[49m\n",
      "\u001b[1;31mTypeError\u001b[0m: 'list' object is not callable"
     ]
    }
   ],
   "source": [
    "asd = list(map(int,input().split()))"
   ]
  },
  {
   "cell_type": "code",
   "execution_count": null,
   "id": "d48c29a0",
   "metadata": {},
   "outputs": [],
   "source": []
  },
  {
   "cell_type": "code",
   "execution_count": null,
   "id": "28ef28ba",
   "metadata": {},
   "outputs": [],
   "source": []
  },
  {
   "cell_type": "code",
   "execution_count": null,
   "id": "5f72fd20",
   "metadata": {},
   "outputs": [],
   "source": []
  },
  {
   "cell_type": "code",
   "execution_count": null,
   "id": "1c6bdb88",
   "metadata": {},
   "outputs": [],
   "source": []
  },
  {
   "cell_type": "code",
   "execution_count": null,
   "id": "aaad9bdf",
   "metadata": {},
   "outputs": [],
   "source": []
  },
  {
   "cell_type": "code",
   "execution_count": null,
   "id": "df2bded5",
   "metadata": {},
   "outputs": [],
   "source": []
  },
  {
   "cell_type": "code",
   "execution_count": null,
   "id": "a2d591d3",
   "metadata": {},
   "outputs": [],
   "source": []
  },
  {
   "cell_type": "code",
   "execution_count": null,
   "id": "db8fd50c",
   "metadata": {},
   "outputs": [],
   "source": []
  },
  {
   "cell_type": "code",
   "execution_count": null,
   "id": "e13e86af",
   "metadata": {},
   "outputs": [],
   "source": []
  }
 ],
 "metadata": {
  "kernelspec": {
   "display_name": "Python 3 (ipykernel)",
   "language": "python",
   "name": "python3"
  },
  "language_info": {
   "codemirror_mode": {
    "name": "ipython",
    "version": 3
   },
   "file_extension": ".py",
   "mimetype": "text/x-python",
   "name": "python",
   "nbconvert_exporter": "python",
   "pygments_lexer": "ipython3",
   "version": "3.9.13"
  }
 },
 "nbformat": 4,
 "nbformat_minor": 5
}
