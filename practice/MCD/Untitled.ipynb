{
 "cells": [
  {
   "cell_type": "code",
   "execution_count": 3,
   "id": "938aaaa8",
   "metadata": {
    "scrolled": true
   },
   "outputs": [
    {
     "name": "stdout",
     "output_type": "stream",
     "text": [
      "2\n",
      "n\n"
     ]
    }
   ],
   "source": [
    "lst = ['m', 'i', 'n']\n",
    "a = int(input())\n",
    "print(lst[a])"
   ]
  },
  {
   "cell_type": "code",
   "execution_count": 11,
   "id": "de750236",
   "metadata": {},
   "outputs": [
    {
     "name": "stdout",
     "output_type": "stream",
     "text": [
      "1\n",
      "KFC입니다\n"
     ]
    }
   ],
   "source": [
    "def KFC() :\n",
    "    print(\"KFC입니다\")\n",
    "def MC() :\n",
    "    print(\"MC입니다\")\n",
    "a = int(input())\n",
    "\n",
    "if a == 1:\n",
    "    KFC()\n",
    "else :\n",
    "    MC()"
   ]
  },
  {
   "cell_type": "code",
   "execution_count": 17,
   "id": "55a1866f",
   "metadata": {},
   "outputs": [
    {
     "name": "stdout",
     "output_type": "stream",
     "text": [
      "2\n",
      "12345\n",
      "12345\n"
     ]
    }
   ],
   "source": [
    "def LOT() :\n",
    "    for i in range(1,6):\n",
    "        print(i,end='')\n",
    "a = int(input())\n",
    "for i in range(a):\n",
    "    LOT()\n",
    "    print(\"\")"
   ]
  },
  {
   "cell_type": "code",
   "execution_count": 18,
   "id": "f8492ddf",
   "metadata": {},
   "outputs": [
    {
     "name": "stdout",
     "output_type": "stream",
     "text": [
      "##########\n",
      "@@@@@@@@@@\n"
     ]
    }
   ],
   "source": [
    "def KFC() :\n",
    "    print(\"##########\")\n",
    "def MC() :\n",
    "    print(\"@@@@@@@@@@\")\n",
    "KFC()\n",
    "MC()"
   ]
  },
  {
   "cell_type": "code",
   "execution_count": 27,
   "id": "b9ac5ed9",
   "metadata": {},
   "outputs": [
    {
     "name": "stdout",
     "output_type": "stream",
     "text": [
      "3 2 5\n",
      "4\n",
      "3 2 5 4 5 6\n"
     ]
    }
   ],
   "source": [
    "arr = [0,0,0,0,0,0]\n",
    "a, b, c = map(int, input().split())\n",
    "arr[0] = a\n",
    "arr[1] = b\n",
    "arr[2] = c\n",
    "d = int(input())\n",
    "arr[3] = d\n",
    "arr[4] = d+1\n",
    "arr[5] = d+2\n",
    "print(*arr,sep=' ')"
   ]
  },
  {
   "cell_type": "code",
   "execution_count": 55,
   "id": "fdb1647d",
   "metadata": {},
   "outputs": [
    {
     "name": "stdout",
     "output_type": "stream",
     "text": [
      "8\n",
      "만세\n"
     ]
    }
   ],
   "source": [
    "a = int(input())\n",
    "def KFC(a):\n",
    "    return a\n",
    "def BBQ():\n",
    "    if a > 5:\n",
    "        print(\"만세\")\n",
    "    else :\n",
    "        print(\"다시\")\n",
    "KFC(a)\n",
    "BBQ()"
   ]
  },
  {
   "cell_type": "code",
   "execution_count": 57,
   "id": "4ffe84ca",
   "metadata": {},
   "outputs": [
    {
     "name": "stdout",
     "output_type": "stream",
     "text": [
      "6\n",
      "ABC\n",
      "ABC\n",
      "ABC\n",
      "ABC\n",
      "ABC\n",
      "ABC\n"
     ]
    }
   ],
   "source": [
    "lst = ['A','B','C']\n",
    "def KFC():\n",
    "    for i in range(3):\n",
    "        print(lst[i],end='')\n",
    "def main():\n",
    "    a = int(input())\n",
    "    for i in range(a):\n",
    "        KFC()\n",
    "        print(\"\")\n",
    "main()"
   ]
  },
  {
   "cell_type": "code",
   "execution_count": null,
   "id": "a4640f13",
   "metadata": {},
   "outputs": [],
   "source": [
    "lst = [0,0,0,0]\n",
    "def input():\n",
    "    a, b, c, d = map(int, input().split())\n",
    "    lst[0] = a\n",
    "    lst[1] = b\n",
    "    lst[2] = c\n",
    "    lst[3] = d\n"
   ]
  },
  {
   "cell_type": "code",
   "execution_count": null,
   "id": "21f732d8",
   "metadata": {},
   "outputs": [],
   "source": []
  },
  {
   "cell_type": "code",
   "execution_count": null,
   "id": "60909baf",
   "metadata": {},
   "outputs": [],
   "source": []
  },
  {
   "cell_type": "code",
   "execution_count": null,
   "id": "731024dc",
   "metadata": {},
   "outputs": [],
   "source": []
  },
  {
   "cell_type": "code",
   "execution_count": null,
   "id": "7c3e033d",
   "metadata": {},
   "outputs": [],
   "source": []
  },
  {
   "cell_type": "code",
   "execution_count": null,
   "id": "eb460059",
   "metadata": {},
   "outputs": [],
   "source": []
  },
  {
   "cell_type": "code",
   "execution_count": null,
   "id": "19f9bb6c",
   "metadata": {},
   "outputs": [],
   "source": []
  },
  {
   "cell_type": "code",
   "execution_count": null,
   "id": "ac38f422",
   "metadata": {},
   "outputs": [],
   "source": []
  },
  {
   "cell_type": "code",
   "execution_count": null,
   "id": "5726def1",
   "metadata": {},
   "outputs": [],
   "source": []
  },
  {
   "cell_type": "code",
   "execution_count": null,
   "id": "058150a6",
   "metadata": {},
   "outputs": [],
   "source": []
  },
  {
   "cell_type": "code",
   "execution_count": null,
   "id": "f0889b6f",
   "metadata": {},
   "outputs": [],
   "source": []
  },
  {
   "cell_type": "code",
   "execution_count": null,
   "id": "ae9439c0",
   "metadata": {},
   "outputs": [],
   "source": []
  },
  {
   "cell_type": "code",
   "execution_count": null,
   "id": "dab3c3b4",
   "metadata": {},
   "outputs": [],
   "source": []
  },
  {
   "cell_type": "code",
   "execution_count": null,
   "id": "bafa3f98",
   "metadata": {},
   "outputs": [],
   "source": []
  },
  {
   "cell_type": "code",
   "execution_count": null,
   "id": "cc530874",
   "metadata": {},
   "outputs": [],
   "source": []
  },
  {
   "cell_type": "code",
   "execution_count": null,
   "id": "5f813254",
   "metadata": {},
   "outputs": [],
   "source": []
  },
  {
   "cell_type": "code",
   "execution_count": null,
   "id": "b633075f",
   "metadata": {},
   "outputs": [],
   "source": []
  },
  {
   "cell_type": "code",
   "execution_count": null,
   "id": "f3111ca6",
   "metadata": {},
   "outputs": [],
   "source": []
  },
  {
   "cell_type": "code",
   "execution_count": null,
   "id": "0931f139",
   "metadata": {},
   "outputs": [],
   "source": []
  }
 ],
 "metadata": {
  "kernelspec": {
   "display_name": "Python 3 (ipykernel)",
   "language": "python",
   "name": "python3"
  },
  "language_info": {
   "codemirror_mode": {
    "name": "ipython",
    "version": 3
   },
   "file_extension": ".py",
   "mimetype": "text/x-python",
   "name": "python",
   "nbconvert_exporter": "python",
   "pygments_lexer": "ipython3",
   "version": "3.9.13"
  }
 },
 "nbformat": 4,
 "nbformat_minor": 5
}
