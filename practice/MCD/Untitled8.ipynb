{
 "cells": [
  {
   "cell_type": "code",
   "execution_count": 20,
   "id": "33ccd7aa",
   "metadata": {},
   "outputs": [
    {
     "name": "stdout",
     "output_type": "stream",
     "text": [
      "0\n",
      "5\n"
     ]
    }
   ],
   "source": [
    "global arr\n",
    "arr = [[1,0,0,0,0],[1,0,1,0,0],[1,1,0,1,0],[1,0,1,0,0],\n",
    "       [0,1,0,0,1],[0,0,0,1,0],[1,1,0,0,0]]\n",
    "def input_num():\n",
    "    global a\n",
    "    a = int(input())\n",
    "def process():\n",
    "    global count\n",
    "    count = 0\n",
    "    for i in range(7):\n",
    "        if arr[i][a] == 1:\n",
    "            count+=1\n",
    "def output_num():\n",
    "    print(count)\n",
    "input_num()\n",
    "process()\n",
    "output_num()"
   ]
  },
  {
   "cell_type": "code",
   "execution_count": 32,
   "id": "e2a48804",
   "metadata": {},
   "outputs": [
    {
     "name": "stdout",
     "output_type": "stream",
     "text": [
      "1\n",
      "123\n",
      "456\n",
      "789\n"
     ]
    }
   ],
   "source": [
    "a = int(input())\n",
    "def run_a():\n",
    "    arr = [[0 for i in range(3)] for j in range(3)]\n",
    "    if a < 10:\n",
    "        for i in range(3):\n",
    "            for j in range(3):\n",
    "                arr[i][j] = 1+(i*3)+j\n",
    "                print(arr[i][j],end='')\n",
    "            print(\"\")\n",
    "    else :\n",
    "        for i in range(3):\n",
    "            for j in range(3):\n",
    "                arr[i][j] = 3+(i*3)-j\n",
    "                print(arr[i][j],end='')\n",
    "            print(\"\")\n",
    "run_a()"
   ]
  },
  {
   "cell_type": "code",
   "execution_count": 36,
   "id": "60485761",
   "metadata": {},
   "outputs": [
    {
     "name": "stdout",
     "output_type": "stream",
     "text": [
      "6\n",
      "7\n"
     ]
    }
   ],
   "source": [
    "def yesOrNo():\n",
    "    global b\n",
    "    a = int(input())\n",
    "    if a % 3 == 0:\n",
    "        b = 7\n",
    "    elif a % 3 == 1:\n",
    "        b = 35\n",
    "    else :\n",
    "        b = 50\n",
    "yesOrNo()\n",
    "print(b)"
   ]
  },
  {
   "cell_type": "code",
   "execution_count": 43,
   "id": "8db8b858",
   "metadata": {},
   "outputs": [
    {
     "name": "stdout",
     "output_type": "stream",
     "text": [
      "1 2 3\n",
      "6\n"
     ]
    }
   ],
   "source": [
    "def input_a():\n",
    "    a = map(int,input().split())\n",
    "    return a\n",
    "def calc():\n",
    "    print(input_a_a + input_a_b + input_a_c)\n",
    "input_a_a, input_a_b, input_a_c = input_a()\n",
    "calc()"
   ]
  },
  {
   "cell_type": "code",
   "execution_count": 48,
   "id": "ccd44052",
   "metadata": {},
   "outputs": [
    {
     "name": "stdout",
     "output_type": "stream",
     "text": [
      "5 1\n",
      "합:6\n",
      "차:4\n"
     ]
    }
   ],
   "source": [
    "a, b = map(int,input().split())\n",
    "def sum_ab():\n",
    "    return a+b\n",
    "def comp_ab():\n",
    "    return a-b\n",
    "def print_ab():\n",
    "    print(\"합:{}\".format(sum_ab_a))\n",
    "    print(\"차:{}\".format(comp_ab_a))\n",
    "sum_ab()\n",
    "comp_ab()\n",
    "sum_ab_a = sum_ab()\n",
    "comp_ab_a = comp_ab()\n",
    "print_ab()"
   ]
  },
  {
   "cell_type": "code",
   "execution_count": 70,
   "id": "dfb4f4d5",
   "metadata": {},
   "outputs": [
    {
     "name": "stdout",
     "output_type": "stream",
     "text": [
      "8\n",
      "미발견\n"
     ]
    }
   ],
   "source": [
    "lst = [3,4,1,3,2,7,3]\n",
    "a = int(input())\n",
    "for i in range(len(lst)):\n",
    "    if lst[i] == a:\n",
    "        flag = 1\n",
    "        break\n",
    "    else :\n",
    "        flag = 0\n",
    "if flag == 1:\n",
    "    print(\"발견\")\n",
    "else :\n",
    "    print(\"미발견\")"
   ]
  },
  {
   "cell_type": "code",
   "execution_count": 72,
   "id": "cc83a84b",
   "metadata": {},
   "outputs": [
    {
     "name": "stdout",
     "output_type": "stream",
     "text": [
      "4 1 5 2 3 2 2\n",
      "MAX=5\n",
      "MIN=1\n"
     ]
    }
   ],
   "source": [
    "lst = list(map(int,input().split()))\n",
    "print(\"MAX={}\".format(max(lst)))\n",
    "print(\"MIN={}\".format(min(lst)))"
   ]
  },
  {
   "cell_type": "code",
   "execution_count": 73,
   "id": "ed5daaaf",
   "metadata": {},
   "outputs": [
    {
     "name": "stdout",
     "output_type": "stream",
     "text": [
      "P\n",
      "발견\n"
     ]
    }
   ],
   "source": [
    "lst = ['S','t','r','c','t','P','o','i','n','t','e','r']\n",
    "a = input()\n",
    "for i in range(len(lst)):\n",
    "    if lst[i] == a:\n",
    "        flag = 1\n",
    "        break\n",
    "    else :\n",
    "        flag = 0\n",
    "if flag == 1:\n",
    "    print(\"발견\")\n",
    "else :\n",
    "    print(\"미발견\")"
   ]
  },
  {
   "cell_type": "code",
   "execution_count": 75,
   "id": "9b235ab9",
   "metadata": {},
   "outputs": [
    {
     "name": "stdout",
     "output_type": "stream",
     "text": [
      "d T e a A B f a\n",
      "00000000\n",
      "dTeaABfa\n"
     ]
    }
   ],
   "source": [
    "lst = list(input().split())\n",
    "for i in range(len(lst)):\n",
    "    if lst[i].isupper == True:\n",
    "        lst_big[i] = lst[i]\n",
    "    else :\n",
    "        lst_small[i] = lst[i]\n",
    "print(*lst_big,sep='')\n",
    "print(*lst_small,sep='')"
   ]
  },
  {
   "cell_type": "code",
   "execution_count": 76,
   "id": "c6229aaf",
   "metadata": {},
   "outputs": [
    {
     "name": "stdout",
     "output_type": "stream",
     "text": [
      "d T e a A B f a\n"
     ]
    }
   ],
   "source": [
    "lst = list(input().split())\n",
    "for i in range(len(lst)):\n",
    "    if lst[i].isupper == True:\n",
    "        lst_big[i] = lst[i]\n",
    "        print(\"O\")"
   ]
  },
  {
   "cell_type": "code",
   "execution_count": null,
   "id": "ca08b411",
   "metadata": {},
   "outputs": [],
   "source": []
  },
  {
   "cell_type": "code",
   "execution_count": null,
   "id": "eaba4262",
   "metadata": {},
   "outputs": [],
   "source": []
  },
  {
   "cell_type": "code",
   "execution_count": null,
   "id": "281a4f2c",
   "metadata": {},
   "outputs": [],
   "source": []
  },
  {
   "cell_type": "code",
   "execution_count": null,
   "id": "9b09aa35",
   "metadata": {},
   "outputs": [],
   "source": []
  },
  {
   "cell_type": "code",
   "execution_count": null,
   "id": "e745120e",
   "metadata": {},
   "outputs": [],
   "source": []
  },
  {
   "cell_type": "code",
   "execution_count": null,
   "id": "b698f89d",
   "metadata": {},
   "outputs": [],
   "source": []
  },
  {
   "cell_type": "code",
   "execution_count": null,
   "id": "0c821fa9",
   "metadata": {},
   "outputs": [],
   "source": []
  },
  {
   "cell_type": "code",
   "execution_count": null,
   "id": "9be1e8fb",
   "metadata": {},
   "outputs": [],
   "source": []
  },
  {
   "cell_type": "code",
   "execution_count": null,
   "id": "a6cec823",
   "metadata": {},
   "outputs": [],
   "source": []
  },
  {
   "cell_type": "code",
   "execution_count": null,
   "id": "80e1d259",
   "metadata": {},
   "outputs": [],
   "source": []
  },
  {
   "cell_type": "code",
   "execution_count": null,
   "id": "6d7493f7",
   "metadata": {},
   "outputs": [],
   "source": []
  },
  {
   "cell_type": "code",
   "execution_count": null,
   "id": "dfd76c34",
   "metadata": {},
   "outputs": [],
   "source": []
  },
  {
   "cell_type": "code",
   "execution_count": null,
   "id": "607269f6",
   "metadata": {},
   "outputs": [],
   "source": []
  },
  {
   "cell_type": "code",
   "execution_count": null,
   "id": "86aba8b3",
   "metadata": {},
   "outputs": [],
   "source": []
  },
  {
   "cell_type": "code",
   "execution_count": null,
   "id": "b6b1a20c",
   "metadata": {},
   "outputs": [],
   "source": []
  },
  {
   "cell_type": "code",
   "execution_count": null,
   "id": "d752f845",
   "metadata": {},
   "outputs": [],
   "source": []
  },
  {
   "cell_type": "code",
   "execution_count": null,
   "id": "cefc6c95",
   "metadata": {},
   "outputs": [],
   "source": []
  }
 ],
 "metadata": {
  "kernelspec": {
   "display_name": "Python 3 (ipykernel)",
   "language": "python",
   "name": "python3"
  },
  "language_info": {
   "codemirror_mode": {
    "name": "ipython",
    "version": 3
   },
   "file_extension": ".py",
   "mimetype": "text/x-python",
   "name": "python",
   "nbconvert_exporter": "python",
   "pygments_lexer": "ipython3",
   "version": "3.9.13"
  }
 },
 "nbformat": 4,
 "nbformat_minor": 5
}
