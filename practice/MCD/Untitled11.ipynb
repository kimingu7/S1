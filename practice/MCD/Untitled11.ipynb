{
 "cells": [
  {
   "cell_type": "code",
   "execution_count": 3,
   "id": "6ac0630b",
   "metadata": {},
   "outputs": [
    {
     "name": "stdout",
     "output_type": "stream",
     "text": [
      "B\n",
      "2\n"
     ]
    }
   ],
   "source": [
    "str_1 = 'BBQWORLD'\n",
    "str_2 = 'KFCAPPLE'\n",
    "str_3 = 'LOT'\n",
    "lst_1 = list(str_1)\n",
    "lst_2 = list(str_2)\n",
    "lst_3 = list(str_3)\n",
    "char = input()\n",
    "count = 0\n",
    "for i in range(len(lst_1)):\n",
    "    if lst_1[i] == char:\n",
    "        count+=1\n",
    "for i in range(len(lst_2)):\n",
    "    if lst_2[i] == char:\n",
    "        count+=1\n",
    "for i in range(len(lst_3)):\n",
    "    if lst_3[i] == char:\n",
    "        count+=1\n",
    "print(count)"
   ]
  },
  {
   "cell_type": "code",
   "execution_count": 22,
   "id": "6e2ba321",
   "metadata": {},
   "outputs": [
    {
     "name": "stdout",
     "output_type": "stream",
     "text": [
      "DATA\n",
      "TOPC\n",
      "CON\n",
      "4=DATA\n",
      "4=TOPC\n",
      "3=CON\n"
     ]
    }
   ],
   "source": [
    "lst = [[0 for i in range(10)] for j in range(3)]\n",
    "for i in range(3):\n",
    "    lst[i] = list(input())\n",
    "def Countline():\n",
    "    return len(lst[i])\n",
    "for i in range(3):\n",
    "    Countline()\n",
    "    print('{}={}'.format(Countline(),''.join(lst[i])))"
   ]
  },
  {
   "cell_type": "code",
   "execution_count": 29,
   "id": "12754dff",
   "metadata": {},
   "outputs": [
    {
     "name": "stdout",
     "output_type": "stream",
     "text": [
      "C\n",
      "C\n",
      "C\n",
      "C\n",
      "미발견\n"
     ]
    }
   ],
   "source": [
    "lst = [[0 for i in range(5)] for j in range(4)]\n",
    "for i in range(4):\n",
    "    lst[i] = list(input())\n",
    "flag_A = 0\n",
    "flag_B = 0\n",
    "for i in range(4):\n",
    "    for j in range(len(lst[i])):\n",
    "        if lst[i][j] == 'A':\n",
    "            flag_A = 1\n",
    "        if lst[i][j] == 'B':\n",
    "            flag_B = 1\n",
    "if flag_A == 1 and flag_B == 1:\n",
    "    print(\"대발견\")\n",
    "elif flag_A == 0 and flag_B == 0:\n",
    "    print(\"미발견\")\n",
    "else :\n",
    "    print(\"중발견\")"
   ]
  },
  {
   "cell_type": "code",
   "execution_count": 54,
   "id": "2db2146f",
   "metadata": {},
   "outputs": [
    {
     "name": "stdout",
     "output_type": "stream",
     "text": [
      "char\n",
      "bbq\n",
      "charbbq\n"
     ]
    }
   ],
   "source": [
    "lst = [[0 for i in range(5)] for j in range(2)]\n",
    "for i in range(2):\n",
    "    lst[i] = list(input())\n",
    "char = [0 for i in range(12)]\n",
    "for i in range(len(lst[0])):\n",
    "    char[i] = lst[0][i]\n",
    "for i in range(len(lst[0]),len(lst[0]) + len(lst[1])):\n",
    "    char[i] = lst[1][i-len(lst[0])]\n",
    "while 0 in char:\n",
    "    char.remove(0)\n",
    "print(*char,sep='')"
   ]
  },
  {
   "cell_type": "code",
   "execution_count": 59,
   "id": "7c0541ae",
   "metadata": {},
   "outputs": [
    {
     "name": "stdout",
     "output_type": "stream",
     "text": [
      "3\n",
      "AADTW\n",
      "BBQK\n"
     ]
    }
   ],
   "source": [
    "lst = [['D','A','T','A','W'],['B','B','Q','K']]\n",
    "num = int(input())\n",
    "if num % 2 == 1 :\n",
    "    lst[0].sort()\n",
    "else :\n",
    "    lst[1].sort()\n",
    "for i in lst:\n",
    "    print(*i,sep='')"
   ]
  },
  {
   "cell_type": "code",
   "execution_count": 60,
   "id": "7fd1ab8a",
   "metadata": {},
   "outputs": [
    {
     "name": "stdout",
     "output_type": "stream",
     "text": [
      "1 3\n",
      "OTIBCDOUR"
     ]
    }
   ],
   "source": [
    "lst = [['P','O','T','I','O'],['A','B','C','D','E'],['Y','O','U','R','E']]\n",
    "a, b = map(int,input().split())\n",
    "for i in range(3):\n",
    "    for j in range(a,b+1):\n",
    "        print(lst[i][j],end='')"
   ]
  },
  {
   "cell_type": "code",
   "execution_count": 69,
   "id": "4bd7897f",
   "metadata": {},
   "outputs": [
    {
     "name": "stdout",
     "output_type": "stream",
     "text": [
      "backbt\n",
      "backlog\n",
      "3\n"
     ]
    }
   ],
   "source": [
    "lst = [[0 for i in range(8)] for j in range(2)]\n",
    "for i in range(2):\n",
    "    lst[i] = list(input())\n",
    "count = abs(len(lst[0]) - len(lst[1]))\n",
    "if len(lst[0]) > len(lst[1]):\n",
    "    for i in range(len(lst[1])):\n",
    "        if lst[0][i] != lst[1][i]:\n",
    "            count+=1\n",
    "else :\n",
    "    for i in range(len(lst[0])):\n",
    "        if lst[0][i] != lst[1][i]:\n",
    "            count+=1\n",
    "print(count)"
   ]
  },
  {
   "cell_type": "code",
   "execution_count": 82,
   "id": "d87b1985",
   "metadata": {},
   "outputs": [
    {
     "name": "stdout",
     "output_type": "stream",
     "text": [
      "A\n",
      "DEF\n",
      "BC \n",
      "A  \n"
     ]
    }
   ],
   "source": [
    "lst = [[0 for i in range(3)] for j in range(3)]\n",
    "char = input()\n",
    "i = j = 0\n",
    "while i < 3:\n",
    "    j = 0\n",
    "    while j < 3:\n",
    "        if i + j < 3 and i != 0:\n",
    "            lst[i][j] = chr(ord(char)+2-i+j)\n",
    "        elif i == 0:\n",
    "            lst[i][j] = chr(ord(char)+3-i+j)\n",
    "        j+=1\n",
    "    i+=1\n",
    "for i in range(3):\n",
    "    for j in range(3):\n",
    "        if lst[i][j] == 0:\n",
    "            lst[i][j] = ' '\n",
    "for i in lst:\n",
    "    print(*i,sep='')"
   ]
  },
  {
   "cell_type": "code",
   "execution_count": 87,
   "id": "5b945fcb",
   "metadata": {},
   "outputs": [
    {
     "name": "stdout",
     "output_type": "stream",
     "text": [
      "8\n",
      "2개\n"
     ]
    }
   ],
   "source": [
    "lst = [[5,1,4,2,6],[3,5,0,0,7],[9,9,8,3,1]]\n",
    "num = int(input())\n",
    "count = 0\n",
    "for i in range(3):\n",
    "    for j in range(5):\n",
    "        if lst[i][j] > num:\n",
    "            count+=1\n",
    "print(f'{count}개')"
   ]
  },
  {
   "cell_type": "code",
   "execution_count": 91,
   "id": "59cf87d3",
   "metadata": {},
   "outputs": [
    {
     "name": "stdout",
     "output_type": "stream",
     "text": [
      "1\n",
      "7 7 7 7\n",
      "8 7 6 5\n",
      "4 3 2 1\n"
     ]
    }
   ],
   "source": [
    "lst = [[0 for i in range(4)] for j in range(3)]\n",
    "for i in range(3):\n",
    "    for j in range(4):\n",
    "        lst[i][j] = 12-(i*4)-j\n",
    "num = int(input())\n",
    "if num == 1:\n",
    "    for i in range(4):\n",
    "        lst[0][i] = 7\n",
    "elif num == 2:\n",
    "    for i in range(4):\n",
    "        lst[1][i] = 7\n",
    "elif num == 3:\n",
    "    for i in range(4):\n",
    "        lst[2][i] = 7\n",
    "for i in lst:\n",
    "    print(*i)"
   ]
  },
  {
   "cell_type": "code",
   "execution_count": 97,
   "id": "0710ec6a",
   "metadata": {},
   "outputs": [
    {
     "name": "stdout",
     "output_type": "stream",
     "text": [
      "101\n",
      "MIN"
     ]
    }
   ],
   "source": [
    "juso = [402,401,302,301,202,201,102,101]\n",
    "name = [['K','I','M'],['T','E','A'],['S','O','M'],['O','P','P','O'],\n",
    "       ['T','O','M'],['G','D','K'],['J','A','M','E'],['M','I','N']]\n",
    "call = int(input())\n",
    "for i in range(8):\n",
    "    if call == juso[i]:\n",
    "        for j in range(len(name[i])):\n",
    "            print(name[i][j],end='')"
   ]
  },
  {
   "cell_type": "code",
   "execution_count": 100,
   "id": "2e0d4b80",
   "metadata": {},
   "outputs": [
    {
     "name": "stdout",
     "output_type": "stream",
     "text": [
      "1 5 2\n",
      "1 2 3 4 5 \n",
      "1 2 3 4 5 \n"
     ]
    }
   ],
   "source": [
    "a, b, c = map(int,input().split())\n",
    "for i in range(c):\n",
    "    for j in range(b):\n",
    "        print(a+j,end=' ')\n",
    "    print(\"\")"
   ]
  },
  {
   "cell_type": "code",
   "execution_count": 105,
   "id": "920543a6",
   "metadata": {},
   "outputs": [
    {
     "name": "stdout",
     "output_type": "stream",
     "text": [
      "2 5\n",
      "2 5\n",
      "2 5\n",
      "0 0 3 3 3 3 0 0 0\n"
     ]
    }
   ],
   "source": [
    "lst = [0 for i in range(9)]\n",
    "def inc_idx():\n",
    "    start_index, end_index = map(int,input().split())\n",
    "    for i in range(start_index, end_index+1):\n",
    "        lst[i]+=1\n",
    "inc_idx()\n",
    "inc_idx()\n",
    "inc_idx()\n",
    "print(*lst)"
   ]
  },
  {
   "cell_type": "code",
   "execution_count": 117,
   "id": "5f1b5cd2",
   "metadata": {
    "scrolled": true
   },
   "outputs": [
    {
     "name": "stdout",
     "output_type": "stream",
     "text": [
      "5 5 1 3 3 1\n",
      "\n",
      "0 0 0\n",
      "0 0 0\n"
     ]
    }
   ],
   "source": [
    "lst_1 = [[0 for i in range(3)] for j in range(2)]\n",
    "lst_2 = [0 for i in range(6)]\n",
    "lst_3 = [[0 for i in range(3)] for j in range(2)]\n",
    "for i in range(2):\n",
    "    lst_1[i] = list(map(int, input().split()))\n",
    "for i in range(len(lst_1[0])):\n",
    "    lst_2[i] = lst_1[0][i]\n",
    "for i in range(len(lst_1[0]),len(lst_1[0]) + len(lst_1[1])):\n",
    "    lst_2[i] = lst_1[1][i-len(lst_1[0])]\n",
    "lst_2.sort()\n",
    "for i in range(2):\n",
    "    for j in range(3):\n",
    "        lst_3[i][j] = lst_2[(i*3)+j]\n",
    "for i in lst_3:\n",
    "    print(*i)"
   ]
  },
  {
   "cell_type": "code",
   "execution_count": 120,
   "id": "26762168",
   "metadata": {},
   "outputs": [
    {
     "name": "stdout",
     "output_type": "stream",
     "text": [
      "2\n",
      "QSA"
     ]
    }
   ],
   "source": [
    "lst = [['F','R','Q','W','T'],['G','A','S','Y','Q'],['A','S','A','D','B']]\n",
    "num = int(input())\n",
    "for i in range(3):\n",
    "    print(lst[i][num],end='')"
   ]
  },
  {
   "cell_type": "code",
   "execution_count": 124,
   "id": "60df31d8",
   "metadata": {},
   "outputs": [
    {
     "name": "stdout",
     "output_type": "stream",
     "text": [
      "P L M N Q\n",
      "3개 맞추었습니다\n"
     ]
    }
   ],
   "source": [
    "quiz_lst = ['A','P','P','L','E','T']\n",
    "ans_lst = list(input().split())\n",
    "count = 0\n",
    "for i in range(len(quiz_lst)):\n",
    "    for j in range(len(ans_lst)):\n",
    "        if quiz_lst[i] == ans_lst[j]:\n",
    "            count+=1\n",
    "print(f'{count}개 맞추었습니다')"
   ]
  },
  {
   "cell_type": "code",
   "execution_count": 126,
   "id": "940695da",
   "metadata": {},
   "outputs": [
    {
     "name": "stdout",
     "output_type": "stream",
     "text": [
      "1\n",
      "1 2 3 4\n",
      "8 7 6 5\n",
      "9 10 11 12\n",
      "16 15 14 13\n"
     ]
    }
   ],
   "source": [
    "lst = [[0 for i in range(4)]for j in range(4)]\n",
    "num = int(input())\n",
    "for i in range(4):\n",
    "    for j in range(4):\n",
    "        if i % 2 == 0:\n",
    "            lst[i][j] = num + (i*4) + j\n",
    "        else :\n",
    "            lst[i][j] = num + 3 + (i*4) - j\n",
    "for i in lst:\n",
    "    print(*i)"
   ]
  },
  {
   "cell_type": "code",
   "execution_count": 129,
   "id": "ac60388d",
   "metadata": {},
   "outputs": [
    {
     "name": "stdout",
     "output_type": "stream",
     "text": [
      "INCOIDNG\n",
      "APPLE\n",
      "N\n",
      "GEN"
     ]
    }
   ],
   "source": [
    "lst = [[0 for i in range(10)]for j in range(3)]\n",
    "for i in range(3):\n",
    "    lst[i] = list(input())\n",
    "for i in range(3):\n",
    "    print(lst[i][len(lst[i])-1],end='')"
   ]
  },
  {
   "cell_type": "code",
   "execution_count": 130,
   "id": "deed6399",
   "metadata": {},
   "outputs": [
    {
     "name": "stdout",
     "output_type": "stream",
     "text": [
      "B F\n",
      "6\n"
     ]
    }
   ],
   "source": [
    "lst_1 = [['A','B','K','T'],['K','F','C','F'],['B','B','Q','Q'],['T','P','Z','F']]\n",
    "lst_2 = list(input().split())\n",
    "count = 0\n",
    "for i in range(4):\n",
    "    for j in range(4):\n",
    "        for k in range(len(lst_2)):\n",
    "            if lst_1[i][j] == lst_2[k]:\n",
    "                count+=1\n",
    "print(count)"
   ]
  },
  {
   "cell_type": "code",
   "execution_count": 134,
   "id": "b05c7df1",
   "metadata": {},
   "outputs": [
    {
     "name": "stdout",
     "output_type": "stream",
     "text": [
      "show\n",
      "2\n",
      "shAow\n"
     ]
    }
   ],
   "source": [
    "lst = list(input())\n",
    "index_num = int(input())\n",
    "lst.insert(index_num,'A')\n",
    "print(*lst,sep='')"
   ]
  },
  {
   "cell_type": "code",
   "execution_count": 136,
   "id": "143fec3e",
   "metadata": {},
   "outputs": [
    {
     "name": "stdout",
     "output_type": "stream",
     "text": [
      "3 4 1 2\n",
      "5 3 8 9\n",
      "12 12 4 7\n"
     ]
    }
   ],
   "source": [
    "lst_a = list(map(int, input().split()))\n",
    "lst_b = list(map(int, input().split()))\n",
    "lst_result = [0 for i in range(4)]\n",
    "for i in range(len(lst_a)):\n",
    "    lst_result[i] = lst_a[i] + lst_b[3-i]\n",
    "print(*lst_result)"
   ]
  },
  {
   "cell_type": "code",
   "execution_count": 140,
   "id": "5dbadacf",
   "metadata": {},
   "outputs": [
    {
     "name": "stdout",
     "output_type": "stream",
     "text": [
      "gtkbacd\n",
      "3\n",
      "gtkacd\n"
     ]
    }
   ],
   "source": [
    "lst = list(input())\n",
    "index_num = int(input())\n",
    "del(lst[index_num])\n",
    "print(*lst,sep='')"
   ]
  },
  {
   "cell_type": "code",
   "execution_count": 144,
   "id": "0496cd5d",
   "metadata": {},
   "outputs": [
    {
     "name": "stdout",
     "output_type": "stream",
     "text": [
      "3 4 1 4 2 6\n",
      "3 7 8 12 14 20\n"
     ]
    }
   ],
   "source": [
    "lst_a = list(map(int,input().split()))\n",
    "lst_b = [0 for i in range(len(lst_a))]\n",
    "for i in range(len(lst_a)):\n",
    "    lst_b[i] = lst_a[i] + lst_b[i-1]\n",
    "print(*lst_b)"
   ]
  },
  {
   "cell_type": "code",
   "execution_count": 149,
   "id": "e55539c6",
   "metadata": {},
   "outputs": [
    {
     "name": "stdout",
     "output_type": "stream",
     "text": [
      "A\n",
      "A\n",
      "A\n",
      "M이 존재하지 않습니다\n"
     ]
    }
   ],
   "source": [
    "lst = [[0 for i in range(10)]for j in range(3)]\n",
    "for i in range(3):\n",
    "    lst[i] = list(input())\n",
    "flag = 0\n",
    "for i in range(3):\n",
    "    for j in range(len(lst[i])):\n",
    "        if lst[i][j] == 'M':\n",
    "            flag = 1\n",
    "            break\n",
    "if flag == 1:\n",
    "    print(\"M이 존재합니다\")\n",
    "else :\n",
    "    print(\"M이 존재하지 않습니다\")"
   ]
  },
  {
   "cell_type": "code",
   "execution_count": 155,
   "id": "1da16d7d",
   "metadata": {},
   "outputs": [
    {
     "name": "stdout",
     "output_type": "stream",
     "text": [
      "2 6 2\n",
      "2 3 4 5 6 \n",
      "2 3 4 5 6 \n"
     ]
    }
   ],
   "source": [
    "a, b, c = map(int, input().split())\n",
    "for i in range(c):\n",
    "    for j in range(a,b+1):\n",
    "        print(j,end=' ')\n",
    "    print(\"\")"
   ]
  },
  {
   "cell_type": "code",
   "execution_count": 157,
   "id": "b59a7195",
   "metadata": {},
   "outputs": [
    {
     "name": "stdout",
     "output_type": "stream",
     "text": [
      "0 2\n",
      "F\n"
     ]
    }
   ],
   "source": [
    "lst = [[0 for i in range(3)] for j in range(6)]\n",
    "x, y = map(int,(input().split()))\n",
    "for i in range(6):\n",
    "    for j in range(3):\n",
    "        lst[i][j] = chr(ord('R')-i-(j*6))\n",
    "print(lst[x][y])"
   ]
  },
  {
   "cell_type": "code",
   "execution_count": 171,
   "id": "90259fd9",
   "metadata": {},
   "outputs": [
    {
     "name": "stdout",
     "output_type": "stream",
     "text": [
      "1 3 5 2 6 -5\n",
      "(1,1)\n",
      "(1,2)\n"
     ]
    }
   ],
   "source": [
    "lst_1 = list(map(int, input().split()))\n",
    "lst_2 = [[0 for i in range(3)] for j in range(2)]\n",
    "for i in range(3):\n",
    "    lst_2[0][i] = lst_1[i]\n",
    "for i in range(3):\n",
    "    lst_2[1][i] = lst_1[i+3]\n",
    "def lst_2_max():\n",
    "    lst_2_max = max(map(max, lst_2))\n",
    "    return lst_2_max\n",
    "def lst_2_min():\n",
    "    lst_2_min = min(map(min, lst_2))\n",
    "    return lst_2_min\n",
    "lst_2_max()\n",
    "lst_2_min()\n",
    "for i in range(2):\n",
    "    for j in range(3):\n",
    "        if lst_2[i][j] == lst_2_max():\n",
    "            print(f'({i},{j})')\n",
    "        if lst_2[i][j] == lst_2_min():\n",
    "            print(f'({i},{j})')"
   ]
  },
  {
   "cell_type": "code",
   "execution_count": 172,
   "id": "a53c30d5",
   "metadata": {},
   "outputs": [
    {
     "name": "stdout",
     "output_type": "stream",
     "text": [
      "4 2\n",
      "2048\n"
     ]
    }
   ],
   "source": [
    "lst = [0 for i in range(6)]\n",
    "num_1, num_2 = map(int, input().split())\n",
    "lst[0] = num_1\n",
    "lst[1] = num_2\n",
    "for i in range(2,6):\n",
    "    lst[i] = lst[i-2] * lst[i-1]\n",
    "print(lst[5])"
   ]
  },
  {
   "cell_type": "code",
   "execution_count": null,
   "id": "69e14347",
   "metadata": {},
   "outputs": [],
   "source": [
    "lst = [0 for i in range(3)]"
   ]
  },
  {
   "cell_type": "code",
   "execution_count": 174,
   "id": "b9444d5f",
   "metadata": {},
   "outputs": [
    {
     "name": "stdout",
     "output_type": "stream",
     "text": [
      "goodbook\n",
      "o\n",
      "z\n",
      "gzzdbzzk\n"
     ]
    }
   ],
   "source": [
    "lst = list(input())\n",
    "a = input()\n",
    "b = input()\n",
    "for i in range(len(lst)):\n",
    "    if lst[i] == a:\n",
    "        lst[i] = b\n",
    "print(*lst,sep='')"
   ]
  },
  {
   "cell_type": "code",
   "execution_count": 184,
   "id": "74fdd63d",
   "metadata": {},
   "outputs": [
    {
     "name": "stdout",
     "output_type": "stream",
     "text": [
      "ABCDE\n",
      "4\n",
      "0\n"
     ]
    }
   ],
   "source": [
    "lst_1 = list(input())\n",
    "lst_2 = [0 for _ in range(len(lst_1))]\n",
    "for i in range(len(lst_1)):\n",
    "    lst_2[i] = ord(lst_1[i])\n",
    "def maxindex():\n",
    "    max_lst_2 = max(lst_2)\n",
    "    for i in range(len(lst_2)):\n",
    "        if lst_2[i] == max_lst_2:\n",
    "            print(i)\n",
    "def minindex():\n",
    "    min_lst_2 = min(lst_2)\n",
    "    for i in range(len(lst_2)):\n",
    "        if lst_2[i] == min_lst_2:\n",
    "            print(i)\n",
    "maxindex()\n",
    "minindex()"
   ]
  },
  {
   "cell_type": "code",
   "execution_count": 178,
   "id": "1771f77f",
   "metadata": {},
   "outputs": [
    {
     "name": "stdout",
     "output_type": "stream",
     "text": [
      "[[0, 0, 0], [0, 0, 0], [0, 0, 0]]\n"
     ]
    }
   ],
   "source": [
    "lst = [[0 for _ in range(3)] for _ in range(3)]\n",
    "print(lst)"
   ]
  },
  {
   "cell_type": "code",
   "execution_count": 185,
   "id": "f945cca3",
   "metadata": {},
   "outputs": [
    {
     "name": "stdout",
     "output_type": "stream",
     "text": [
      "1 2 5\n",
      "1 2 3 4\n",
      "0 0 0 0\n",
      "0 0 0 0\n",
      "13 14 15 16\n",
      "17 18 19 20\n",
      "0 0 0 0\n",
      "25 26 27 28\n"
     ]
    }
   ],
   "source": [
    "lst = [[0 for _ in range(4)] for _ in range(7)]\n",
    "a, b, c = map(int,input().split())\n",
    "for i in range(7):\n",
    "    for j in range(4):\n",
    "        lst[i][j] = 1 + (i*4) + j\n",
    "for i in range(4):\n",
    "    lst[a][i] = 0\n",
    "    lst[b][i] = 0\n",
    "    lst[c][i] = 0\n",
    "for i in lst:\n",
    "    print(*i)"
   ]
  },
  {
   "cell_type": "code",
   "execution_count": 194,
   "id": "bc3a51f7",
   "metadata": {},
   "outputs": [
    {
     "name": "stdout",
     "output_type": "stream",
     "text": [
      "A Z\n",
      "A : 존재\n",
      "Z : 없음\n"
     ]
    }
   ],
   "source": [
    "lst = [['A','7','9','T','K','Q'],['M','I','N','C','O','D']]\n",
    "char_1, char_2 = input().split()\n",
    "global flag_char_1, flag_char_2\n",
    "def isExist():\n",
    "    for i in range(2):\n",
    "        for j in range(6):\n",
    "            if lst[i][j] == char_1:\n",
    "                flag_char_1 = 1\n",
    "            if lst[i][j] == char_2:\n",
    "                flag_char_2 = 1\n",
    "isExist()\n",
    "if flag_char_1 == 1:\n",
    "    print(f'{char_1} : 존재')\n",
    "else :\n",
    "    print(f'{char_1} : 없음')\n",
    "if flag_char_2 == 1:\n",
    "    print(f'{char_2} : 존재')\n",
    "else :\n",
    "    print(f'{char_2} : 없음')"
   ]
  },
  {
   "cell_type": "code",
   "execution_count": 193,
   "id": "b22a41bb",
   "metadata": {},
   "outputs": [
    {
     "name": "stdout",
     "output_type": "stream",
     "text": [
      "A Z\n",
      "A : 존재\n",
      "Z : 없음\n"
     ]
    }
   ],
   "source": [
    "lst = [['A','7','9','T','K','Q'],['M','I','N','C','O','D']]\n",
    "char_1, char_2 = input().split()\n",
    "for i in range(2):\n",
    "    for j in range(6):\n",
    "        if lst[i][j] == char_1:\n",
    "            flag_char_1 = 1\n",
    "        if lst[i][j] == char_2:\n",
    "            flag_char_2 = 1\n",
    "if flag_char_1 == 1:\n",
    "    print(f'{char_1} : 존재')\n",
    "else :\n",
    "    print(f'{char_1} : 없음')\n",
    "if flag_char_2 == 1:\n",
    "    print(f'{char_2} : 존재')\n",
    "else :\n",
    "    print(f'{char_2} : 없음')"
   ]
  },
  {
   "cell_type": "code",
   "execution_count": null,
   "id": "855545f9",
   "metadata": {},
   "outputs": [],
   "source": []
  },
  {
   "cell_type": "code",
   "execution_count": null,
   "id": "ea5fe087",
   "metadata": {},
   "outputs": [],
   "source": []
  },
  {
   "cell_type": "code",
   "execution_count": null,
   "id": "cc28bb98",
   "metadata": {},
   "outputs": [],
   "source": []
  },
  {
   "cell_type": "code",
   "execution_count": null,
   "id": "560b8708",
   "metadata": {},
   "outputs": [],
   "source": []
  },
  {
   "cell_type": "code",
   "execution_count": null,
   "id": "79bbff46",
   "metadata": {},
   "outputs": [],
   "source": []
  },
  {
   "cell_type": "code",
   "execution_count": null,
   "id": "33a64f43",
   "metadata": {},
   "outputs": [],
   "source": []
  },
  {
   "cell_type": "code",
   "execution_count": null,
   "id": "5420e94d",
   "metadata": {},
   "outputs": [],
   "source": []
  },
  {
   "cell_type": "code",
   "execution_count": null,
   "id": "023c7128",
   "metadata": {},
   "outputs": [],
   "source": []
  },
  {
   "cell_type": "code",
   "execution_count": null,
   "id": "6cb34f1b",
   "metadata": {},
   "outputs": [],
   "source": []
  },
  {
   "cell_type": "code",
   "execution_count": null,
   "id": "7e2b243f",
   "metadata": {},
   "outputs": [],
   "source": []
  },
  {
   "cell_type": "code",
   "execution_count": null,
   "id": "70959277",
   "metadata": {},
   "outputs": [],
   "source": []
  },
  {
   "cell_type": "code",
   "execution_count": null,
   "id": "838b0d28",
   "metadata": {},
   "outputs": [],
   "source": []
  },
  {
   "cell_type": "code",
   "execution_count": null,
   "id": "5b90e75d",
   "metadata": {},
   "outputs": [],
   "source": []
  }
 ],
 "metadata": {
  "kernelspec": {
   "display_name": "Python 3 (ipykernel)",
   "language": "python",
   "name": "python3"
  },
  "language_info": {
   "codemirror_mode": {
    "name": "ipython",
    "version": 3
   },
   "file_extension": ".py",
   "mimetype": "text/x-python",
   "name": "python",
   "nbconvert_exporter": "python",
   "pygments_lexer": "ipython3",
   "version": "3.9.13"
  }
 },
 "nbformat": 4,
 "nbformat_minor": 5
}
