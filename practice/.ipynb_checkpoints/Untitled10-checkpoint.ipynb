{
 "cells": [
  {
   "cell_type": "code",
   "execution_count": 15,
   "id": "1f87f7d5",
   "metadata": {},
   "outputs": [
    {
     "name": "stdout",
     "output_type": "stream",
     "text": [
      "7 2 3 4 5 6\n",
      "7 5 4 3 2 6 "
     ]
    }
   ],
   "source": [
    "lst_1 = list(map(int,input().split()))\n",
    "lst_2 = list(reversed(lst_1))\n",
    "arr = [lst_2[ix-3:ix] for ix in range(3, len(lst_2)+1, 3)]\n",
    "lst_3 = [0 for i in range(6)]\n",
    "for i in range(2):\n",
    "    for j in range(3):\n",
    "        lst_3[(i*3)+j] = arr[i][j]\n",
    "temp = lst_3[0]\n",
    "lst_3[0] = lst_3[5]\n",
    "lst_3[5] = temp\n",
    "for i in lst_3:\n",
    "    print(i,end=' ')"
   ]
  },
  {
   "cell_type": "code",
   "execution_count": 23,
   "id": "40464e8d",
   "metadata": {},
   "outputs": [
    {
     "name": "stdout",
     "output_type": "stream",
     "text": [
      "ABCD\n",
      "BBQ\n",
      "4 3\n"
     ]
    }
   ],
   "source": [
    "char_1 = input()\n",
    "char_2 = input()\n",
    "print(len(char_1), len(char_2))"
   ]
  },
  {
   "cell_type": "code",
   "execution_count": 25,
   "id": "3f2a99c3",
   "metadata": {},
   "outputs": [
    {
     "name": "stdout",
     "output_type": "stream",
     "text": [
      "4\n",
      "4444\n",
      "3333\n",
      "2222\n",
      "1111\n"
     ]
    }
   ],
   "source": [
    "a = int(input())\n",
    "for i in range(a,a-4,-1):\n",
    "    print(str(i)*4)"
   ]
  },
  {
   "cell_type": "code",
   "execution_count": 26,
   "id": "a55aace1",
   "metadata": {},
   "outputs": [
    {
     "name": "stdout",
     "output_type": "stream",
     "text": [
      "4\n",
      "123\n",
      "123\n",
      "123\n",
      "123\n"
     ]
    }
   ],
   "source": [
    "a = int(input())\n",
    "for i in range(a):\n",
    "    print(\"123\")"
   ]
  },
  {
   "cell_type": "code",
   "execution_count": 46,
   "id": "d9d9232b",
   "metadata": {},
   "outputs": [
    {
     "name": "stdout",
     "output_type": "stream",
     "text": [
      "1\n",
      "  12\n",
      " 345\n",
      "6789\n"
     ]
    }
   ],
   "source": [
    "a = int(input())\n",
    "arr = [[0 for i in range(4)] for j in range(3)]\n",
    "for i in range(3):\n",
    "    for j in range(4):\n",
    "        if i+j > 1 and i < 2:\n",
    "            arr[i][j] = a+(i*3)+(j-2)\n",
    "        elif i+j > 1 and i == 2:\n",
    "            arr[i][j] = a+(i*3)+(j-1)\n",
    "for i in range(3):\n",
    "    for j in range(4):\n",
    "        if arr[i][j] == 0:\n",
    "            arr[i][j] = ' '\n",
    "for i in arr:\n",
    "    print(*i,sep='')"
   ]
  },
  {
   "cell_type": "code",
   "execution_count": null,
   "id": "79ac60c9",
   "metadata": {},
   "outputs": [],
   "source": [
    "a = int(input())\n",
    "arr = [[0 for i in range(4)] for j in range(3)]\n",
    "for i in range(3):\n",
    "    for j in range(4):\n",
    "        if i+j > 1 and i < 2:\n",
    "            arr[i][j] = a+(i*3)+(j-2)\n",
    "        elif i+j > 1 and i == 2:\n",
    "            arr[i][j] = a+(i*3)+(j-1)\n",
    "for i in range(3):\n",
    "    for j in range(4):\n",
    "        if arr[i][j] == 0:\n",
    "            arr[i][j] = ' '\n",
    "for i in arr:\n",
    "    print(*i,sep='')"
   ]
  },
  {
   "cell_type": "code",
   "execution_count": 68,
   "id": "0e7e7493",
   "metadata": {},
   "outputs": [
    {
     "name": "stdout",
     "output_type": "stream",
     "text": [
      "M\n",
      "M=0\n",
      "S\n",
      "S=6\n",
      "T\n",
      "T=7\n"
     ]
    }
   ],
   "source": [
    "global lst\n",
    "lst = ['M','I','N','Q','U','E','S','T']\n",
    "a = input()\n",
    "def Length():\n",
    "    for i in range(len(lst)):\n",
    "        if lst[i] == a:\n",
    "            find_a = i\n",
    "    return find_a\n",
    "Length_a_1 = Length()\n",
    "print(\"{}={}\".format(a,Length_a_1))\n",
    "a = input()\n",
    "Length_a_2 = Length()\n",
    "print(\"{}={}\".format(a,Length_a_2))\n",
    "a = input()\n",
    "Length_a_3 = Length()\n",
    "print(\"{}={}\".format(a,Length_a_3))"
   ]
  },
  {
   "cell_type": "code",
   "execution_count": 73,
   "id": "67e29a35",
   "metadata": {},
   "outputs": [
    {
     "name": "stdout",
     "output_type": "stream",
     "text": [
      "ABCAA12341\n",
      "A\n",
      "1\n",
      "C\n",
      "A=3\n",
      "1=2\n",
      "C=1\n"
     ]
    }
   ],
   "source": [
    "lst = list(input())\n",
    "a = input()\n",
    "b = input()\n",
    "c = input()\n",
    "count_a = 0\n",
    "count_b = 0\n",
    "count_c = 0\n",
    "for i in range(len(lst)):\n",
    "    if lst[i] == a:\n",
    "        count_a+=1\n",
    "    elif lst[i] == b:\n",
    "        count_b+=1\n",
    "    elif lst[i] == c:\n",
    "        count_c+=1\n",
    "print(\"{}={}\".format(a,count_a))\n",
    "print(\"{}={}\".format(b,count_b))\n",
    "print(\"{}={}\".format(c,count_c))"
   ]
  },
  {
   "cell_type": "code",
   "execution_count": 79,
   "id": "d4e274ac",
   "metadata": {},
   "outputs": [
    {
     "name": "stdout",
     "output_type": "stream",
     "text": [
      "2 6\n",
      "TAPOW\n"
     ]
    }
   ],
   "source": [
    "lst_1 = ['D','A','T','A','P','O','W','E','R']\n",
    "lst_2 = [0 for i in range(9)]\n",
    "a, b = map(int, input().split())\n",
    "for i in range(b-a+1):\n",
    "    lst_2[i] = lst_1[a+i]\n",
    "while 0 in lst_2:\n",
    "    lst_2.remove(0)\n",
    "print(*lst_2,sep='')"
   ]
  },
  {
   "cell_type": "code",
   "execution_count": 87,
   "id": "012995e8",
   "metadata": {},
   "outputs": [
    {
     "name": "stdout",
     "output_type": "stream",
     "text": [
      "1\n",
      "654\n",
      " 32\n",
      "  1\n"
     ]
    }
   ],
   "source": [
    "arr = [[0 for i in range(3)] for j in range(3)]\n",
    "a = input()\n",
    "if a.isdigit() == True:\n",
    "    for i in range(3):\n",
    "        for j in range(3):\n",
    "            if i == 1 and j == 0:\n",
    "                arr[i][j] = 0\n",
    "            elif i == 2 and j == 0:\n",
    "                arr[i][j] = 0\n",
    "            elif i == 2 and j == 1:\n",
    "                arr[i][j] = 0\n",
    "            elif i < 2:\n",
    "                arr[i][j] = 6-(i*2)-j\n",
    "            else :\n",
    "                arr[i][j] = 9-(i*3)-j            \n",
    "elif a.isupper() == True:\n",
    "    for i in range(3):\n",
    "        for j in range(3):\n",
    "            if i == 0 and j == 1:\n",
    "                arr[i][j] = 0\n",
    "            elif i == 0 and j == 2:\n",
    "                arr[i][j] = 0\n",
    "            elif i == 1 and j == 2:\n",
    "                arr[i][j] = 0\n",
    "            elif i < 2:\n",
    "                arr[i][j] = 6-(i*2)+j\n",
    "            else :\n",
    "                arr[i][j] = 7-(i*3)+j\n",
    "for i in range(3):\n",
    "    for j in range(3):\n",
    "        if arr[i][j] == 0:\n",
    "            arr[i][j] = ' '\n",
    "for i in arr:\n",
    "    print(*i,sep='')"
   ]
  },
  {
   "cell_type": "code",
   "execution_count": 97,
   "id": "a8cc7812",
   "metadata": {},
   "outputs": [
    {
     "name": "stdout",
     "output_type": "stream",
     "text": [
      "5 A\n",
      "00000\n",
      "00000\n",
      "00000\n",
      "00000\n",
      "EDCBA\n"
     ]
    }
   ],
   "source": [
    "arr = [[0 for i in range(5)] for j in range(5)]\n",
    "a, b = input().split()\n",
    "a_num = int(a)\n",
    "for i in range(5):\n",
    "    arr[a_num-1][i] = chr(ord(b)+4-i)\n",
    "for i in arr:\n",
    "    print(*i,sep='')"
   ]
  },
  {
   "cell_type": "code",
   "execution_count": 99,
   "id": "8c51c885",
   "metadata": {},
   "outputs": [
    {
     "name": "stdout",
     "output_type": "stream",
     "text": [
      "B\n",
      "없음\n"
     ]
    }
   ],
   "source": [
    "arr = [['D','A','D'],['Q','W','Q'],['A','S','D'],['A','S','D']]\n",
    "a = input()\n",
    "def find_a():\n",
    "    flag = 0\n",
    "    for i in range(4):\n",
    "        for j in range(3):\n",
    "            if arr[i][j] == a:\n",
    "                flag = 1\n",
    "                break\n",
    "            else :\n",
    "                continue\n",
    "    if flag == 1:\n",
    "        print(\"존재\")\n",
    "    elif flag == 0:\n",
    "        print(\"없음\")\n",
    "find_a()"
   ]
  },
  {
   "cell_type": "code",
   "execution_count": 102,
   "id": "0ddc8e48",
   "metadata": {},
   "outputs": [
    {
     "name": "stdout",
     "output_type": "stream",
     "text": [
      "5\n",
      "55555\n",
      "5___5\n",
      "5___5\n",
      "5___5\n",
      "55555\n"
     ]
    }
   ],
   "source": [
    "arr = [[0 for i in range(5)] for j in range(5)]\n",
    "a = int(input())\n",
    "for i in range(5):\n",
    "    for j in range(5):\n",
    "        if i >= 1 and i <=3 and j !=0 and j !=4:\n",
    "            arr[i][j] = '_'\n",
    "        else :\n",
    "            arr[i][j] = a\n",
    "for i in arr:\n",
    "    print(*i,sep='')"
   ]
  },
  {
   "cell_type": "code",
   "execution_count": 104,
   "id": "48f11631",
   "metadata": {},
   "outputs": [
    {
     "name": "stdout",
     "output_type": "stream",
     "text": [
      "0 0\n",
      "0 0\n",
      "0 0\n",
      "1 1\n",
      "1 2\n",
      "75454\n",
      "80998\n",
      "12121\n",
      "45454\n",
      "67676\n"
     ]
    }
   ],
   "source": [
    "arr = [[4,5,4,5,4],[8,9,8,9,8],[1,2,1,2,1],[4,5,4,5,4],[6,7,6,7,6]]\n",
    "x1, y1 = map(int,input().split())\n",
    "arr[x1][y1] = arr[x1][y1]+1\n",
    "if arr[x1][y1] >= 10:\n",
    "    arr[x1][y1] = 0\n",
    "x2, y2 = map(int,input().split())\n",
    "arr[x2][y2] = arr[x2][y2]+1\n",
    "if arr[x2][y2] >= 10:\n",
    "    arr[x2][y2] = 0\n",
    "x3, y3 = map(int,input().split())\n",
    "arr[x3][y3] = arr[x3][y3]+1\n",
    "if arr[x3][y3] >= 10:\n",
    "    arr[x3][y3] = 0\n",
    "x4, y4 = map(int,input().split())\n",
    "arr[x4][y4] = arr[x4][y4]+1\n",
    "if arr[x4][y4] >= 10:\n",
    "    arr[x4][y4] = 0\n",
    "x5, y5 = map(int,input().split())\n",
    "arr[x5][y5] = arr[x5][y5]+1\n",
    "if arr[x5][y5] >= 10:\n",
    "    arr[x5][y5] = 0\n",
    "for i in arr:\n",
    "    print(*i,sep='')"
   ]
  },
  {
   "cell_type": "code",
   "execution_count": 109,
   "id": "19ed6e54",
   "metadata": {},
   "outputs": [
    {
     "name": "stdout",
     "output_type": "stream",
     "text": [
      "opasdoifjqpwef\n",
      "14\n",
      "2\n"
     ]
    }
   ],
   "source": [
    "lst = list(input())\n",
    "count = 0\n",
    "for i in range(len(lst)):\n",
    "    if lst[i] == lst[len(lst)-1]:\n",
    "        count+=1\n",
    "print(len(lst))\n",
    "print(count)"
   ]
  },
  {
   "cell_type": "code",
   "execution_count": 111,
   "id": "9b75d7ae",
   "metadata": {},
   "outputs": [
    {
     "name": "stdout",
     "output_type": "stream",
     "text": [
      "JDF\n",
      "SDFDSIS\n",
      "DID\n",
      "SDFDSIS\n"
     ]
    }
   ],
   "source": [
    "lst_1 = list(input())\n",
    "lst_2 = list(input())\n",
    "lst_3 = list(input())\n",
    "if len(lst_1) > len(lst_2) and len(lst_1) > len(lst_3):\n",
    "    print(*lst_1,sep='')\n",
    "elif len(lst_2) > len(lst_1) and len(lst_2) > len(lst_3):\n",
    "    print(*lst_2,sep='')\n",
    "else :\n",
    "    print(*lst_3,sep='')"
   ]
  },
  {
   "cell_type": "code",
   "execution_count": 117,
   "id": "b91b72ec",
   "metadata": {},
   "outputs": [
    {
     "name": "stdout",
     "output_type": "stream",
     "text": [
      "5\n",
      "005\n",
      "067\n",
      "8910\n"
     ]
    }
   ],
   "source": [
    "arr = [[0 for i in range(3)] for j in range(3)]\n",
    "a = int(input())\n",
    "for i in range(3):\n",
    "    for j in range(3):\n",
    "        if i+j > 1 and i > 0:\n",
    "            arr[i][j] = a-3+(i*3)+j\n",
    "        elif i+j > 1 and i == 0:\n",
    "            arr[i][j] = a\n",
    "for i in arr:\n",
    "    print(*i,sep='')"
   ]
  },
  {
   "cell_type": "code",
   "execution_count": 120,
   "id": "8dd2cb2b",
   "metadata": {},
   "outputs": [
    {
     "name": "stdout",
     "output_type": "stream",
     "text": [
      "R C\n",
      "C\n"
     ]
    }
   ],
   "source": [
    "def getName():\n",
    "    global a, b\n",
    "    a, b = input().split()\n",
    "getName()\n",
    "if ord(a) < ord(b):\n",
    "    print(a)\n",
    "else :\n",
    "    print(b)"
   ]
  },
  {
   "cell_type": "code",
   "execution_count": 129,
   "id": "ae67c594",
   "metadata": {},
   "outputs": [
    {
     "name": "stdout",
     "output_type": "stream",
     "text": [
      "20\n",
      "16 23 40\n"
     ]
    }
   ],
   "source": [
    "age = int(input())\n",
    "def moom():\n",
    "    age_1 = age - 4\n",
    "    age_2 = age + 3\n",
    "    age_3 = age * 2\n",
    "    return age_1, age_2, age_3\n",
    "print(*moom(),sep=' ')"
   ]
  },
  {
   "cell_type": "code",
   "execution_count": 132,
   "id": "9c9b0ecf",
   "metadata": {},
   "outputs": [
    {
     "name": "stdout",
     "output_type": "stream",
     "text": [
      "dfpaosdif\n",
      "9글자\n"
     ]
    }
   ],
   "source": [
    "a = input()\n",
    "def stringLen():\n",
    "    return len(a)\n",
    "len_a = stringLen()\n",
    "print(\"{}글자\".format(len_a))"
   ]
  },
  {
   "cell_type": "code",
   "execution_count": 134,
   "id": "cc8c275f",
   "metadata": {},
   "outputs": [
    {
     "name": "stdout",
     "output_type": "stream",
     "text": [
      "5 6\n",
      "(11, 30)\n"
     ]
    }
   ],
   "source": [
    "a, b = map(int,input().split())\n",
    "def ABC():\n",
    "    return a+b, a*b\n",
    "print(*ABC(),sep=' ')"
   ]
  },
  {
   "cell_type": "code",
   "execution_count": 143,
   "id": "d74d7079",
   "metadata": {},
   "outputs": [
    {
     "name": "stdout",
     "output_type": "stream",
     "text": [
      "MIDcod\n",
      "대문자3개\n",
      "소문자3개\n"
     ]
    }
   ],
   "source": [
    "def KFC():\n",
    "    global count_upper, count_lower\n",
    "    lst = list(input())\n",
    "    count_upper = 0\n",
    "    count_lower = 0\n",
    "    for i in range(len(lst)):\n",
    "        if lst[i].isupper() == True:\n",
    "            count_upper+=1\n",
    "        elif lst[i].islower() == True:\n",
    "            count_lower+=1\n",
    "KFC()\n",
    "print(\"대문자{}개\".format(count_upper))\n",
    "print(\"소문자{}개\".format(count_lower))"
   ]
  },
  {
   "cell_type": "code",
   "execution_count": 150,
   "id": "5b207d14",
   "metadata": {},
   "outputs": [
    {
     "name": "stdout",
     "output_type": "stream",
     "text": [
      "1 2 3\n",
      "1=3개\n",
      "2=1개\n",
      "3=3개\n"
     ]
    }
   ],
   "source": [
    "global arr\n",
    "arr = [[4,5,6,1,3,1],[2,1,3,6,3,6]]\n",
    "\n",
    "def input_abc():\n",
    "    global a, b, c\n",
    "    a, b, c = map(int, input().split())\n",
    "\n",
    "def process_abc():\n",
    "    global count_a, count_b, count_c\n",
    "    count_a = count_b = count_c = 0\n",
    "    for i in range(2):\n",
    "        for j in range(6):\n",
    "            if arr[i][j] == a:\n",
    "                count_a+=1\n",
    "            elif arr[i][j] == b:\n",
    "                count_b+=1\n",
    "            elif arr[i][j] == c:\n",
    "                count_c+=1\n",
    "    return count_a, count_b, count_c\n",
    "\n",
    "def output_abc():\n",
    "    print(\"{}={}개\".format(a,count_a))\n",
    "    print(\"{}={}개\".format(b,count_b))\n",
    "    print(\"{}={}개\".format(c,count_c))   \n",
    "input_abc()\n",
    "process_abc()\n",
    "output_abc()"
   ]
  },
  {
   "cell_type": "code",
   "execution_count": 156,
   "id": "1c6e0935",
   "metadata": {},
   "outputs": [
    {
     "name": "stdout",
     "output_type": "stream",
     "text": [
      "F\n",
      "0,2\n"
     ]
    }
   ],
   "source": [
    "arr = [['A','D','F'],['Q','W','E'],['Z','X','C']]\n",
    "a = input()\n",
    "def find_a():\n",
    "    for i in range(3):\n",
    "        for j in range(3):\n",
    "            if arr[i][j] == a:\n",
    "                return i, j\n",
    "print(*find_a(),sep=',')"
   ]
  },
  {
   "cell_type": "code",
   "execution_count": 159,
   "id": "b26a9b5b",
   "metadata": {},
   "outputs": [
    {
     "name": "stdout",
     "output_type": "stream",
     "text": [
      "3 5 1 1 1\n",
      "두배열은같지않음\n"
     ]
    }
   ],
   "source": [
    "lst_1 = [3,5,1,2,7]\n",
    "lst_2 = list(map(int,input().split()))\n",
    "\n",
    "def CompareGo():\n",
    "    for i in range(len(lst_1)):\n",
    "        if lst_1[i] == lst_2[i]:\n",
    "            flag = 1\n",
    "        else :\n",
    "            flag = 0\n",
    "            break\n",
    "    if flag == 1:\n",
    "        print(\"두배열은완전같음\")\n",
    "    else :\n",
    "        print(\"두배열은같지않음\")\n",
    "CompareGo()"
   ]
  },
  {
   "cell_type": "code",
   "execution_count": 167,
   "id": "827ed8e6",
   "metadata": {},
   "outputs": [
    {
     "name": "stdout",
     "output_type": "stream",
     "text": [
      "E B\n",
      "6\n"
     ]
    }
   ],
   "source": [
    "lst_1 = ['A','B','C','D','E','F','G']\n",
    "lst_2 = [4,2,5,1,6,7,3]\n",
    "a, b = input().split()\n",
    "dist = 0\n",
    "for i in range(len(lst_1)):\n",
    "    if lst_1[i] == a:\n",
    "        Mins = i\n",
    "    elif lst_1[i] == b:\n",
    "        Jihyo = i\n",
    "if Mins > Jihyo:\n",
    "    for i in range(Jihyo+1, Mins):\n",
    "        dist = dist + lst_2[i]\n",
    "else :     \n",
    "    for i in range(Mins+1, Jihyo):\n",
    "        dist = dist + lst_2[i]\n",
    "print(dist)"
   ]
  },
  {
   "cell_type": "code",
   "execution_count": 170,
   "id": "3d558ecb",
   "metadata": {},
   "outputs": [
    {
     "name": "stdout",
     "output_type": "stream",
     "text": [
      "3 5 1 2 7\n",
      "1 2 1 5 9\n",
      "7 7 8 5 4\n",
      "10 17 9 15 67\n"
     ]
    }
   ],
   "source": [
    "lst_a = list(map(int, input().split()))\n",
    "lst_b = list(map(int, input().split()))\n",
    "lst_c = list(map(int, input().split()))\n",
    "lst_abc = [0 for i in range(5)]\n",
    "\n",
    "for i in range(len(lst_a)):\n",
    "    lst_abc[i] = lst_a[i]*lst_b[i]+lst_c[i]\n",
    "print(*lst_abc,sep=' ')"
   ]
  },
  {
   "cell_type": "code",
   "execution_count": 195,
   "id": "0e9c3ba6",
   "metadata": {},
   "outputs": [
    {
     "name": "stdout",
     "output_type": "stream",
     "text": [
      "9 0 1 1\n",
      "MAX=9(2,0)\n",
      "MIN=0(2,1)\n"
     ]
    }
   ],
   "source": [
    "arr = [[3,4,1,6],[3,5,3,6],[0,0,0,0],[5,4,6,0]]\n",
    "arr[2] = list(map(int, input().split()))\n",
    "max_arr = max(map(max, arr))\n",
    "min_arr = min(map(min, arr))\n",
    "count_printmax = count_printmin = 0\n",
    "for i in range(4):\n",
    "    for j in range(4):\n",
    "        if arr[i][j] == max_arr and count_printmax == 0:\n",
    "            print('MAX={}({},{})'.format(max_arr,i,j))\n",
    "            count_printmax+=1\n",
    "        elif arr[i][j] == min_arr and count_printmin == 0:\n",
    "            print('MIN={}({},{})'.format(min_arr,i,j))\n",
    "            count_printmin+=1"
   ]
  },
  {
   "cell_type": "code",
   "execution_count": 198,
   "id": "2e231af1",
   "metadata": {},
   "outputs": [
    {
     "name": "stdout",
     "output_type": "stream",
     "text": [
      "3\n",
      "G\n"
     ]
    }
   ],
   "source": [
    "arr = [[4,5,7,1,3,2],['D','F','Q','W','G','Z']]\n",
    "a = int(input())\n",
    "for i in range(6):\n",
    "    if arr[0][i] == a:\n",
    "        print(arr[1][i])"
   ]
  },
  {
   "cell_type": "code",
   "execution_count": 207,
   "id": "b211fea5",
   "metadata": {},
   "outputs": [
    {
     "name": "stdout",
     "output_type": "stream",
     "text": [
      "ABCAA\n",
      "AID\n",
      "A:4\n",
      "B:1\n",
      "C:1\n"
     ]
    }
   ],
   "source": [
    "lst_1 = list(input())\n",
    "lst_2 = list(input())\n",
    "def FindABC():\n",
    "    count_A = count_B = count_C = 0\n",
    "    for i in range(len(lst_1)):\n",
    "        if lst_1[i] == 'A':\n",
    "            count_A+=1\n",
    "        elif lst_1[i] == 'B':\n",
    "            count_B+=1\n",
    "        elif lst_1[i] == 'C':\n",
    "            count_C+=1\n",
    "    for j in range(len(lst_2)):\n",
    "        if lst_2[j] == 'A':\n",
    "            count_A+=1\n",
    "        elif lst_2[j] == 'B':\n",
    "            count_B+=1\n",
    "        elif lst_2[j] == 'C':\n",
    "            count_C+=1\n",
    "    return count_A, count_B, count_C\n",
    "count_A, count_B, count_C = FindABC()\n",
    "print(f'A:{count_A}')\n",
    "print(f'B:{count_B}')\n",
    "print(f'C:{count_C}')"
   ]
  },
  {
   "cell_type": "code",
   "execution_count": 210,
   "id": "fb35440f",
   "metadata": {},
   "outputs": [
    {
     "name": "stdout",
     "output_type": "stream",
     "text": [
      "0 2\n",
      "1 1\n",
      "S W\n"
     ]
    }
   ],
   "source": [
    "global arr\n",
    "arr = [['D','A','S'],['Q','W','V'],['R','T','Y']]\n",
    "x1, y1 = map(int, input().split())\n",
    "x2, y2 = map(int, input().split())\n",
    "def Find_xys():\n",
    "    return arr[x1][y1], arr[x2][y2]\n",
    "print(*Find_xys(),sep=' ')"
   ]
  },
  {
   "cell_type": "code",
   "execution_count": 216,
   "id": "a501757b",
   "metadata": {},
   "outputs": [
    {
     "name": "stdout",
     "output_type": "stream",
     "text": [
      "abcdef\n",
      "abcdeef\n",
      "abcdff\n",
      "NO\n"
     ]
    }
   ],
   "source": [
    "name_1 = list(input())\n",
    "name_2 = list(input())\n",
    "name_3 = list(input())\n",
    "\n",
    "if name_1 == name_2 and name_1 == name_3:\n",
    "    print(\"YES\")\n",
    "else :\n",
    "    print(\"NO\")"
   ]
  },
  {
   "cell_type": "code",
   "execution_count": 218,
   "id": "416257df",
   "metadata": {},
   "outputs": [
    {
     "name": "stdout",
     "output_type": "stream",
     "text": [
      "2 5\n",
      "2 3 4 5 "
     ]
    }
   ],
   "source": [
    "a, b = map(int, input().split())\n",
    "while a <= b :\n",
    "    print(a,end=' ')\n",
    "    a+=1"
   ]
  },
  {
   "cell_type": "code",
   "execution_count": 225,
   "id": "6c3d46ed",
   "metadata": {
    "scrolled": true
   },
   "outputs": [
    {
     "name": "stdout",
     "output_type": "stream",
     "text": [
      "3 4 1 2\n",
      "2 1 4 5\n",
      "1 1 1 2\n",
      "2 3 3 4\n",
      "1 1 1 0\n",
      "10\n",
      "12\n",
      "5\n",
      "12\n",
      "3\n"
     ]
    }
   ],
   "source": [
    "arr = [[0 for i in range(4)] for j in range(5)]\n",
    "for i in range(5):\n",
    "    arr[i] = list(map(int, input().split()))\n",
    "for i in range(5):\n",
    "    sum = 0\n",
    "    for j in range(4):\n",
    "        sum = sum + arr[i][j]\n",
    "    print(sum,end=' ')"
   ]
  },
  {
   "cell_type": "code",
   "execution_count": 229,
   "id": "95e69968",
   "metadata": {},
   "outputs": [
    {
     "name": "stdout",
     "output_type": "stream",
     "text": [
      "95 90\n",
      "10\n"
     ]
    }
   ],
   "source": [
    "a, b = map(int, input().split())\n",
    "count = 0\n",
    "while a < 100 or b < 100:\n",
    "    a+=1\n",
    "    b+=1\n",
    "    count+=1\n",
    "print(count)"
   ]
  },
  {
   "cell_type": "code",
   "execution_count": 235,
   "id": "224c043c",
   "metadata": {},
   "outputs": [
    {
     "name": "stdout",
     "output_type": "stream",
     "text": [
      "T K B B C\n",
      "T K B B C \n",
      "K B B C \n",
      "B B C \n",
      "B C \n",
      "C \n"
     ]
    }
   ],
   "source": [
    "lst = list(input().split())\n",
    "for i in range(len(lst)):\n",
    "    for j in range(len(lst)-i):\n",
    "        print(lst[i+j],end=' ')\n",
    "    print(\"\")"
   ]
  },
  {
   "cell_type": "code",
   "execution_count": 237,
   "id": "04d11bfd",
   "metadata": {},
   "outputs": [
    {
     "name": "stdout",
     "output_type": "stream",
     "text": [
      "1 4 2\n",
      "1 5 4\n",
      "3 3 9\n",
      "22\n"
     ]
    }
   ],
   "source": [
    "arr = [[0 for i in range(3)] for j in range(3)]\n",
    "for i in range(3):\n",
    "    arr[i] = list(map(int, input().split()))\n",
    "sum = 0\n",
    "for i in range(3):\n",
    "    for j in range(3):\n",
    "        if j == 0:\n",
    "            sum = sum + arr[i][j]\n",
    "        elif j == 1 and i > 0 :\n",
    "            sum = sum + arr[i][j]\n",
    "        elif j == 2 and i > 1 :\n",
    "            sum = sum + arr[i][j]\n",
    "print(sum)"
   ]
  },
  {
   "cell_type": "code",
   "execution_count": 243,
   "id": "b19b0f8c",
   "metadata": {},
   "outputs": [
    {
     "name": "stdout",
     "output_type": "stream",
     "text": [
      "5 5 5 1\n",
      "5=1개\n",
      "5=1개\n",
      "5=1개\n",
      "1=2개\n"
     ]
    }
   ],
   "source": [
    "vect = [3,5,1,1,2,3,2]\n",
    "a, b, c, d = map(int,input().split())\n",
    "count_a = count_b = count_c = count_d = 0\n",
    "for i in range(len(vect)):\n",
    "    if vect[i] == a:\n",
    "        count_a+=1\n",
    "    if vect[i] == b:\n",
    "        count_b+=1        \n",
    "    if vect[i] == c:\n",
    "        count_c+=1\n",
    "    if vect[i] == d:\n",
    "        count_d+=1\n",
    "print(f\"{a}={count_a}개\")\n",
    "print(f\"{b}={count_b}개\")\n",
    "print(f\"{c}={count_c}개\")\n",
    "print(f\"{d}={count_d}개\")"
   ]
  },
  {
   "cell_type": "code",
   "execution_count": 246,
   "id": "cdf23d26",
   "metadata": {},
   "outputs": [
    {
     "name": "stdout",
     "output_type": "stream",
     "text": [
      "865531\n"
     ]
    }
   ],
   "source": [
    "lst = list(map(int,input().split()))\n",
    "lst.sort(reverse=True)\n",
    "print(*lst,sep='')"
   ]
  },
  {
   "cell_type": "code",
   "execution_count": 251,
   "id": "15d663e3",
   "metadata": {},
   "outputs": [
    {
     "name": "stdout",
     "output_type": "stream",
     "text": [
      "ABCBBQ\n",
      "ABBBCQ\n"
     ]
    }
   ],
   "source": [
    "lst = list(input())\n",
    "for i in range(len(lst)):\n",
    "    lst[i] = ord(lst[i])\n",
    "lst.sort()\n",
    "for i in range(len(lst)):\n",
    "    lst[i] = chr(lst[i])\n",
    "print(*lst,sep='')"
   ]
  },
  {
   "cell_type": "code",
   "execution_count": 254,
   "id": "1b88e1b6",
   "metadata": {},
   "outputs": [
    {
     "name": "stdout",
     "output_type": "stream",
     "text": [
      "15 35 80 35 45 5\n",
      "15=5개\n",
      "35=3개\n",
      "80=0개\n",
      "35=3개\n",
      "45=1개\n",
      "5=6개\n"
     ]
    }
   ],
   "source": [
    "lst_1 = [10,50,40,20,30,40]\n",
    "lst_2 = list(map(int,input().split()))\n",
    "for i in range(len(lst_2)):\n",
    "    count = 0\n",
    "    for j in range(len(lst_1)):\n",
    "        if lst_2[i] < lst_1[j]:\n",
    "            count+=1\n",
    "    print(f\"{lst_2[i]}={count}개\")"
   ]
  },
  {
   "cell_type": "code",
   "execution_count": 268,
   "id": "818b1120",
   "metadata": {},
   "outputs": [
    {
     "name": "stdout",
     "output_type": "stream",
     "text": [
      "2\n",
      "1 2 3 4 5\n",
      "1 2 3 4 5\n",
      "1 2 3 4 5\n",
      "1 2 3 4 5\n",
      "1 2 3 4 5\n",
      "1 2 3 4 5 \n",
      "1 2 3 4 \n",
      "1 2 3 \n",
      "1 2 \n",
      "1 \n"
     ]
    }
   ],
   "source": [
    "a = int(input())\n",
    "arr = [[0 for i in range(5)] for j in range(5)]\n",
    "for i in range(5):\n",
    "    arr[i] = list(map(int, input().split()))\n",
    "\n",
    "if a == 1:\n",
    "    for i in range(5):\n",
    "        for j in range(5):\n",
    "            if j-i < 1:\n",
    "                print(arr[i][j],end=' ')\n",
    "        print(\"\")\n",
    "elif a == 2:\n",
    "    for i in range(5):\n",
    "        for j in range(5):\n",
    "            if i+j <= 4:\n",
    "                print(arr[i][j],end=' ')\n",
    "        print(\"\")"
   ]
  },
  {
   "cell_type": "code",
   "execution_count": 271,
   "id": "76658639",
   "metadata": {},
   "outputs": [
    {
     "name": "stdout",
     "output_type": "stream",
     "text": [
      "3\n",
      "33333\n",
      "33333\n",
      "33333\n"
     ]
    }
   ],
   "source": [
    "a = input()\n",
    "i = 0\n",
    "while i < 3:\n",
    "    print(a*5)\n",
    "    i+=1"
   ]
  },
  {
   "cell_type": "code",
   "execution_count": 284,
   "id": "8ac18af2",
   "metadata": {},
   "outputs": [
    {
     "name": "stdout",
     "output_type": "stream",
     "text": [
      "asdf\n",
      "acbd\n",
      "adfsabcd\n"
     ]
    }
   ],
   "source": [
    "lst_1 = list(input())\n",
    "lst_2 = list(input())\n",
    "lst_1.sort()\n",
    "lst_2.sort()\n",
    "lst_3 = lst_1 + lst_2\n",
    "print(*lst_3,sep='')"
   ]
  },
  {
   "cell_type": "code",
   "execution_count": 289,
   "id": "b7ba1fdd",
   "metadata": {},
   "outputs": [
    {
     "name": "stdout",
     "output_type": "stream",
     "text": [
      "123\n",
      " 45\n",
      "  6\n"
     ]
    }
   ],
   "source": [
    "global lst\n",
    "lst = [[0 for i in range(3)]for j in range(3)]\n",
    "def magic():\n",
    "    for i in range(3):\n",
    "        for j in range(3):\n",
    "            if i > 0 and j == 0:\n",
    "                lst[i][j] == 0\n",
    "            elif i <= 1:\n",
    "                lst[i][j] = 1+(i*2)+j\n",
    "            elif i == 2 and j == 2:\n",
    "                lst[i][j] = 6\n",
    "    for i in range(3):\n",
    "        for j in range(3):\n",
    "            if lst[i][j] == 0:\n",
    "                lst[i][j] = ' '\n",
    "def output_lst():\n",
    "    for i in lst:\n",
    "        print(*i,sep='')\n",
    "magic()\n",
    "output_lst()"
   ]
  },
  {
   "cell_type": "code",
   "execution_count": 290,
   "id": "eede7aeb",
   "metadata": {},
   "outputs": [
    {
     "name": "stdout",
     "output_type": "stream",
     "text": [
      "MIS\n",
      "MIST\n",
      "다름\n"
     ]
    }
   ],
   "source": [
    "lst_1 = list(input())\n",
    "lst_2 = list(input())\n",
    "if lst_1 == lst_2:\n",
    "    print(\"같음\")\n",
    "else :\n",
    "    print(\"다름\")"
   ]
  },
  {
   "cell_type": "code",
   "execution_count": 294,
   "id": "e04d48b8",
   "metadata": {},
   "outputs": [
    {
     "name": "stdout",
     "output_type": "stream",
     "text": [
      "5127\n",
      "숫자5\n",
      "숫자1\n",
      "숫자2\n",
      "숫자7\n"
     ]
    }
   ],
   "source": [
    "lst = list(map(int,(input())))\n",
    "for i in range(len(lst)):\n",
    "    print(f\"숫자{lst[i]}\")"
   ]
  },
  {
   "cell_type": "code",
   "execution_count": 297,
   "id": "df1235a9",
   "metadata": {},
   "outputs": [
    {
     "name": "stdout",
     "output_type": "stream",
     "text": [
      "1 3 5 7 5 6\n",
      "완벽한배치\n"
     ]
    }
   ],
   "source": [
    "lst = list(map(int,input().split()))\n",
    "for i in range(len(lst)-1):\n",
    "    if lst[i] - lst[i+1] < 3 and lst[i] - lst[i+1] > -3:\n",
    "        flag = 1\n",
    "    else :\n",
    "        flag = 0\n",
    "        break\n",
    "if flag == 1:\n",
    "    print(\"완벽한배치\")\n",
    "else :\n",
    "    print(\"재배치필요\")"
   ]
  },
  {
   "cell_type": "code",
   "execution_count": 303,
   "id": "06ef948e",
   "metadata": {},
   "outputs": [
    {
     "name": "stdout",
     "output_type": "stream",
     "text": [
      "NCQ\n",
      "QCN\n",
      "거울문장\n"
     ]
    }
   ],
   "source": [
    "lst_1 = list(input())\n",
    "lst_2 = list(input())\n",
    "lst_1.reverse()\n",
    "if lst_1 == lst_2 :\n",
    "    print(\"거울문장\")\n",
    "else :\n",
    "    print(\"거울문장아님\")"
   ]
  },
  {
   "cell_type": "code",
   "execution_count": 310,
   "id": "ce9c7dca",
   "metadata": {},
   "outputs": [
    {
     "name": "stdout",
     "output_type": "stream",
     "text": [
      "abcd\n",
      "bbq\n",
      "uiouio\n",
      "mins\n",
      "3 4 4 6\n"
     ]
    }
   ],
   "source": [
    "lst_1 = [[0 for i in range(6)] for j in range(4)]\n",
    "lst_2 = [0 for i in range(4)]\n",
    "for i in range(4):\n",
    "    lst_1[i] = list(input())\n",
    "for i in range(4):\n",
    "    lst_2[i] = len(lst_1[i])\n",
    "lst_2.sort()\n",
    "print(*lst_2,sep=' ')"
   ]
  },
  {
   "cell_type": "code",
   "execution_count": 311,
   "id": "55ff6f62",
   "metadata": {},
   "outputs": [
    {
     "name": "stdout",
     "output_type": "stream",
     "text": [
      "AgKeOqV\n",
      "개구리문장\n"
     ]
    }
   ],
   "source": [
    "lst = list(input())\n",
    "for i in range(len(lst)-1):\n",
    "    if lst[i].isupper() != lst[i+1].isupper():\n",
    "        flag = 1\n",
    "    else :\n",
    "        flag = 0\n",
    "        break\n",
    "if flag == 0:\n",
    "    print(\"일반문장\")\n",
    "else :\n",
    "    print(\"개구리문장\")"
   ]
  },
  {
   "cell_type": "code",
   "execution_count": 327,
   "id": "d69ef75a",
   "metadata": {},
   "outputs": [
    {
     "name": "stdout",
     "output_type": "stream",
     "text": [
      "APLQF\n",
      "A=마을사람\n",
      "P=외부사람\n",
      "L=외부사람\n",
      "Q=마을사람\n",
      "F=외부사람\n"
     ]
    }
   ],
   "source": [
    "lst_1 = ['A','B','C','Z','E','T','Q']\n",
    "lst_2 = list(input())\n",
    "for i in range(len(lst_2)):\n",
    "    call_count = 0\n",
    "    for j in range(len(lst_1)):\n",
    "        if lst_2[i] == lst_1[j] and call_count==0:\n",
    "            print(f\"{lst_2[i]}=마을사람\")\n",
    "            call_count+=1\n",
    "        elif call_count==0 and j == len(lst_1)-1 :\n",
    "            print(f\"{lst_2[i]}=외부사람\")"
   ]
  },
  {
   "cell_type": "code",
   "execution_count": 333,
   "id": "e1218619",
   "metadata": {},
   "outputs": [
    {
     "name": "stdout",
     "output_type": "stream",
     "text": [
      "ABC\n",
      "BBQ\n",
      "KFC\n",
      "SHOWSHOW\n",
      "OPT\n",
      "SHOWSHOW\n"
     ]
    }
   ],
   "source": [
    "lst = [[0 for i in range(10)] for j in range(5)]\n",
    "for i in range(5):\n",
    "    lst[i] = list(input())\n",
    "length = [0 for i in range(5)]\n",
    "for i in range(5):\n",
    "    length[i] = len(lst[i])\n",
    "print(*lst[length.index(max(length))],sep='')"
   ]
  }
 ],
 "metadata": {
  "kernelspec": {
   "display_name": "Python 3 (ipykernel)",
   "language": "python",
   "name": "python3"
  },
  "language_info": {
   "codemirror_mode": {
    "name": "ipython",
    "version": 3
   },
   "file_extension": ".py",
   "mimetype": "text/x-python",
   "name": "python",
   "nbconvert_exporter": "python",
   "pygments_lexer": "ipython3",
   "version": "3.9.13"
  }
 },
 "nbformat": 4,
 "nbformat_minor": 5
}
