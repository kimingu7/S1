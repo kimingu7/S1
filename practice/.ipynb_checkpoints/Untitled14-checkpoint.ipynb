{
 "cells": [
  {
   "cell_type": "markdown",
   "id": "8b32dd31",
   "metadata": {},
   "source": [
    "### 23-1"
   ]
  },
  {
   "cell_type": "code",
   "execution_count": 7,
   "id": "1bfb9a2e",
   "metadata": {},
   "outputs": [
    {
     "name": "stdout",
     "output_type": "stream",
     "text": [
      "ATKP\n",
      "ATK\n",
      "ATP\n",
      "AKT\n",
      "AKP\n",
      "APT\n",
      "APK\n",
      "TAK\n",
      "TAP\n",
      "TKA\n",
      "TKP\n",
      "TPA\n",
      "TPK\n",
      "KAT\n",
      "KAP\n",
      "KTA\n",
      "KTP\n",
      "KPA\n",
      "KPT\n",
      "PAT\n",
      "PAK\n",
      "PTA\n",
      "PTK\n",
      "PKA\n",
      "PKT\n"
     ]
    }
   ],
   "source": [
    "from itertools import *\n",
    "names = list(input())\n",
    "list_123 = list(permutations(names, 3))\n",
    "for i in list_123:\n",
    "    print(*i,sep='')"
   ]
  },
  {
   "cell_type": "markdown",
   "id": "10ceaa3a",
   "metadata": {},
   "source": [
    "### 23-2"
   ]
  },
  {
   "cell_type": "code",
   "execution_count": 47,
   "id": "2bc0f535",
   "metadata": {},
   "outputs": [
    {
     "name": "stdout",
     "output_type": "stream",
     "text": [
      "BOTK\n",
      "178\n"
     ]
    }
   ],
   "source": [
    "from itertools import *\n",
    "words = list(input())\n",
    "list_words = list(product(words, repeat = 4))\n",
    "cnt = 0\n",
    "for i in range(len(list_words)):\n",
    "    cnt_TB = 0\n",
    "    for j in range(3):\n",
    "        if list_words[i][j] == 'B' and list_words[i][j+1] == 'T' and cnt_TB == 0:\n",
    "            cnt+=1\n",
    "            cnt_TB+=1\n",
    "        elif list_words[i][j] == 'T' and list_words[i][j+1] == 'B' and cnt_TB == 0:\n",
    "            cnt+=1\n",
    "            cnt_TB+=1\n",
    "print(len(list_words)-cnt)"
   ]
  },
  {
   "cell_type": "markdown",
   "id": "abf3275e",
   "metadata": {},
   "source": [
    "### 23-3"
   ]
  },
  {
   "cell_type": "code",
   "execution_count": 70,
   "id": "c107267a",
   "metadata": {
    "scrolled": true
   },
   "outputs": [
    {
     "name": "stdout",
     "output_type": "stream",
     "text": [
      "3\n",
      "24\n"
     ]
    }
   ],
   "source": [
    "from itertools import *\n",
    "choco = list('ABC')\n",
    "n = int(input())\n",
    "cnt = 0\n",
    "list_choco = list(product(choco, repeat = n))\n",
    "for i in range(len(list_choco)):\n",
    "    cnt_AAA = 0\n",
    "    for j in range(n-2):\n",
    "        if (list_choco[i][j] == list_choco[i][j+1] and \n",
    "            list_choco[i][j] == list_choco[i][j+2] and cnt_AAA == 0):\n",
    "            cnt+=1\n",
    "            cnt_AAA+=1\n",
    "print(len(list_choco)-cnt)"
   ]
  },
  {
   "cell_type": "markdown",
   "id": "921bc522",
   "metadata": {},
   "source": [
    "### 23-4"
   ]
  },
  {
   "cell_type": "code",
   "execution_count": 121,
   "id": "c2a7b0c1",
   "metadata": {},
   "outputs": [
    {
     "name": "stdout",
     "output_type": "stream",
     "text": [
      "3\n",
      "36\n"
     ]
    }
   ],
   "source": [
    "from itertools import *\n",
    "sts = list('BTSKR')\n",
    "n = int(input())\n",
    "cnt = 0\n",
    "list_unit = list(permutations(sts, n))\n",
    "for i in range(len(list_unit)):\n",
    "    for j in range(n):\n",
    "        if list_unit[i][j] == 'S':\n",
    "            cnt+=1\n",
    "print(cnt)"
   ]
  },
  {
   "cell_type": "markdown",
   "id": "6c1820a1",
   "metadata": {},
   "source": [
    "### 23-5"
   ]
  },
  {
   "cell_type": "code",
   "execution_count": 127,
   "id": "d7935d4e",
   "metadata": {},
   "outputs": [
    {
     "name": "stdout",
     "output_type": "stream",
     "text": [
      "W\n",
      "EABC\n",
      "EACB\n",
      "EBAC\n",
      "EBCA\n",
      "ECAB\n",
      "ECBA\n",
      "AEBC\n",
      "AECB\n",
      "ABEC\n",
      "ABCE\n",
      "ACEB\n",
      "ACBE\n",
      "BEAC\n",
      "BECA\n",
      "BAEC\n",
      "BACE\n",
      "BCEA\n",
      "BCAE\n",
      "CEAB\n",
      "CEBA\n",
      "CAEB\n",
      "CABE\n",
      "CBEA\n",
      "CBAE\n"
     ]
    }
   ],
   "source": [
    "from itertools import *\n",
    "dude = list('EWABC')\n",
    "byebye = input()\n",
    "dude.remove(byebye)\n",
    "nice_boat = list(permutations(dude, 4))\n",
    "for i in nice_boat:\n",
    "    print(*i,sep='')"
   ]
  },
  {
   "cell_type": "markdown",
   "id": "e205c093",
   "metadata": {},
   "source": [
    "### 23-6"
   ]
  },
  {
   "cell_type": "code",
   "execution_count": 134,
   "id": "3b2b188a",
   "metadata": {},
   "outputs": [
    {
     "name": "stdout",
     "output_type": "stream",
     "text": [
      "12345\n",
      "497\n"
     ]
    }
   ],
   "source": [
    "from itertools import *\n",
    "cards = list(map(int,input()))\n",
    "list_cards = list(product(cards, repeat = 4))\n",
    "cnt = 0\n",
    "for i in range(len(list_cards)):\n",
    "    cnt_cards = 0\n",
    "    for j in range(3):\n",
    "        if abs(list_cards[i][j] - list_cards[i][j+1]) > 3 and cnt_cards == 0:\n",
    "            cnt+=1\n",
    "            cnt_cards+=1\n",
    "print(len(list_cards)-cnt)"
   ]
  },
  {
   "cell_type": "markdown",
   "id": "27aa6586",
   "metadata": {},
   "source": [
    "### 23.5-1"
   ]
  },
  {
   "cell_type": "code",
   "execution_count": 144,
   "id": "b63a9db1",
   "metadata": {},
   "outputs": [
    {
     "name": "stdout",
     "output_type": "stream",
     "text": [
      "L\n",
      "R\n",
      "R\n",
      "R\n",
      "9 7 3 5 1\n"
     ]
    }
   ],
   "source": [
    "lst = [3,5,1,9,7]\n",
    "input_LR = [[0] for _ in range(4)]\n",
    "for i in range(4):\n",
    "    input_LR[i] = input()\n",
    "for i in range(4):\n",
    "    if input_LR[i] == 'L':\n",
    "        tmp = lst[0]\n",
    "        lst[0] = lst[1]\n",
    "        lst[1] = lst[2]\n",
    "        lst[2] = lst[3]\n",
    "        lst[3] = lst[4]\n",
    "        lst[4] = tmp\n",
    "    elif input_LR[i] == 'R':\n",
    "        tmp = lst[4]\n",
    "        lst[4] = lst[3]\n",
    "        lst[3] = lst[2]\n",
    "        lst[2] = lst[1]\n",
    "        lst[1] = lst[0]\n",
    "        lst[0] = tmp\n",
    "print(*lst)"
   ]
  },
  {
   "cell_type": "markdown",
   "id": "4eca0c90",
   "metadata": {},
   "source": [
    "### 23.5-2"
   ]
  },
  {
   "cell_type": "code",
   "execution_count": null,
   "id": "58511740",
   "metadata": {},
   "outputs": [],
   "source": [
    "killers = [[0 for _ in range(2)] for _ in range(3)]\n",
    "maps_ = [[0 for _ in range(4)] for _ in range(3)]\n",
    "for i in range(3):\n",
    "    killers[i] = list(map(int, input().split()))\n",
    "for i in range(3):\n",
    "    maps_[killers[i][0]][killers[i][1]] = '#'\n",
    "cnt = 0\n",
    "for i in range(2):\n",
    "    if killers[0][i] == killers[1][i] and cnt == 0:\n",
    "        print(\"위험\")\n",
    "        cnt+=1\n",
    "    elif killers[0][i] == killers[2][i] and cnt == 0:\n",
    "        print(\"위험\")\n",
    "        cnt+=1\n",
    "    elif killers[1][i] == killers[2][i] and cnt == 0:\n",
    "        print(\"위험\")\n",
    "        cnt+=1\n",
    "    elif cnt == 0:\n",
    "        print(\"안전\")\n",
    "        cnt+=1"
   ]
  },
  {
   "cell_type": "markdown",
   "id": "83cec199",
   "metadata": {},
   "source": [
    "### 23.5-3"
   ]
  },
  {
   "cell_type": "code",
   "execution_count": 162,
   "id": "50905773",
   "metadata": {},
   "outputs": [
    {
     "name": "stdout",
     "output_type": "stream",
     "text": [
      "1 2 1\n",
      "2 3 4\n",
      "3 2 1\n",
      "1 2 1 4\n",
      "2 3 4 9\n",
      "3 2 1 6\n",
      "6 7 6 5\n"
     ]
    }
   ],
   "source": [
    "box_4x4 = [[0 for _ in range(4)] for _ in range(4)]\n",
    "box_3x3 = [[0 for _ in range(3)] for _ in range(3)]\n",
    "for i in range(3):\n",
    "    box_3x3[i] = list(map(int, input().split()))\n",
    "for i in range(3):\n",
    "    for j in range(3):\n",
    "        box_4x4[i][j] = box_3x3[i][j]\n",
    "for i in range(3):\n",
    "    box_4x4[i][3] = box_4x4[i][0] + box_4x4[i][1] + box_4x4[i][2]\n",
    "for i in range(3):\n",
    "    box_4x4[3][i] = box_4x4[0][i] + box_4x4[1][i] + box_4x4[2][i]\n",
    "box_4x4[3][3] = box_4x4[0][0] + box_4x4[1][1] + box_4x4[2][2]\n",
    "for i in box_4x4:\n",
    "    print(*i)"
   ]
  },
  {
   "cell_type": "markdown",
   "id": "735bc1f5",
   "metadata": {},
   "source": [
    "### 23.5-4"
   ]
  },
  {
   "cell_type": "code",
   "execution_count": 3,
   "id": "4a3d360e",
   "metadata": {},
   "outputs": [
    {
     "name": "stdout",
     "output_type": "stream",
     "text": [
      "1 3 7 6\n",
      "7 5 4 3\n",
      "3 3 2 7\n",
      "1 6 3 2\n"
     ]
    }
   ],
   "source": [
    "lst_1 = [[3,5,4,1],[1,1,2,3],[6,7,1,2]]\n",
    "lst_2 = list(map(int, input().split()))\n",
    "for i in range(3):\n",
    "    for j in range(4):\n",
    "        cnt = 0\n",
    "        for k in range(len(lst_2)):\n",
    "            if lst_1[i][j] == lst_2[k] and k < len(lst_2)-1 and cnt == 0:\n",
    "                lst_1[i][j] = lst_2[k+1]\n",
    "                cnt+=1\n",
    "            elif lst_1[i][j] == lst_2[k] and k == len(lst_2)-1 and cnt == 0:\n",
    "                lst_1[i][j] = lst_2[0]\n",
    "                cnt+=1\n",
    "for i in lst_1:\n",
    "    print(*i)"
   ]
  },
  {
   "cell_type": "markdown",
   "id": "3b6a1e9f",
   "metadata": {},
   "source": [
    "### 23.5-6"
   ]
  },
  {
   "cell_type": "code",
   "execution_count": 10,
   "id": "9a067f22",
   "metadata": {},
   "outputs": [
    {
     "name": "stdout",
     "output_type": "stream",
     "text": [
      "ABBA\n",
      "BACB\n",
      "CBAA\n",
      "DDAB\n",
      "B\n"
     ]
    }
   ],
   "source": [
    "lst_1 = [[0 for _ in range(4)] for _ in range(4)]\n",
    "lst_2 = [['A','B','C','D'],['B','B','A','B'],['C','B','A','C'],['B','A','A','A']]\n",
    "cnt_ = [0 for _ in range(4)]\n",
    "for i in range(4):\n",
    "    lst_1[i] = list(input())\n",
    "for i in range(4):\n",
    "    for j in range(4):\n",
    "        if lst_1[i][j] == lst_2[i][j]:\n",
    "            if lst_1[i][j] == 'A':\n",
    "                cnt_[0] = cnt_[0] + 1\n",
    "            elif lst_1[i][j] == 'B':\n",
    "                cnt_[1] = cnt_[1] + 1\n",
    "            elif lst_1[i][j] == 'C':\n",
    "                cnt_[2] = cnt_[2] + 1\n",
    "            elif lst_1[i][j] == 'D':\n",
    "                cnt_[3] = cnt_[3] + 1\n",
    "max_cnt = cnt_.index(max(cnt_))\n",
    "if max_cnt == 0:\n",
    "    print('A')\n",
    "elif max_cnt == 1:\n",
    "    print('B')\n",
    "elif max_cnt == 2:\n",
    "    print('C')\n",
    "elif max_cnt == 3:\n",
    "    print('D')"
   ]
  },
  {
   "cell_type": "markdown",
   "id": "9ca0e85b",
   "metadata": {},
   "source": [
    "### 24-1"
   ]
  },
  {
   "cell_type": "code",
   "execution_count": 16,
   "id": "bb934006",
   "metadata": {},
   "outputs": [
    {
     "name": "stdout",
     "output_type": "stream",
     "text": [
      "JASON\n",
      "JASON\n",
      "NOSAJ\n"
     ]
    }
   ],
   "source": [
    "char = list(input())\n",
    "print(*char,sep='')\n",
    "char_rev = char.reverse()\n",
    "print(*char,sep='')"
   ]
  },
  {
   "cell_type": "markdown",
   "id": "80b448bc",
   "metadata": {},
   "source": [
    "### 24-2"
   ]
  },
  {
   "cell_type": "code",
   "execution_count": 23,
   "id": "6b90469e",
   "metadata": {},
   "outputs": [
    {
     "name": "stdout",
     "output_type": "stream",
     "text": [
      "KFC\n",
      "4\n",
      "MINCODING\n",
      "KFCWORLD\n",
      "MCDONALD\n",
      "BBQKFCON\n",
      "X\n",
      "O\n",
      "X\n",
      "O\n"
     ]
    }
   ],
   "source": [
    "mincheol = list(input())\n",
    "rstnt_n = int(input())\n",
    "rstnts = [[0 for _ in range(1000)] for _ in range(rstnt_n)]\n",
    "for i in range(rstnt_n):\n",
    "    rstnts[i] = list(input())\n",
    "for i in range(rstnt_n):\n",
    "    cnt = 0\n",
    "    for j in range(len(rstnts[i])-len(mincheol)):\n",
    "        if rstnts[i][j] == mincheol[0]:\n",
    "            for k in range(1, len(mincheol)):\n",
    "                if rstnts[i][j+k] == mincheol[k]:\n",
    "                    cnt+=1\n",
    "            if cnt == len(mincheol) - 1:\n",
    "                print('O')\n",
    "        elif j == len(rstnts[i])-len(mincheol)-1 and cnt < len(mincheol) - 1:\n",
    "            print('X')"
   ]
  },
  {
   "cell_type": "code",
   "execution_count": null,
   "id": "a847e5a0",
   "metadata": {},
   "outputs": [],
   "source": []
  },
  {
   "cell_type": "code",
   "execution_count": null,
   "id": "22c50441",
   "metadata": {},
   "outputs": [],
   "source": []
  },
  {
   "cell_type": "code",
   "execution_count": null,
   "id": "fdd4f71a",
   "metadata": {},
   "outputs": [],
   "source": []
  },
  {
   "cell_type": "code",
   "execution_count": null,
   "id": "ebce9e02",
   "metadata": {},
   "outputs": [],
   "source": []
  },
  {
   "cell_type": "code",
   "execution_count": null,
   "id": "b5e0c192",
   "metadata": {},
   "outputs": [],
   "source": []
  },
  {
   "cell_type": "code",
   "execution_count": null,
   "id": "17fb4bd3",
   "metadata": {},
   "outputs": [],
   "source": []
  },
  {
   "cell_type": "code",
   "execution_count": null,
   "id": "21d33a60",
   "metadata": {},
   "outputs": [],
   "source": []
  },
  {
   "cell_type": "code",
   "execution_count": null,
   "id": "6639bd6d",
   "metadata": {},
   "outputs": [],
   "source": []
  },
  {
   "cell_type": "code",
   "execution_count": null,
   "id": "6c1e49c6",
   "metadata": {},
   "outputs": [],
   "source": []
  },
  {
   "cell_type": "code",
   "execution_count": null,
   "id": "c58ed91a",
   "metadata": {},
   "outputs": [],
   "source": []
  },
  {
   "cell_type": "code",
   "execution_count": null,
   "id": "52e309ba",
   "metadata": {},
   "outputs": [],
   "source": []
  },
  {
   "cell_type": "code",
   "execution_count": null,
   "id": "72a82b69",
   "metadata": {},
   "outputs": [],
   "source": []
  },
  {
   "cell_type": "code",
   "execution_count": null,
   "id": "d874f2b6",
   "metadata": {},
   "outputs": [],
   "source": []
  },
  {
   "cell_type": "code",
   "execution_count": null,
   "id": "175fcaac",
   "metadata": {},
   "outputs": [],
   "source": []
  },
  {
   "cell_type": "code",
   "execution_count": null,
   "id": "5e73f234",
   "metadata": {},
   "outputs": [],
   "source": []
  },
  {
   "cell_type": "code",
   "execution_count": null,
   "id": "8461bc65",
   "metadata": {},
   "outputs": [],
   "source": []
  }
 ],
 "metadata": {
  "kernelspec": {
   "display_name": "Python 3 (ipykernel)",
   "language": "python",
   "name": "python3"
  },
  "language_info": {
   "codemirror_mode": {
    "name": "ipython",
    "version": 3
   },
   "file_extension": ".py",
   "mimetype": "text/x-python",
   "name": "python",
   "nbconvert_exporter": "python",
   "pygments_lexer": "ipython3",
   "version": "3.9.13"
  }
 },
 "nbformat": 4,
 "nbformat_minor": 5
}
