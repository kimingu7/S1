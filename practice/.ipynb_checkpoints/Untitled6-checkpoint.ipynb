{
 "cells": [
  {
   "cell_type": "code",
   "execution_count": 12,
   "id": "feb6748b",
   "metadata": {},
   "outputs": [
    {
     "name": "stdout",
     "output_type": "stream",
     "text": [
      "3\n",
      "HGFEDCBA"
     ]
    }
   ],
   "source": [
    "lst_1 = ['B','D','5','Q','A']\n",
    "lst_2 = ['Q','E','R','E','F']\n",
    "a = input()\n",
    "if a.isupper() == True:\n",
    "    print(*lst_2,sep='')\n",
    "elif a.islower() == True:\n",
    "    print(*lst_1,sep='')\n",
    "elif a.isdigit() == True:\n",
    "    for i in range(ord('H'),ord('A')-1,-1):\n",
    "        print(chr(i),end='')"
   ]
  },
  {
   "cell_type": "code",
   "execution_count": 14,
   "id": "44acb5c9",
   "metadata": {},
   "outputs": [
    {
     "name": "stdout",
     "output_type": "stream",
     "text": [
      "샵무샵무샵샵"
     ]
    }
   ],
   "source": [
    "lst = ['#','_','#','_','#','#']\n",
    "for i in range(len(lst)):\n",
    "    if lst[i] == '#':\n",
    "        print(\"샵\",end='')\n",
    "    elif lst[i] == \"_\":\n",
    "        print(\"무\",end='')"
   ]
  },
  {
   "cell_type": "code",
   "execution_count": 21,
   "id": "b048e04c",
   "metadata": {},
   "outputs": [
    {
     "name": "stdout",
     "output_type": "stream",
     "text": [
      "1 2 3\n",
      "4 5 6\n",
      "21\n"
     ]
    }
   ],
   "source": [
    "arr=[0 for _ in range(2)]\n",
    "\n",
    "for i in range(2):\n",
    "    arr[i]=list(map(int, input().split()))\n",
    "sum = 0\n",
    "for i in range(2):\n",
    "    for j in range(3):\n",
    "        sum = sum + arr[i][j]\n",
    "print(sum)"
   ]
  },
  {
   "cell_type": "code",
   "execution_count": 25,
   "id": "74d9785d",
   "metadata": {},
   "outputs": [
    {
     "name": "stdout",
     "output_type": "stream",
     "text": [
      "1\n",
      "5개 존재합니다\n"
     ]
    }
   ],
   "source": [
    "arr = [[4,3,1,1],[3,1,2,1],[0,0,1,2]]\n",
    "a = int(input())\n",
    "count = 0\n",
    "for i in range(3):\n",
    "    for j in range(4):\n",
    "        if arr[i][j] == a :\n",
    "            count+=1\n",
    "print(\"{}개 존재합니다\".format(count))"
   ]
  },
  {
   "cell_type": "code",
   "execution_count": 30,
   "id": "ba3c4c51",
   "metadata": {},
   "outputs": [
    {
     "name": "stdout",
     "output_type": "stream",
     "text": [
      "4800\n",
      "1 3 5 7 9 11 13 15 17 19 "
     ]
    }
   ],
   "source": [
    "price = int(input())\n",
    "def starBox():\n",
    "    for i in range(1,20,2):\n",
    "        print(i,end=' ')\n",
    "def macDoll():\n",
    "    for i in range(ord('H'),ord('A')-1,-1):\n",
    "        print(chr(i),end=' ')\n",
    "def copyBead():\n",
    "    for i in range(10):\n",
    "        print(i-5,end=' ')\n",
    "if price >= 3500 and price <= 5000 :\n",
    "    starBox()\n",
    "elif price >= 2500 and price < 3500 :\n",
    "    macDoll()\n",
    "else :\n",
    "    copyBean()"
   ]
  },
  {
   "cell_type": "code",
   "execution_count": 31,
   "id": "48440f87",
   "metadata": {},
   "outputs": [
    {
     "name": "stdout",
     "output_type": "stream",
     "text": [
      "8 1 4 7 2 8\n",
      "0번은 8점 합격\n",
      "1번은 1점 불합격\n",
      "2번은 4점 불합격\n",
      "3번은 7점 합격\n",
      "4번은 2점 불합격\n",
      "5번은 8점 합격\n"
     ]
    }
   ],
   "source": [
    "lst = list(map(int, input().split()))\n",
    "for i in range(len(lst)):\n",
    "    if lst[i] >= 5 :\n",
    "        print(\"{}번은 {}점 합격\".format(i, lst[i]))\n",
    "    else :\n",
    "        print(\"{}번은 {}점 불합격\".format(i, lst[i]))"
   ]
  },
  {
   "cell_type": "code",
   "execution_count": 32,
   "id": "0e0a6018",
   "metadata": {},
   "outputs": [
    {
     "name": "stdout",
     "output_type": "stream",
     "text": [
      "A\n",
      "2번 INDEX\n"
     ]
    }
   ],
   "source": [
    "lst = ['D','T','A','B','W','Q']\n",
    "a = input()\n",
    "for i in range(5):\n",
    "    if a == lst[i]:\n",
    "        print(\"{}번 INDEX\".format(i))"
   ]
  },
  {
   "cell_type": "code",
   "execution_count": 35,
   "id": "9f7bb1b0",
   "metadata": {},
   "outputs": [
    {
     "name": "stdout",
     "output_type": "stream",
     "text": [
      "5\n",
      "a b c d e\n",
      "abcde"
     ]
    }
   ],
   "source": [
    "char = [0]*5\n",
    "n = int(input())\n",
    "lst = list(input().split())\n",
    "for i in range(n):\n",
    "    char[i] = lst[i]\n",
    "for i in range(n):\n",
    "    print(char[i],end='')"
   ]
  },
  {
   "cell_type": "code",
   "execution_count": 36,
   "id": "0f61840f",
   "metadata": {},
   "outputs": [
    {
     "name": "stdout",
     "output_type": "stream",
     "text": [
      "A B C\n",
      "CCCCBBBBBBAAAAAAA"
     ]
    }
   ],
   "source": [
    "lst = [0]*17\n",
    "a, b, c = input().split()\n",
    "for i in range(0,17):\n",
    "    if i <= 6:\n",
    "        lst[i] = a\n",
    "    elif i <=12 and i > 6:\n",
    "        lst[i] = b\n",
    "    elif i <= 16 and i > 12:\n",
    "        lst[i] = c\n",
    "for i in range(16,-1,-1):\n",
    "    print(lst[i],end='')"
   ]
  },
  {
   "cell_type": "code",
   "execution_count": 40,
   "id": "a829bb06",
   "metadata": {},
   "outputs": [
    {
     "name": "stdout",
     "output_type": "stream",
     "text": [
      "A E 3\n",
      "ABCDE\n",
      "ABCDE\n",
      "ABCDE\n"
     ]
    }
   ],
   "source": [
    "a, b, c = input().split()\n",
    "a_ascii = ord(a)\n",
    "b_ascii = ord(b)\n",
    "c_num = int(c)\n",
    "for i in range(c_num):\n",
    "    for j in range(ord(a),ord(b)+1):\n",
    "        print(chr(j),end='')\n",
    "    print(\"\")"
   ]
  },
  {
   "cell_type": "code",
   "execution_count": 42,
   "id": "ada545f2",
   "metadata": {},
   "outputs": [
    {
     "name": "stdout",
     "output_type": "stream",
     "text": [
      "C 2\n",
      "CC\n",
      "CC\n"
     ]
    }
   ],
   "source": [
    "a, b = input().split()\n",
    "b_num = int(b)\n",
    "for i in range(b_num):\n",
    "    for j in range(b_num):\n",
    "        print(a,end='')\n",
    "    print(\"\")"
   ]
  },
  {
   "cell_type": "code",
   "execution_count": 46,
   "id": "9be19c1e",
   "metadata": {},
   "outputs": [
    {
     "name": "stdout",
     "output_type": "stream",
     "text": [
      "0 2 5\n",
      "0 0 5 \n",
      "0 0 0 \n",
      "0 0 0 \n"
     ]
    }
   ],
   "source": [
    "arr = [[0]*3,[0]*3,[0]*3]\n",
    "a, b, c = map(int, input().split())\n",
    "arr[a][b] = c\n",
    "\n",
    "for i in range(3):\n",
    "    for j in range(3):\n",
    "        print(arr[i][j],end=' ')\n",
    "    print(\"\")"
   ]
  },
  {
   "cell_type": "code",
   "execution_count": 54,
   "id": "77535160",
   "metadata": {},
   "outputs": [
    {
     "name": "stdout",
     "output_type": "stream",
     "text": [
      "3 5\n",
      "333\n",
      "333\n",
      "333\n",
      "555\n",
      "555\n",
      "555\n"
     ]
    }
   ],
   "source": [
    "arr = [[0]*3]*6\n",
    "a, b = map(int, input().split())\n",
    "for i in range(0,6):\n",
    "    if i <= 2 :\n",
    "        for j in range(3):\n",
    "            arr[i][j] = a\n",
    "            print(arr[i][j],end='')\n",
    "    elif i < 6 and i > 2 :\n",
    "        for j in range(3):\n",
    "            arr[i][j] = b\n",
    "            print(arr[i][j],end='')\n",
    "    print(\"\")"
   ]
  },
  {
   "cell_type": "code",
   "execution_count": 60,
   "id": "6c97ea6c",
   "metadata": {},
   "outputs": [
    {
     "name": "stdout",
     "output_type": "stream",
     "text": [
      "a G\n",
      "aaaaGG\n",
      "aaaaGG\n",
      "aaaaGG\n"
     ]
    }
   ],
   "source": [
    "arr = [[0]*6]*3\n",
    "a, b = input().split()\n",
    "for i in range(0,3):\n",
    "    for j in range(6):\n",
    "        if j <= 3 :\n",
    "            arr[i][j] = a\n",
    "            print(arr[i][j],end='')\n",
    "        elif j < 6 and j > 2 :\n",
    "            arr[i][j] = b\n",
    "            print(arr[i][j],end='')\n",
    "    print(\"\")"
   ]
  },
  {
   "cell_type": "code",
   "execution_count": 61,
   "id": "d92c8944",
   "metadata": {},
   "outputs": [
    {
     "name": "stdout",
     "output_type": "stream",
     "text": [
      "1\n",
      "숫자1개수는2개\n"
     ]
    }
   ],
   "source": [
    "lst = [4,3,6,1,3,1,5,3]\n",
    "a = int(input())\n",
    "count = 0\n",
    "for i in range(len(lst)):\n",
    "    if lst[i] == a:\n",
    "        count+=1\n",
    "print(\"숫자{}개수는{}개\".format(a,count))"
   ]
  },
  {
   "cell_type": "code",
   "execution_count": null,
   "id": "5c17cde7",
   "metadata": {},
   "outputs": [],
   "source": [
    "arr = [['A','B','C','D','E'],['E','A','B','A','B'],['A','C','D','E','R']]\n",
    "a = input()\n",
    "count = 0\n",
    "for i in range(3):\n",
    "    for j in range(5):\n",
    "        if arr[i][j] == a:\n",
    "            count+=1\n",
    "if count >= 3:\n",
    "    print(\"대발견\")\n",
    "elif count == 0:\n",
    "    print(\"미발견\")\n",
    "else :\n",
    "    print(\"발견\")"
   ]
  },
  {
   "cell_type": "code",
   "execution_count": 62,
   "id": "f08db2e5",
   "metadata": {},
   "outputs": [
    {
     "ename": "SyntaxError",
     "evalue": "invalid syntax (2110698952.py, line 6)",
     "output_type": "error",
     "traceback": [
      "\u001b[1;36m  Cell \u001b[1;32mIn[62], line 6\u001b[1;36m\u001b[0m\n\u001b[1;33m    if lst[i] = a:\u001b[0m\n\u001b[1;37m              ^\u001b[0m\n\u001b[1;31mSyntaxError\u001b[0m\u001b[1;31m:\u001b[0m invalid syntax\n"
     ]
    }
   ],
   "source": [
    "lst = ['A','F','G','A','B','C']\n",
    "a, b = input().split()\n",
    "count_a = 0\n",
    "count_b = 0\n",
    "for i in range(len(lst)):\n",
    "    if lst[i] == a:\n",
    "        count_a+=1\n",
    "    if lst[i] == b:\n",
    "        count_b+=1\n",
    "if count_a >= 1 and count_b >= 1:\n",
    "    print(\"와2개\")\n",
    "elif count_a == 0 and count_b == 0:\n",
    "    print(\"우0개\")\n",
    "else :\n",
    "    print(\"오1개\")"
   ]
  },
  {
   "cell_type": "code",
   "execution_count": 63,
   "id": "75e9e58d",
   "metadata": {},
   "outputs": [
    {
     "name": "stdout",
     "output_type": "stream",
     "text": [
      "0 4\n",
      "7 4 2 5 3 9 "
     ]
    }
   ],
   "source": [
    "lst = [3,4,2,5,7,9]\n",
    "a, b = map(int,input().split())\n",
    "temp = lst[a]\n",
    "lst[a] = lst[b]\n",
    "lst[b] = temp\n",
    "for i in range(len(lst)):\n",
    "    print(lst[i])"
   ]
  },
  {
   "cell_type": "code",
   "execution_count": 78,
   "id": "e651023f",
   "metadata": {},
   "outputs": [
    {
     "name": "stdout",
     "output_type": "stream",
     "text": [
      "0 2\n",
      "1 2\n",
      "ABF\n",
      "DEC\n",
      "GHI\n"
     ]
    }
   ],
   "source": [
    "arr = [[0]*3,[0]*3,[0]*3]\n",
    "x1, y1 = map(int, input().split())\n",
    "x2, y2 = map(int, input().split())\n",
    "for i in range(3):\n",
    "    for j in range(3):\n",
    "        arr[i][j] = chr(ord('A')+(i*3)+j)\n",
    "temp = arr[x1][y1]\n",
    "arr[x1][y1] = arr[x2][y2]\n",
    "arr[x2][y2] = temp\n",
    "\n",
    "for i in range(3):\n",
    "    for j in range(3):\n",
    "        print(arr[i][j],end='')\n",
    "    print(\"\")"
   ]
  },
  {
   "cell_type": "code",
   "execution_count": 89,
   "id": "7dc328a7",
   "metadata": {},
   "outputs": [
    {
     "name": "stdout",
     "output_type": "stream",
     "text": [
      "3 4\n",
      "2 6\n",
      "7 1\n",
      "2 8\n",
      "1 9\n",
      "1 2\n",
      "4 3 \n",
      "6 2 \n",
      "7 1 \n",
      "8 2 \n",
      "9 1 \n",
      "2 1 \n",
      "5명\n"
     ]
    }
   ],
   "source": [
    "arr=[0 for _ in range(6)]\n",
    "\n",
    "for i in range(6):\n",
    "    arr[i]=list(map(int, input().split()))\n",
    "count = 0\n",
    "for i in range(0,6):\n",
    "    if arr[i][0] < arr[i][1] :\n",
    "        temp = arr[i][0]\n",
    "        arr[i][0] = arr[i][1]\n",
    "        arr[i][1] = temp\n",
    "        count+=1\n",
    "for i in range(0,6):\n",
    "    for j in range(0,2):\n",
    "        print(arr[i][j],end=' ')\n",
    "    print(\"\")\n",
    "print(\"{}명\".format(count))"
   ]
  },
  {
   "cell_type": "code",
   "execution_count": 93,
   "id": "b77c47fb",
   "metadata": {},
   "outputs": [
    {
     "name": "stdout",
     "output_type": "stream",
     "text": [
      "6 3\n",
      "합:9\n",
      "차:3\n",
      "곱:18\n",
      "몫:3\n",
      "\n"
     ]
    }
   ],
   "source": [
    "global a, b\n",
    "def main():\n",
    "    global a, b\n",
    "    a, b = map(int,(input().split()))\n",
    "def BBQ():\n",
    "    global a, b\n",
    "    sum = a + b\n",
    "    min = a - b\n",
    "    pd = a * b\n",
    "    dv = int(a/b)\n",
    "    print(\"합:{}\\n차:{}\\n곱:{}\\n몫:{}\\n\".format(sum,min,pd,dv))\n",
    "main()\n",
    "BBQ()"
   ]
  },
  {
   "cell_type": "code",
   "execution_count": 99,
   "id": "d8a925ed",
   "metadata": {},
   "outputs": [
    {
     "name": "stdout",
     "output_type": "stream",
     "text": [
      "A\n",
      "발견\n"
     ]
    }
   ],
   "source": [
    "global arr\n",
    "arr = [['F','E','W'],['D','C','A']]\n",
    "global a\n",
    "def main():\n",
    "    global a\n",
    "    a = input()\n",
    "def findCh():\n",
    "    global a, arr\n",
    "    count = 0\n",
    "    for i in range(2):\n",
    "        for j in range(3):\n",
    "            if arr[i][j] == a:\n",
    "                count+=1\n",
    "    if count > 0 :\n",
    "        print(\"발견\")\n",
    "    else :\n",
    "        print(\"미발견\")\n",
    "main()\n",
    "findCh()"
   ]
  },
  {
   "cell_type": "code",
   "execution_count": 107,
   "id": "f78068cf",
   "metadata": {},
   "outputs": [
    {
     "name": "stdout",
     "output_type": "stream",
     "text": [
      "A y Q G r\n",
      "대소대대소"
     ]
    }
   ],
   "source": [
    "global lst\n",
    "lst = list(input().split())\n",
    "def checkChar():\n",
    "    if lst[i].isupper() == True:\n",
    "        print(\"대\",end='')\n",
    "    elif lst[i].islower() == True:\n",
    "        print(\"소\",end='')\n",
    "for i in range(len(lst)):\n",
    "    checkChar()"
   ]
  },
  {
   "cell_type": "code",
   "execution_count": 108,
   "id": "524f0e21",
   "metadata": {},
   "outputs": [
    {
     "name": "stdout",
     "output_type": "stream",
     "text": [
      "5\n",
      "3\n"
     ]
    }
   ],
   "source": [
    "lst = [2,1,2,4,5]\n",
    "arr = [[2,5,3],[4,5,7],[8,7,2]]\n",
    "a = int(input())\n",
    "count = 0\n",
    "for i in range(len(lst)):\n",
    "    if lst[i] == a:\n",
    "        count+=1\n",
    "for i in range(3):\n",
    "    for j in range(3):\n",
    "        if arr[i][j] == a:\n",
    "            count+=1\n",
    "print(count)"
   ]
  },
  {
   "cell_type": "code",
   "execution_count": 111,
   "id": "14b580e1",
   "metadata": {},
   "outputs": [
    {
     "name": "stdout",
     "output_type": "stream",
     "text": [
      "A b c d A\n",
      "문자A는 2개발견\n",
      "0번\n",
      "4번\n"
     ]
    }
   ],
   "source": [
    "lst = list(input().split())\n",
    "count = 0\n",
    "for i in range(len(lst)):\n",
    "    if lst[i] == 'A':\n",
    "        count+=1\n",
    "print(\"문자A는 {}개발견\".format(count))\n",
    "for i in range(len(lst)):\n",
    "    if lst[i] == 'A':\n",
    "        print(\"{}번\".format(i))"
   ]
  },
  {
   "cell_type": "code",
   "execution_count": 153,
   "id": "c687e44e",
   "metadata": {},
   "outputs": [
    {
     "name": "stdout",
     "output_type": "stream",
     "text": [
      "A\n",
      "(0,1)\n",
      "(0,2)\n",
      "(2,2)\n",
      "(3,0)\n",
      "(3,1)\n"
     ]
    }
   ],
   "source": [
    "arr = [['D','A','A'],['B','C','D'],['E','F','A'],['A','A','D'],['F','G','E']]\n",
    "a = input()\n",
    "for i in range(5):\n",
    "    for j in range(3):\n",
    "        if arr[i][j] == a:\n",
    "            print(\"({},{})\".format(i,j))"
   ]
  },
  {
   "cell_type": "code",
   "execution_count": 124,
   "id": "42f04f79",
   "metadata": {},
   "outputs": [
    {
     "name": "stdout",
     "output_type": "stream",
     "text": [
      "30 40\n",
      "4\n"
     ]
    }
   ],
   "source": [
    "arr = [[10,3,20],[60,30,40],[20,30,40]]\n",
    "a, b = map(int, input().split())\n",
    "count = 0\n",
    "for i in range(3):\n",
    "    for j in range(3):\n",
    "        if arr[i][j] >= a and arr[i][j] <= b:\n",
    "            count+=1\n",
    "print(count)"
   ]
  },
  {
   "cell_type": "code",
   "execution_count": 134,
   "id": "71ca73f8",
   "metadata": {},
   "outputs": [
    {
     "name": "stdout",
     "output_type": "stream",
     "text": [
      "[['D', 'F', 'A'], ['B', 'C', 'e']]\n",
      "D F A\n",
      "B C e\n",
      "대문자5개\n",
      "대문자1개\n"
     ]
    }
   ],
   "source": [
    "global arr\n",
    "def input_lst():\n",
    "    arr=[0 for _ in range(2)]\n",
    "    for i in range(2):\n",
    "        arr[i]=list(input().split())\n",
    "print(arr)\n",
    "def findUpper():\n",
    "    count_Upper = 0\n",
    "    for i in range(2):\n",
    "        for j in range(3):\n",
    "            if arr[i][j].isupper() == True:\n",
    "                count_Upper+=1\n",
    "    print(\"대문자{}개\".format(count_Upper))\n",
    "def findLower():\n",
    "    count_Lower = 0\n",
    "    for i in range(2):\n",
    "        for j in range(3):\n",
    "            if arr[i][j].islower() == True:\n",
    "                count_Lower+=1\n",
    "    print(\"소문자{}개\".format(count_Lower))\n",
    "    \n",
    "input_lst()\n",
    "findUpper()\n",
    "findLower()"
   ]
  },
  {
   "cell_type": "code",
   "execution_count": 137,
   "id": "98497287",
   "metadata": {},
   "outputs": [
    {
     "name": "stdout",
     "output_type": "stream",
     "text": [
      "3\n",
      "4\n"
     ]
    }
   ],
   "source": [
    "arr = [[3,5,14],[2,3,9],[6,2,7]]\n",
    "a = int(input())\n",
    "count = 0\n",
    "for i in range(3):\n",
    "    for j in range(3):\n",
    "        if arr[i][j] % a == 0:\n",
    "            count+=1\n",
    "print(count)"
   ]
  },
  {
   "cell_type": "code",
   "execution_count": 142,
   "id": "c31834e7",
   "metadata": {},
   "outputs": [
    {
     "name": "stdout",
     "output_type": "stream",
     "text": [
      "3\n",
      "5\n",
      "1234"
     ]
    }
   ],
   "source": [
    "a = int(input())\n",
    "\n",
    "def BBQ():\n",
    "    for i in range(1,b+1):\n",
    "        print(i,end='')\n",
    "def KFC():\n",
    "    for i in range(7):\n",
    "        print(b,end='')\n",
    "if a % 2 == 1:\n",
    "    b = int(input())\n",
    "    BBQ()\n",
    "else :\n",
    "    b = input()\n",
    "    KFC()"
   ]
  },
  {
   "cell_type": "code",
   "execution_count": 149,
   "id": "19c02a70",
   "metadata": {},
   "outputs": [
    {
     "name": "stdout",
     "output_type": "stream",
     "text": [
      "2\n",
      "A\n",
      "2A\n"
     ]
    }
   ],
   "source": [
    "global a, b\n",
    "def one():\n",
    "    global a\n",
    "    a = int(input())\n",
    "    return a\n",
    "def two():\n",
    "    global b\n",
    "    b = input()\n",
    "    return b\n",
    "one()\n",
    "two()\n",
    "print(a,end='')\n",
    "print(b)"
   ]
  },
  {
   "cell_type": "code",
   "execution_count": 166,
   "id": "e5028653",
   "metadata": {},
   "outputs": [
    {
     "name": "stdout",
     "output_type": "stream",
     "text": [
      "1\n",
      "0 0 0 1 \n",
      "0 0 2 0 \n",
      "0 3 0 0 \n",
      "4 0 0 0 \n"
     ]
    }
   ],
   "source": [
    "a = int(input())\n",
    "arr = [[0,0,0,0],[0,0,0,0],[0,0,0,0],[0,0,0,0]]\n",
    "if a % 2 == 0:\n",
    "    for i in range(0,4):\n",
    "        arr[i][i] = i+1\n",
    "else :\n",
    "    for i in range(0,4):\n",
    "        for j in range(3,-1,-1):\n",
    "            if i+j == 3:\n",
    "                arr[i][j] = i+1\n",
    "for i in range(0,4):\n",
    "    for j in range(0,4):\n",
    "        print(arr[i][j],end=' ')\n",
    "    print(\"\")"
   ]
  },
  {
   "cell_type": "code",
   "execution_count": 167,
   "id": "4b2a77e9",
   "metadata": {},
   "outputs": [
    {
     "name": "stdout",
     "output_type": "stream",
     "text": [
      "80\n",
      "Z\n",
      "90Z\n"
     ]
    }
   ],
   "source": [
    "global a, b\n",
    "def chicken():\n",
    "    global a\n",
    "    a = int(input())\n",
    "    a = a + 10\n",
    "    return a\n",
    "def coke():\n",
    "    global b\n",
    "    b = input()\n",
    "    return b\n",
    "def KFC():\n",
    "    chicken()\n",
    "    coke()\n",
    "    print(a,end='')\n",
    "    print(b)\n",
    "KFC()"
   ]
  },
  {
   "cell_type": "code",
   "execution_count": 168,
   "id": "6002db91",
   "metadata": {},
   "outputs": [
    {
     "name": "stdout",
     "output_type": "stream",
     "text": [
      "A E\n",
      "E\n"
     ]
    }
   ],
   "source": [
    "global a, b\n",
    "\n",
    "def getChar():\n",
    "    global a, b\n",
    "    a, b = input().split()\n",
    "    if ord(a) > ord (b):\n",
    "        print(a)\n",
    "    else :\n",
    "        print(b)\n",
    "getChar()"
   ]
  },
  {
   "cell_type": "code",
   "execution_count": 188,
   "id": "59cacf70",
   "metadata": {},
   "outputs": [
    {
     "name": "stdout",
     "output_type": "stream",
     "text": [
      "1\n",
      "9 6 3 \n",
      "8 5 2 \n",
      "7 4 1 \n"
     ]
    }
   ],
   "source": [
    "a = int(input())\n",
    "if a % 5 == 1:\n",
    "    for i in range(2,-1,-1):\n",
    "        for j in range(2,-1,-1):\n",
    "            arr[i][j] = 9-i-(j*3)\n",
    "elif a % 5 == 2:\n",
    "    for i in range(2,-1,-1):\n",
    "        for j in range(2,-1,-1):\n",
    "            arr[i][j] = 7-(i*3)+j\n",
    "else :\n",
    "    for i in range(2,-1,-1):\n",
    "        for j in range(2,-1,-1):\n",
    "            arr[i][j] = 10+i+(j*3)\n",
    "for i in range(3):\n",
    "    for j in range(3):\n",
    "        print(arr[i][j],end=' ')\n",
    "    print(\"\")"
   ]
  },
  {
   "cell_type": "code",
   "execution_count": null,
   "id": "542efeb1",
   "metadata": {},
   "outputs": [],
   "source": []
  },
  {
   "cell_type": "code",
   "execution_count": null,
   "id": "08d0efc2",
   "metadata": {},
   "outputs": [],
   "source": []
  },
  {
   "cell_type": "code",
   "execution_count": null,
   "id": "777f8a74",
   "metadata": {},
   "outputs": [],
   "source": []
  },
  {
   "cell_type": "code",
   "execution_count": null,
   "id": "7909835b",
   "metadata": {},
   "outputs": [],
   "source": []
  },
  {
   "cell_type": "code",
   "execution_count": null,
   "id": "4365e3a6",
   "metadata": {},
   "outputs": [],
   "source": []
  },
  {
   "cell_type": "code",
   "execution_count": null,
   "id": "485d9c4b",
   "metadata": {},
   "outputs": [],
   "source": []
  },
  {
   "cell_type": "code",
   "execution_count": null,
   "id": "2dfd202d",
   "metadata": {},
   "outputs": [],
   "source": []
  },
  {
   "cell_type": "code",
   "execution_count": null,
   "id": "1317641d",
   "metadata": {},
   "outputs": [],
   "source": []
  },
  {
   "cell_type": "code",
   "execution_count": null,
   "id": "d6c8746d",
   "metadata": {},
   "outputs": [],
   "source": []
  },
  {
   "cell_type": "code",
   "execution_count": null,
   "id": "abc81070",
   "metadata": {},
   "outputs": [],
   "source": []
  },
  {
   "cell_type": "code",
   "execution_count": null,
   "id": "d00404c2",
   "metadata": {},
   "outputs": [],
   "source": []
  }
 ],
 "metadata": {
  "kernelspec": {
   "display_name": "Python 3 (ipykernel)",
   "language": "python",
   "name": "python3"
  },
  "language_info": {
   "codemirror_mode": {
    "name": "ipython",
    "version": 3
   },
   "file_extension": ".py",
   "mimetype": "text/x-python",
   "name": "python",
   "nbconvert_exporter": "python",
   "pygments_lexer": "ipython3",
   "version": "3.9.13"
  }
 },
 "nbformat": 4,
 "nbformat_minor": 5
}
