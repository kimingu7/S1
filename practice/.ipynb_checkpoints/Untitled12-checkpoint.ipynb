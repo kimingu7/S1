{
 "cells": [
  {
   "cell_type": "code",
   "execution_count": 18,
   "id": "d728af1e",
   "metadata": {},
   "outputs": [
    {
     "name": "stdout",
     "output_type": "stream",
     "text": [
      "A z\n",
      "A : 존재\n",
      "z : 없음\n"
     ]
    }
   ],
   "source": [
    "lst = [['A','7','9','T','K','Q'],['M','I','N','C','O','D']]\n",
    "lst_char = list(input().split())\n",
    "def isExist():\n",
    "    for i in range(2):\n",
    "        flag = 0\n",
    "        for j in range(6):\n",
    "            for k in range(2):\n",
    "                if lst[k][j] == lst_char[i]:\n",
    "                    flag = 1\n",
    "        if flag == 1:\n",
    "            print(f'{lst_char[i]} : 존재')\n",
    "        else :\n",
    "            print(f'{lst_char[i]} : 없음')\n",
    "isExist()"
   ]
  },
  {
   "cell_type": "code",
   "execution_count": 29,
   "id": "ed33c178",
   "metadata": {},
   "outputs": [
    {
     "name": "stdout",
     "output_type": "stream",
     "text": [
      "3 5 B\n",
      "BBBBB\n",
      "BBBBB\n",
      "BBBBB\n",
      "\n",
      "BBBBB\n",
      "BBBBB\n",
      "BBBBB\n"
     ]
    }
   ],
   "source": [
    "lst = list(input().split())\n",
    "num_1 = int(lst[0])\n",
    "num_2 = int(lst[1])\n",
    "for i in range(num_1):\n",
    "    for j in range(num_2):\n",
    "        print(lst[2],end='')\n",
    "    print(\"\")\n",
    "print(\"\")\n",
    "for i in range(num_1):\n",
    "    for j in range(num_2):\n",
    "        print(lst[2],end='')\n",
    "    print(\"\")"
   ]
  },
  {
   "cell_type": "code",
   "execution_count": 34,
   "id": "94ddc31e",
   "metadata": {},
   "outputs": [
    {
     "name": "stdout",
     "output_type": "stream",
     "text": [
      "F\n",
      "미발견\n"
     ]
    }
   ],
   "source": [
    "lst = ['M','T','K','C']\n",
    "char = input()\n",
    "def isExist():\n",
    "    for i in range(len(lst)):\n",
    "        if lst[i] == char:\n",
    "            print(\"발견\")\n",
    "            break\n",
    "        elif i == len(lst)-1 :\n",
    "            print(\"미발견\")\n",
    "isExist()"
   ]
  },
  {
   "cell_type": "code",
   "execution_count": 35,
   "id": "506a5387",
   "metadata": {},
   "outputs": [
    {
     "name": "stdout",
     "output_type": "stream",
     "text": [
      "1 6\n",
      "2\n"
     ]
    }
   ],
   "source": [
    "lst = [5,9,4,6,1,5,8,9]\n",
    "num_1, num_2 = map(int, input().split())\n",
    "for i in range(num_1,len(lst)):\n",
    "    if lst[i] == num_2:\n",
    "        print(i-num_1)"
   ]
  },
  {
   "cell_type": "code",
   "execution_count": 36,
   "id": "ebab650d",
   "metadata": {},
   "outputs": [
    {
     "name": "stdout",
     "output_type": "stream",
     "text": [
      "1 0 1\n",
      "0 1 1\n",
      "1 0 0 \n",
      "16\n"
     ]
    }
   ],
   "source": [
    "lst_1 = [[3,5,9],[4,2,1],[1,1,5]]\n",
    "lst_2 = [[0 for _ in range(3)] for _ in range(3)]\n",
    "sum_lst = 0\n",
    "for i in range(3):\n",
    "    lst_2[i] = list(map(int, input().split()))\n",
    "for i in range(3):\n",
    "    for j in range(3):\n",
    "        if lst_2[i][j] == 1:\n",
    "            sum_lst = sum_lst + lst_1[i][j]\n",
    "print(sum_lst)"
   ]
  },
  {
   "cell_type": "code",
   "execution_count": 42,
   "id": "d6b8e2a0",
   "metadata": {},
   "outputs": [
    {
     "name": "stdout",
     "output_type": "stream",
     "text": [
      "T 2 1\n",
      "E\n"
     ]
    }
   ],
   "source": [
    "lst_1 = [['A','T','K','B'],['C','Z','F','D'],['H','G','E','I']]\n",
    "lst_2 = input().split()\n",
    "num_1 = int(lst_2[1])\n",
    "num_2 = int(lst_2[2])\n",
    "for i in range(3):\n",
    "    for j in range(4):\n",
    "        if lst_1[i][j] == lst_2[0]:\n",
    "            print(lst_1[i+num_1][j+num_2])"
   ]
  },
  {
   "cell_type": "code",
   "execution_count": 55,
   "id": "93634c1f",
   "metadata": {},
   "outputs": [
    {
     "name": "stdout",
     "output_type": "stream",
     "text": [
      "3 7 1\n",
      "3:존재\n",
      "7:미발견\n",
      "1:존재\n"
     ]
    }
   ],
   "source": [
    "lst_1 = [[3,5,9],[4,2,1],[5,1,5]]\n",
    "lst_2 = list(map(int,input().split()))\n",
    "\n",
    "def isExist():\n",
    "    for i in range(3):\n",
    "        call_count = 0\n",
    "        for j in range(3):\n",
    "            for k in range(3):\n",
    "                if lst_2[i] == lst_1[j][k] and call_count == 0:\n",
    "                    print(f'{lst_2[i]}:존재')\n",
    "                    call_count+=1\n",
    "                elif j == 2 and k == 2 and call_count == 0:\n",
    "                    print(f'{lst_2[i]}:미발견')\n",
    "isExist()"
   ]
  },
  {
   "cell_type": "code",
   "execution_count": 61,
   "id": "479b5b6b",
   "metadata": {},
   "outputs": [
    {
     "name": "stdout",
     "output_type": "stream",
     "text": [
      "(2,1)\n",
      "(2,2)\n"
     ]
    }
   ],
   "source": [
    "mask_1 = [[0,0,0,1],[1,1,0,1],[1,0,0,1],[1,1,1,1]]\n",
    "mask_2 = [[1,1,1,1],[1,0,1,1],[1,0,0,0],[1,0,0,0]]\n",
    "mask_3 = [[0 for _ in range(4)] for _ in range(4)]\n",
    "for i in range(4):\n",
    "    for j in range(4):\n",
    "        mask_3[i][j] = mask_1[i][j] + mask_2[i][j]\n",
    "        if mask_3[i][j] == 0:\n",
    "            print(f'({i},{j})')"
   ]
  },
  {
   "cell_type": "code",
   "execution_count": 77,
   "id": "2c511902",
   "metadata": {},
   "outputs": [
    {
     "name": "stdout",
     "output_type": "stream",
     "text": [
      "5\n",
      "5 존재\n"
     ]
    }
   ],
   "source": [
    "mask = [[0,0,1,0,0],[0,0,1,1,1]]\n",
    "lst = [[3,5,4,1,1],[3,5,2,5,6]]\n",
    "num = int(input())\n",
    "call_cnt = 0\n",
    "for i in range(2):\n",
    "    for j in range(5):\n",
    "        if mask[i][j] == 0:\n",
    "            lst[i][j] = 0\n",
    "for i in range(2):\n",
    "    for j in range(5):\n",
    "        if lst[i][j] == num and call_cnt == 0:\n",
    "            print(f'{num} 존재')\n",
    "            call_cnt+=1\n",
    "        elif lst[i][j] != num and call_cnt == 0 and i + j == 5:\n",
    "            print(f'{num} 없음')\n",
    "            call_cnt+=1"
   ]
  },
  {
   "cell_type": "code",
   "execution_count": 78,
   "id": "050d754b",
   "metadata": {},
   "outputs": [
    {
     "name": "stdout",
     "output_type": "stream",
     "text": [
      "A B Y Z\n",
      "2\n"
     ]
    }
   ],
   "source": [
    "lst = ['B','T','K','I','G','Z']\n",
    "target = list(input().split())\n",
    "count = 0\n",
    "for i in range(len(target)):\n",
    "    for j in range(len(lst)):\n",
    "        if target[i] == lst[j]:\n",
    "            count+=1\n",
    "print(count)"
   ]
  },
  {
   "cell_type": "code",
   "execution_count": 80,
   "id": "b2cfe613",
   "metadata": {},
   "outputs": [
    {
     "name": "stdout",
     "output_type": "stream",
     "text": [
      "2 3 4\n",
      "2\n"
     ]
    }
   ],
   "source": [
    "vect = [[3,7,4],[2,2,4],[2,2,5]]\n",
    "target = list(map(int, input().split()))\n",
    "cnt = [0 for _ in range(3)]\n",
    "for i in range(len(target)):\n",
    "    for j in range(3):\n",
    "        for k in range(3):\n",
    "            if target[i] == vect[j][k]:\n",
    "                cnt[i]+=1\n",
    "print(target[cnt.index(max(cnt))])"
   ]
  },
  {
   "cell_type": "code",
   "execution_count": 83,
   "id": "a9040fde",
   "metadata": {},
   "outputs": [
    {
     "name": "stdout",
     "output_type": "stream",
     "text": [
      "1\n",
      "14\n"
     ]
    }
   ],
   "source": [
    "lst = [3,4,1,1,2,6,8,7,8,9,10]\n",
    "start_index = int(input())\n",
    "def getSum():\n",
    "    global sum\n",
    "    sum = 0\n",
    "    for i in range(start_index, start_index+5):\n",
    "        sum = sum + lst[i]\n",
    "    return sum\n",
    "getSum()\n",
    "print(sum)"
   ]
  },
  {
   "cell_type": "code",
   "execution_count": 84,
   "id": "f3685955",
   "metadata": {},
   "outputs": [
    {
     "name": "stdout",
     "output_type": "stream",
     "text": [
      "1 3\n",
      "5 9\n",
      "OK OK\n",
      "NO NO\n"
     ]
    }
   ],
   "source": [
    "lst = [3,7,4,1,2,6]\n",
    "univer = [[0 for _ in range(2)] for _ in range(2)]\n",
    "for i in range(2):\n",
    "    univer[i] = list(map(int, input().split()))\n",
    "def isExist():\n",
    "    for i in range(2):\n",
    "        for j in range(2):\n",
    "            call_cnt = 0\n",
    "            for k in range(len(lst)):\n",
    "                if univer[i][j] == lst[k] and call_cnt == 0:\n",
    "                    univer[i][j] = 'OK'\n",
    "                    call_cnt+=1\n",
    "                elif call_cnt == 0 and k == len(lst)-1:\n",
    "                    univer[i][j] = 'NO'\n",
    "                    call_cnt+=1\n",
    "isExist()\n",
    "for i in univer:\n",
    "    print(*i)"
   ]
  },
  {
   "cell_type": "code",
   "execution_count": 86,
   "id": "7fbd1a7b",
   "metadata": {},
   "outputs": [
    {
     "name": "stdout",
     "output_type": "stream",
     "text": [
      "ja\n",
      "ss\n",
      "남남\n"
     ]
    }
   ],
   "source": [
    "name_1 = list(input())\n",
    "name_2 = list(input())\n",
    "def isSame():\n",
    "    if name_1 == name_2:\n",
    "        print(\"동명\")\n",
    "    else :\n",
    "        print(\"남남\")\n",
    "isSame()"
   ]
  },
  {
   "cell_type": "code",
   "execution_count": 89,
   "id": "1e5a7a7d",
   "metadata": {},
   "outputs": [
    {
     "name": "stdout",
     "output_type": "stream",
     "text": [
      "G E\n",
      "중발견\n"
     ]
    }
   ],
   "source": [
    "lst_1 = [['G','K','T'],['P','A','C']]\n",
    "lst_2 = list(input().split())\n",
    "lst_3 = [0 for _ in range(2)]\n",
    "def isExist():\n",
    "    for i in range(len(lst_2)):\n",
    "        for j in range(2):\n",
    "            for k in range(3):\n",
    "                if lst_2[i] == lst_1[j][k]:\n",
    "                    lst_3[i] = 1\n",
    "isExist()\n",
    "if lst_3 == [1,1]:\n",
    "    print(\"대발견\")\n",
    "elif lst_3 == [0,0]:\n",
    "    print(\"미발견\")\n",
    "else :\n",
    "    print(\"중발견\")"
   ]
  },
  {
   "cell_type": "code",
   "execution_count": 90,
   "id": "350d61c7",
   "metadata": {},
   "outputs": [
    {
     "name": "stdout",
     "output_type": "stream",
     "text": [
      "0 1 1 0 1 1 0\n",
      "0770770\n"
     ]
    }
   ],
   "source": [
    "vect = [3,5,4,2,6,6,5]\n",
    "bit = list(map(int, input().split()))\n",
    "for i in range(len(bit)):\n",
    "    if bit[i] == 0:\n",
    "        vect[i] = 0\n",
    "for i in range(len(vect)):\n",
    "    if vect[i] != 0:\n",
    "        vect[i] = 7\n",
    "print(*vect,sep='')"
   ]
  },
  {
   "cell_type": "code",
   "execution_count": 92,
   "id": "30ec0082",
   "metadata": {},
   "outputs": [
    {
     "name": "stdout",
     "output_type": "stream",
     "text": [
      "1 2 3 \n",
      "fail\n"
     ]
    }
   ],
   "source": [
    "password = [3,7,4,9]\n",
    "password_input = list(map(int, input().split()))\n",
    "def isSame():\n",
    "    if password == password_input:\n",
    "        print(\"pass\")\n",
    "    else :\n",
    "        print(\"fail\")\n",
    "isSame()"
   ]
  },
  {
   "cell_type": "code",
   "execution_count": 103,
   "id": "ef66a4f5",
   "metadata": {},
   "outputs": [
    {
     "name": "stdout",
     "output_type": "stream",
     "text": [
      "15 15 15 40 100 105\n",
      "lev0:3\n",
      "lev1:1\n",
      "lev2:2\n",
      "lev3:0\n"
     ]
    }
   ],
   "source": [
    "levelTable = [[10,20],[30,60],[100,150],[200,300]]\n",
    "fruits = list(map(int, input().split()))\n",
    "cal_fruits = [0 for _ in range(4)]\n",
    "for i in range(len(fruits)):\n",
    "    for j in range(4):\n",
    "        if fruits[i] >= levelTable[j][0] and fruits[i] <= levelTable[j][1]:\n",
    "            cal_fruits[j] = cal_fruits[j] + 1\n",
    "for i in range(len(cal_fruits)):\n",
    "    print(f'lev{i}:{cal_fruits[i]}')"
   ]
  },
  {
   "cell_type": "code",
   "execution_count": 105,
   "id": "ad4d7e0b",
   "metadata": {},
   "outputs": [
    {
     "name": "stdout",
     "output_type": "stream",
     "text": [
      "1 10\n",
      "55 -5\n",
      "N N\n",
      "Y Y\n"
     ]
    }
   ],
   "source": [
    "map_ = [[3,55,42],[-5,-9,-10]]\n",
    "pix = [[0 for _ in range(2)] for _ in range(2)]\n",
    "for i in range(2):\n",
    "    pix[i] = list(map(int, input().split()))\n",
    "for i in range(2):\n",
    "    for j in range(2):\n",
    "        call_cnt = 0\n",
    "        for k in range(2):\n",
    "            for l in range(3):\n",
    "                if pix[i][j] == map_[k][l] and call_cnt == 0:\n",
    "                    pix[i][j] = 'Y'\n",
    "                    call_cnt+=1\n",
    "                elif k+l == 3 and call_cnt == 0:\n",
    "                    pix[i][j] = 'N'\n",
    "                    call_cnt+=1\n",
    "for i in pix:\n",
    "    print(*i)"
   ]
  },
  {
   "cell_type": "code",
   "execution_count": 117,
   "id": "47323078",
   "metadata": {},
   "outputs": [
    {
     "name": "stdout",
     "output_type": "stream",
     "text": [
      "3 5 4 2 5 1\n",
      "arr[0]=3\n"
     ]
    }
   ],
   "source": [
    "lst = list(map(int, input().split()))\n",
    "for i in range(len(lst)):\n",
    "    if i % 2 == 1:\n",
    "        lst[i] = 1000\n",
    "print(f'arr[{lst.index(min(lst))}]={min(lst)}')"
   ]
  },
  {
   "cell_type": "code",
   "execution_count": 120,
   "id": "87803d7f",
   "metadata": {},
   "outputs": [
    {
     "name": "stdout",
     "output_type": "stream",
     "text": [
      "1 1 1\n",
      "1 0 0 \n",
      "1 0 0\n",
      "발견\n"
     ]
    }
   ],
   "source": [
    "lst_1 = [[3,1,9],[7,2,1],[1,0,8]]\n",
    "lst_2 = [[0 for _ in range(3)] for _ in range(3)]\n",
    "for i in range(3):\n",
    "    lst_2[i] = list(map(int, input().split()))\n",
    "for i in range(3):\n",
    "    for j in range(3):\n",
    "        if lst_2[i][j] == 0:\n",
    "            lst_1[i][j] = 0\n",
    "cnt = 0\n",
    "for i in range(3):\n",
    "    for j in range(3):\n",
    "        if lst_1[i][j] >= 3 and lst_1[i][j] <= 5 and cnt == 0:\n",
    "            print(\"발견\")\n",
    "            cnt+=1\n",
    "        elif i+j == 4 and cnt == 0:\n",
    "            print(\"미발견\")"
   ]
  },
  {
   "cell_type": "code",
   "execution_count": 123,
   "id": "b50f8ecc",
   "metadata": {},
   "outputs": [
    {
     "name": "stdout",
     "output_type": "stream",
     "text": [
      "0 1 0 1\n",
      "7\n"
     ]
    }
   ],
   "source": [
    "data_ = [3,5,4,2]\n",
    "bit = list(map(int,input().split()))\n",
    "sum_data = 0\n",
    "for i in range(len(bit)):\n",
    "    if bit[i] == 0:\n",
    "        data_[i] = 0\n",
    "for i in range(len(data_)):\n",
    "    sum_data = sum_data + data_[i]\n",
    "print(sum_data)"
   ]
  },
  {
   "cell_type": "code",
   "execution_count": 126,
   "id": "93552cb3",
   "metadata": {},
   "outputs": [
    {
     "name": "stdout",
     "output_type": "stream",
     "text": [
      "F\n",
      "-1,-2\n"
     ]
    }
   ],
   "source": [
    "lst_radar = [[0 for _ in range(5)] for _ in range(5)]\n",
    "radar = input()\n",
    "for i in range(5):\n",
    "    for j in range(5):\n",
    "        lst_radar[i][j] = chr(ord('A')+(i*5)+j)\n",
    "for i in range(5):\n",
    "    for j in range(5):\n",
    "        if lst_radar[i][j] == radar:\n",
    "            print(f'{i-2},{j-2}')"
   ]
  },
  {
   "cell_type": "code",
   "execution_count": 140,
   "id": "a4a34e6c",
   "metadata": {},
   "outputs": [
    {
     "name": "stdout",
     "output_type": "stream",
     "text": [
      "65000\n"
     ]
    }
   ],
   "source": [
    "id_record = [[65000,35,42,70],[70,35,65000,1300],[65000,30000,38,42]]\n",
    "ids = [0 for _ in range(12)]\n",
    "for i in range(3):\n",
    "    for j in range(4):\n",
    "        ids[(i*4)+j] = id_record[i][j]\n",
    "print(max(set(ids), key=ids.count))"
   ]
  },
  {
   "cell_type": "code",
   "execution_count": 142,
   "id": "93924823",
   "metadata": {},
   "outputs": [
    {
     "name": "stdout",
     "output_type": "stream",
     "text": [
      "3 5 5\n",
      "1 4 9\n",
      "2 2 1\n",
      "6 7 8\n"
     ]
    }
   ],
   "source": [
    "lst_1 = [[0 for _ in range(3)] for _ in range(3)]\n",
    "for i in range(3):\n",
    "    lst_1[i] = list(map(int, input().split()))\n",
    "lst_2 = [0 for _ in range(9)]\n",
    "for i in range(len(lst_2)):\n",
    "    lst_2[i] = i+1\n",
    "for i in range(3):\n",
    "    for j in range(3):\n",
    "        for k in range(len(lst_2)):\n",
    "            if lst_1[i][j] == lst_2[k]:\n",
    "                lst_2[k] = 0\n",
    "while 0 in lst_2:\n",
    "    lst_2.remove(0)\n",
    "print(*lst_2)"
   ]
  },
  {
   "cell_type": "code",
   "execution_count": 160,
   "id": "96e0f116",
   "metadata": {},
   "outputs": [
    {
     "name": "stdout",
     "output_type": "stream",
     "text": [
      "3\n",
      "1 2 3\n"
     ]
    }
   ],
   "source": [
    "lst_1 = [[1,3,3,5,1],[3,6,2,4,2],[1,9,2,6,5]]\n",
    "N = int(input())\n",
    "lst_2 = [0 for _ in range(15)]\n",
    "lst_3 = [0 for _ in range(15)]\n",
    "for i in range(3):\n",
    "    for j in range(5):\n",
    "        lst_2[(i*5)+j] = lst_1[i][j]\n",
    "for i in range(15):\n",
    "    if lst_2.count(lst_2[i]) == N:\n",
    "        lst_3[i] = lst_2[i]\n",
    "lst_3 = list(set(lst_3))\n",
    "while 0 in lst_3:\n",
    "    lst_3.remove(0)\n",
    "print(*lst_3)"
   ]
  },
  {
   "cell_type": "code",
   "execution_count": 164,
   "id": "939967a5",
   "metadata": {},
   "outputs": [
    {
     "name": "stdout",
     "output_type": "stream",
     "text": [
      "ABCACBAASD\n",
      "5개\n"
     ]
    }
   ],
   "source": [
    "cardlist = list(input())\n",
    "cardlist = list(set(cardlist))\n",
    "print(f'{len(cardlist)}개')"
   ]
  },
  {
   "cell_type": "code",
   "execution_count": 165,
   "id": "e3514cc4",
   "metadata": {},
   "outputs": [
    {
     "name": "stdout",
     "output_type": "stream",
     "text": [
      "BQTABAAA\n",
      "A\n"
     ]
    }
   ],
   "source": [
    "lst = list(input())\n",
    "print(max(set(lst), key=lst.count))"
   ]
  },
  {
   "cell_type": "code",
   "execution_count": 166,
   "id": "d3c26d49",
   "metadata": {},
   "outputs": [
    {
     "name": "stdout",
     "output_type": "stream",
     "text": [
      "BTCK\n",
      "2명\n"
     ]
    }
   ],
   "source": [
    "town = [['C','D','A'],['B','M','Z'],['Q','P','O']]\n",
    "black = list(input())\n",
    "count = 0\n",
    "for i in range(4):\n",
    "    for j in range(3):\n",
    "        for k in range(3):\n",
    "            if black[i] == town[j][k]:\n",
    "                count+=1\n",
    "print(f'{count}명')"
   ]
  },
  {
   "cell_type": "code",
   "execution_count": 168,
   "id": "a6becad8",
   "metadata": {},
   "outputs": [
    {
     "name": "stdout",
     "output_type": "stream",
     "text": [
      "AAAABBBCCGHHIJK\n"
     ]
    }
   ],
   "source": [
    "alp = [['A','B','C'],['A','G','H'],['H','I','J'],['K','A','B'],['A','B','C']]\n",
    "new_alp = [0 for _ in range(15)]\n",
    "for i in range(5):\n",
    "    for j in range(3):\n",
    "        new_alp[(i*3)+j] = alp[i][j]\n",
    "new_alp.sort()\n",
    "print(*new_alp,sep='')"
   ]
  },
  {
   "cell_type": "code",
   "execution_count": 169,
   "id": "1af9c0bf",
   "metadata": {},
   "outputs": [
    {
     "name": "stdout",
     "output_type": "stream",
     "text": [
      "7 6 4\n",
      "1번~3번 칸\n"
     ]
    }
   ],
   "source": [
    "train = [3,7,6,4,2,9,1,7]\n",
    "team = list(map(int, input().split()))\n",
    "for i in range(len(train)):\n",
    "    if train[i] == team[0]:\n",
    "        if train[i+1] == team[1]:\n",
    "            if train[i+2] == team [2]:\n",
    "                print(f'{i}번~{i+2}번 칸')\n",
    "                break"
   ]
  },
  {
   "cell_type": "code",
   "execution_count": 175,
   "id": "d6d4a696",
   "metadata": {},
   "outputs": [
    {
     "name": "stdout",
     "output_type": "stream",
     "text": [
      "7 8 9\n",
      "2층\n"
     ]
    }
   ],
   "source": [
    "apt = [[15,18,17],[4,6,9],[10,1,3],[7,8,9],[15,2,6]]\n",
    "family = list(map(int, input().split()))\n",
    "def isPattern():\n",
    "    call_cnt = 0\n",
    "    for i in range(5):\n",
    "        if apt[i][0] == family[0] and call_cnt == 0:\n",
    "            if apt[i][1] == family[1] and call_cnt == 0:\n",
    "                if apt[i][2] == family[2] and call_cnt == 0:\n",
    "                    print(f'{5-i}층')\n",
    "                    call_cnt+=1\n",
    "                    break\n",
    "isPattern()"
   ]
  },
  {
   "cell_type": "code",
   "execution_count": 179,
   "id": "a6e83d45",
   "metadata": {},
   "outputs": [
    {
     "name": "stdout",
     "output_type": "stream",
     "text": [
      "G G G\n",
      "있음\n"
     ]
    }
   ],
   "source": [
    "lst = [['G','K','G'],[0,0,0]]\n",
    "lst[1] = list(input().split())\n",
    "new_lst = [0 for _ in range(6)]\n",
    "cnt = 0\n",
    "for i in range(2):\n",
    "    for j in range(3):\n",
    "        new_lst[(i*2)+j] = lst[i][j]\n",
    "for i in range(len(new_lst)):\n",
    "    if new_lst.count(new_lst[i]) >= 3 and cnt == 0:\n",
    "        print(\"있음\")\n",
    "        cnt+=1\n",
    "    elif i == len(new_lst)-1 and cnt == 0:\n",
    "        print(\"없음\")\n",
    "        cnt+=1"
   ]
  },
  {
   "cell_type": "code",
   "execution_count": 180,
   "id": "2f898983",
   "metadata": {},
   "outputs": [
    {
     "name": "stdout",
     "output_type": "stream",
     "text": [
      "1 3 3 3 2 1\n",
      "도플갱어 발견\n"
     ]
    }
   ],
   "source": [
    "dople_1 = list(map(int,input().split()))\n",
    "dople_2 = list(set(dople_1))\n",
    "if len(dople_1) == len(dople_2):\n",
    "    print(\"미발견\")\n",
    "else :\n",
    "    print(\"도플갱어 발견\")"
   ]
  },
  {
   "cell_type": "code",
   "execution_count": 181,
   "id": "f5643608",
   "metadata": {},
   "outputs": [
    {
     "name": "stdout",
     "output_type": "stream",
     "text": [
      "AKFCBBQAAK\n",
      "A\n"
     ]
    }
   ],
   "source": [
    "stc = list(input())\n",
    "print(max(set(stc), key=stc.count))"
   ]
  },
  {
   "cell_type": "code",
   "execution_count": 182,
   "id": "b398c44c",
   "metadata": {},
   "outputs": [
    {
     "name": "stdout",
     "output_type": "stream",
     "text": [
      "1 0 1 0 1\n",
      "0 1 1 0 0 \n",
      "1개\n"
     ]
    }
   ],
   "source": [
    "teeth_up = list(map(int, input().split()))\n",
    "teeth_down = list(map(int, input().split()))\n",
    "cnt = 0\n",
    "for i in range(len(teeth_up)):\n",
    "    if teeth_up[i] + teeth_down[i] == 2:\n",
    "        cnt+=1\n",
    "print(f'{cnt}개')"
   ]
  },
  {
   "cell_type": "code",
   "execution_count": 185,
   "id": "986c914b",
   "metadata": {},
   "outputs": [
    {
     "name": "stdout",
     "output_type": "stream",
     "text": [
      "T C\n",
      "7\n"
     ]
    }
   ],
   "source": [
    "lst = ['A','T','K','P','T','C','A','B','C']\n",
    "char_1, char_2 = input().split()\n",
    "for i in range(len(lst)):\n",
    "    if lst[i] == char_1:\n",
    "        index_1 = i\n",
    "        break\n",
    "for i in range(len(lst)-1,1,-1):\n",
    "    if lst[i] == char_2:\n",
    "        index_2 = i\n",
    "        break\n",
    "print(index_2 - index_1)"
   ]
  },
  {
   "cell_type": "code",
   "execution_count": 187,
   "id": "94b325b9",
   "metadata": {},
   "outputs": [
    {
     "name": "stdout",
     "output_type": "stream",
     "text": [
      "1 5 7 0\n",
      "1번 합격\n",
      "5번 합격\n",
      "7번 불합격\n",
      "0번 불합격\n"
     ]
    }
   ],
   "source": [
    "win = [[3,5,1],[4,2,6]]\n",
    "people = list(map(int, input().split()))\n",
    "for i in range(len(people)):\n",
    "    cnt = 0\n",
    "    for j in range(2):\n",
    "        for k in range(3):\n",
    "            if people[i] == win[j][k] and cnt == 0:\n",
    "                print(f'{people[i]}번 합격')\n",
    "                cnt+=1\n",
    "            elif j+k == 3 and cnt == 0:\n",
    "                print(f'{people[i]}번 불합격')"
   ]
  },
  {
   "cell_type": "code",
   "execution_count": 189,
   "id": "e877920e",
   "metadata": {},
   "outputs": [
    {
     "name": "stdout",
     "output_type": "stream",
     "text": [
      "3\n",
      "I N G\n",
      "OOO"
     ]
    }
   ],
   "source": [
    "vect = ['M','I','N','C','O','D','I','N','G']\n",
    "num = int(input())\n",
    "lst = list(input().split())\n",
    "for i in range(len(lst)):\n",
    "    cnt = 0\n",
    "    for j in range(len(vect)):\n",
    "        if lst[i] == vect[j] and cnt == 0:\n",
    "            print('O',end='')\n",
    "            cnt+=1\n",
    "        elif j == len(vect)-1 and cnt == 0:\n",
    "            print('X',end='')"
   ]
  },
  {
   "cell_type": "code",
   "execution_count": 190,
   "id": "479e3951",
   "metadata": {},
   "outputs": [
    {
     "name": "stdout",
     "output_type": "stream",
     "text": [
      "ABCCCD\n",
      "ABC\n",
      "A\n",
      "['C', 'A', 'B', 'D']\n"
     ]
    }
   ],
   "source": [
    "lst_1 = list(set(input()))\n",
    "lst_2 = list(set(input()))\n",
    "lst_3 = list(set(input()))\n",
    "lst_123 = lst_1 + lst_2 + lst_3\n",
    "if len(lst_123) == len(list(set(lst_123))):\n",
    "    print(\"Perfect\")\n",
    "else :\n",
    "    print(\"No\")"
   ]
  },
  {
   "cell_type": "code",
   "execution_count": 195,
   "id": "1e799aea",
   "metadata": {},
   "outputs": [
    {
     "name": "stdout",
     "output_type": "stream",
     "text": [
      "AAXCCB\n",
      "ABCX\n"
     ]
    }
   ],
   "source": [
    "lst = list(set(input()))\n",
    "lst.sort()\n",
    "print(*lst,sep='')"
   ]
  },
  {
   "cell_type": "code",
   "execution_count": 205,
   "id": "f2cd12d7",
   "metadata": {},
   "outputs": [
    {
     "name": "stdout",
     "output_type": "stream",
     "text": [
      "BTABATP\n",
      "A:2\n",
      "B:2\n",
      "P:1\n",
      "T:2\n"
     ]
    }
   ],
   "source": [
    "lst = list(input())\n",
    "new_lst = list(set(lst))\n",
    "new_lst.sort()\n",
    "for i in range(len(new_lst)):\n",
    "    print(f'{new_lst[i]}:{lst.count(new_lst[i])}')"
   ]
  },
  {
   "cell_type": "code",
   "execution_count": 210,
   "id": "16daad67",
   "metadata": {},
   "outputs": [
    {
     "name": "stdout",
     "output_type": "stream",
     "text": [
      "GHOSTA\n",
      "존재\n"
     ]
    }
   ],
   "source": [
    "lst = list(input())\n",
    "ghost = ['G','H','O','S','T']\n",
    "cnt = 0\n",
    "for i in range(len(lst)-5):\n",
    "    if lst[i:i+5] == ghost and cnt == 0:\n",
    "        print(\"존재\")\n",
    "        cnt+=1\n",
    "    elif i == len(lst)-6:\n",
    "        print(\"존재하지 않음\")"
   ]
  },
  {
   "cell_type": "code",
   "execution_count": 215,
   "id": "04a1e009",
   "metadata": {},
   "outputs": [
    {
     "name": "stdout",
     "output_type": "stream",
     "text": [
      "0 1\n",
      "8\n"
     ]
    }
   ],
   "source": [
    "lst = [[3,5,4],[1,1,2],[1,3,9]]\n",
    "x, y = map(int, input().split())\n",
    "if x == 0:\n",
    "    if y == 0:\n",
    "        sum_xy = lst[x+1][y] + lst[x][y+1]\n",
    "    elif y == 2:\n",
    "        sum_xy = lst[x][y-1] + lst[x+1][y]\n",
    "    else :\n",
    "        sum_xy = lst[x][y-1] + lst[x+1][y] + lst[x][y+1]\n",
    "if x == 1:\n",
    "    if y == 0:\n",
    "        sum_xy = lst[x-1][y] + lst[x+1][y] + lst[x][y+1]\n",
    "    elif y == 2:\n",
    "        sum_xy = lst[x-1][y] + lst[x][y-1] + lst[x+1][y]\n",
    "    else :\n",
    "        sum_xy = lst[x-1][y] + lst[x][y-1] + lst[x+1][y] + lst[x][y+1]\n",
    "if x == 2:\n",
    "    if y == 0:\n",
    "        sum_xy = lst[x-1][y] + lst[x][y+1]\n",
    "    elif y == 2:\n",
    "        sum_xy = lst[x-1][y] + lst[x][y-1]\n",
    "    else :\n",
    "        sum_xy = lst[x-1][y] + lst[x][y-1] + lst[x][y+1]\n",
    "print(sum_xy)"
   ]
  },
  {
   "cell_type": "code",
   "execution_count": 225,
   "id": "822feeb9",
   "metadata": {},
   "outputs": [
    {
     "name": "stdout",
     "output_type": "stream",
     "text": [
      "3 2\n"
     ]
    }
   ],
   "source": [
    "lst = [[3,3,5,3,1],[2,2,4,2,6],[4,9,2,3,4],[1,1,1,1,1],[3,3,5,9,2]]\n",
    "sum_xy = [[0 for _ in range(5)] for _ in range(5)]\n",
    "def sum():\n",
    "    for x in range(5):\n",
    "        for y in range(5):\n",
    "            if x == 0:\n",
    "                if y == 0:\n",
    "                    sum_xy[x][y] = lst[x+1][y+1]\n",
    "                elif y == 4:\n",
    "                    sum_xy[x][y] = lst[x+1][y-1]\n",
    "                else :\n",
    "                    sum_xy[x][y] = lst[x+1][y-1] + lst[x+1][y+1]\n",
    "            elif x == 4:\n",
    "                if y == 0:\n",
    "                    sum_xy[x][y] = lst[x-1][y+1]\n",
    "                elif y == 4:\n",
    "                    sum_xy[x][y] = lst[x-1][y-1]\n",
    "                else :\n",
    "                    sum_xy[x][y] = lst[x-1][y-1] + lst[x-1][y+1]\n",
    "            else :\n",
    "                if y == 0:\n",
    "                    sum_xy[x][y] = lst[x-1][y+1] + lst[x+1][y+1]\n",
    "                elif y == 4:\n",
    "                    sum_xy[x][y] = lst[x-1][y-1] + lst[x+1][y-1]\n",
    "                else :\n",
    "                    sum_xy[x][y] = lst[x-1][y-1] + lst[x-1][y+1] + lst[x+1][y-1] + lst[x+1][y+1]\n",
    "sum()\n",
    "max_xy = max(map(max, sum_xy))\n",
    "for i in range(5):\n",
    "    for j in range(5):\n",
    "        if sum_xy[i][j] == max_xy:\n",
    "            print(i, j)"
   ]
  },
  {
   "cell_type": "code",
   "execution_count": 259,
   "id": "3f871c1a",
   "metadata": {},
   "outputs": [
    {
     "name": "stdout",
     "output_type": "stream",
     "text": [
      "0 0\n",
      "3 4\n",
      "_ # _ _ #\n",
      "# # _ _ #\n",
      "_ _ _ # #\n",
      "# # _ # _\n"
     ]
    }
   ],
   "source": [
    "map_ = [['_' for _ in range(5)] for _ in range(4)]\n",
    "y1, x1 = map(int,input().split())\n",
    "y2, x2 = map(int,input().split())\n",
    "def explode():\n",
    "    for i in range(5):\n",
    "        for j in range(5):\n",
    "            if i == y1 and j == x1:\n",
    "                for k in range(3):\n",
    "                    for l in range(3):\n",
    "                        if i+k-1 < 4 and j+l-1 < 5:\n",
    "                            map_[i+k-1][j+l-1] = '#'\n",
    "                            map_[i][j] = '_'\n",
    "                        else :\n",
    "                            pass\n",
    "            elif i+j == 0:\n",
    "                map_[0][1] = '#'\n",
    "                map_[1][0] = '#'\n",
    "                map_[1][1] = '#'\n",
    "            if i == y2 and j == x2:\n",
    "                for k in range(3):\n",
    "                    for l in range(3):\n",
    "                        if i+k-1 < 4 and j+l-1 < 5:\n",
    "                            map_[i+k-1][j+l-1] = '#'\n",
    "                            map_[i][j] = '_'\n",
    "                        else :\n",
    "                            pass\n",
    "            elif i+j == 0:\n",
    "                map_[0][1] = '#'\n",
    "                map_[1][0] = '#'\n",
    "                map_[1][1] = '#'\n",
    "explode()\n",
    "for i in map_:\n",
    "    print(*i)"
   ]
  },
  {
   "cell_type": "code",
   "execution_count": 266,
   "id": "12433d60",
   "metadata": {},
   "outputs": [
    {
     "name": "stdout",
     "output_type": "stream",
     "text": [
      "3 4\n",
      "_ _ _ _ _\n",
      "_ _ _ _ _\n",
      "_ _ _ # #\n",
      "_ _ _ # _\n"
     ]
    }
   ],
   "source": [
    "map_ = [['_' for _ in range(5)] for _ in range(4)]\n",
    "y1, x1 = map(int,input().split())\n",
    "def explode():\n",
    "    for i in range(5):\n",
    "        for j in range(5):\n",
    "            if i == y1 and j == x1 and i+j != 0:\n",
    "                for k in range(3):\n",
    "                    for l in range(3):\n",
    "                        if i+k-1 < 4 and j+l-1 < 5:\n",
    "                            map_[i+k-1][j+l-1] = '#'\n",
    "                            map_[i][j] = '_'\n",
    "                        else :\n",
    "                            pass\n",
    "            elif i == y1 and j == x1 and i+j == 0:\n",
    "                map_[0][1] = '#'\n",
    "                map_[1][0] = '#'\n",
    "                map_[1][1] = '#'\n",
    "explode()\n",
    "for i in map_:\n",
    "    print(*i)"
   ]
  },
  {
   "cell_type": "code",
   "execution_count": 268,
   "id": "40402b8f",
   "metadata": {},
   "outputs": [
    {
     "name": "stdout",
     "output_type": "stream",
     "text": [
      "0 0\n",
      "3 4\n",
      "_ # _ _ _\n",
      "# # _ _ _\n",
      "_ _ _ # #\n",
      "_ _ _ # _\n"
     ]
    }
   ],
   "source": [
    "map_ = [['_' for _ in range(5)] for _ in range(4)]\n",
    "y1, x1 = map(int,input().split())\n",
    "y2, x2 = map(int,input().split())\n",
    "def explode():\n",
    "    for i in range(5):\n",
    "        for j in range(5):\n",
    "            if i == y1 and j == x1 and i+j != 0:\n",
    "                for k in range(3):\n",
    "                    for l in range(3):\n",
    "                        if i+k-1 < 4 and j+l-1 < 5:\n",
    "                            map_[i+k-1][j+l-1] = '#'\n",
    "                            map_[i][j] = '_'\n",
    "                        else :\n",
    "                            pass\n",
    "            elif i == y1 and j == x1 and i+j == 0:\n",
    "                map_[0][1] = '#'\n",
    "                map_[1][0] = '#'\n",
    "                map_[1][1] = '#'\n",
    "            if i == y2 and j == x2 and i+j != 0:\n",
    "                for k in range(3):\n",
    "                    for l in range(3):\n",
    "                        if i+k-1 < 4 and j+l-1 < 5:\n",
    "                            map_[i+k-1][j+l-1] = '#'\n",
    "                            map_[i][j] = '_'\n",
    "                        else :\n",
    "                            pass\n",
    "            elif i == y2 and j == x2 and i+j == 0:\n",
    "                map_[0][1] = '#'\n",
    "                map_[1][0] = '#'\n",
    "                map_[1][1] = '#'\n",
    "explode()\n",
    "for i in map_:\n",
    "    print(*i)"
   ]
  },
  {
   "cell_type": "code",
   "execution_count": null,
   "id": "51817050",
   "metadata": {},
   "outputs": [],
   "source": []
  },
  {
   "cell_type": "code",
   "execution_count": null,
   "id": "d4b1893d",
   "metadata": {},
   "outputs": [],
   "source": []
  },
  {
   "cell_type": "code",
   "execution_count": null,
   "id": "769a44cd",
   "metadata": {},
   "outputs": [],
   "source": []
  },
  {
   "cell_type": "code",
   "execution_count": null,
   "id": "11d5f3cd",
   "metadata": {},
   "outputs": [],
   "source": []
  },
  {
   "cell_type": "code",
   "execution_count": null,
   "id": "125649d1",
   "metadata": {},
   "outputs": [],
   "source": []
  },
  {
   "cell_type": "code",
   "execution_count": null,
   "id": "62654f60",
   "metadata": {},
   "outputs": [],
   "source": []
  },
  {
   "cell_type": "code",
   "execution_count": null,
   "id": "5dcdcece",
   "metadata": {},
   "outputs": [],
   "source": []
  },
  {
   "cell_type": "code",
   "execution_count": null,
   "id": "41961741",
   "metadata": {},
   "outputs": [],
   "source": []
  },
  {
   "cell_type": "code",
   "execution_count": null,
   "id": "11f9e834",
   "metadata": {},
   "outputs": [],
   "source": []
  },
  {
   "cell_type": "code",
   "execution_count": null,
   "id": "d47de641",
   "metadata": {},
   "outputs": [],
   "source": []
  },
  {
   "cell_type": "code",
   "execution_count": null,
   "id": "2377a6f7",
   "metadata": {},
   "outputs": [],
   "source": []
  },
  {
   "cell_type": "code",
   "execution_count": null,
   "id": "9dd1f6df",
   "metadata": {},
   "outputs": [],
   "source": []
  },
  {
   "cell_type": "code",
   "execution_count": null,
   "id": "70d2b9c0",
   "metadata": {},
   "outputs": [],
   "source": []
  }
 ],
 "metadata": {
  "kernelspec": {
   "display_name": "Python 3 (ipykernel)",
   "language": "python",
   "name": "python3"
  },
  "language_info": {
   "codemirror_mode": {
    "name": "ipython",
    "version": 3
   },
   "file_extension": ".py",
   "mimetype": "text/x-python",
   "name": "python",
   "nbconvert_exporter": "python",
   "pygments_lexer": "ipython3",
   "version": "3.9.13"
  }
 },
 "nbformat": 4,
 "nbformat_minor": 5
}
