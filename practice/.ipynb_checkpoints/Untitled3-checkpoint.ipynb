{
 "cells": [
  {
   "cell_type": "code",
   "execution_count": 4,
   "id": "08b02f1c",
   "metadata": {
    "scrolled": true
   },
   "outputs": [
    {
     "name": "stdout",
     "output_type": "stream",
     "text": [
      "t\n",
      "tsrqponmlkjihgfedcba"
     ]
    }
   ],
   "source": [
    "char = input()\n",
    "char_new = ord(char)\n",
    "for i in range(ord(char),ord('a')-1,-1):\n",
    "    print(chr(i),end='')"
   ]
  },
  {
   "cell_type": "code",
   "execution_count": 10,
   "id": "466d0fb7",
   "metadata": {},
   "outputs": [
    {
     "name": "stdout",
     "output_type": "stream",
     "text": [
      "1 4 3 5 2\n",
      "1 4 3 5 2\n",
      "1 4 3 5 2\n"
     ]
    }
   ],
   "source": [
    "lst_1 = [0,0,0,0,0]\n",
    "lst_2 = [0,0,0,0,0]\n",
    "a,b,c,d,e = map(int,input().split())\n",
    "lst_1[0]=lst_2[0]=a\n",
    "lst_1[1]=lst_2[1]=b\n",
    "lst_1[2]=lst_2[2]=c\n",
    "lst_1[3]=lst_2[3]=d\n",
    "lst_1[4]=lst_2[4]=e\n",
    "\n",
    "print(*lst_1,sep=' ')\n",
    "print(*lst_2,sep=' ')"
   ]
  },
  {
   "cell_type": "code",
   "execution_count": 13,
   "id": "f5e65c5e",
   "metadata": {},
   "outputs": [
    {
     "name": "stdout",
     "output_type": "stream",
     "text": [
      "4\n",
      "숫자문자입력!\n"
     ]
    }
   ],
   "source": [
    "a = input()\n",
    "\n",
    "if a.isupper() == True:\n",
    "    print(\"대문자입력!!\")\n",
    "elif a.islower() == True:\n",
    "    print(\"소문자입력!!\")\n",
    "elif a.isdigit() == True:\n",
    "    print(\"숫자문자입력!!\")"
   ]
  },
  {
   "cell_type": "code",
   "execution_count": 14,
   "id": "0f8fbc60",
   "metadata": {},
   "outputs": [
    {
     "name": "stdout",
     "output_type": "stream",
     "text": [
      "3 1 2\n",
      "3 1 2\n",
      "3 1 2\n",
      "3 1 2\n",
      "3 1 2\n",
      "3 1 2\n",
      "3 1 2\n"
     ]
    }
   ],
   "source": [
    "lst = list(map(int, input().split()))\n",
    "sum = 0\n",
    "for i in range(len(lst)):\n",
    "    sum = sum + lst[i]\n",
    "for i in range(sum):\n",
    "    print(*lst,sep=' ')"
   ]
  },
  {
   "cell_type": "code",
   "execution_count": 17,
   "id": "194e2153",
   "metadata": {
    "scrolled": true
   },
   "outputs": [
    {
     "name": "stdout",
     "output_type": "stream",
     "text": [
      "1 2 3 a b\n",
      "숫자3개발견\n"
     ]
    }
   ],
   "source": [
    "lst = list(input().split())\n",
    "count = 0\n",
    "for i in range(len(lst)):\n",
    "    if lst[i].isdigit() == True :\n",
    "        count+=1\n",
    "if count == 0 :\n",
    "    print(\"숫자미발견\")\n",
    "else :\n",
    "    print(\"숫자{}개발견\".format(count))"
   ]
  },
  {
   "cell_type": "code",
   "execution_count": 20,
   "id": "7688af55",
   "metadata": {},
   "outputs": [
    {
     "name": "stdout",
     "output_type": "stream",
     "text": [
      "a b\n",
      "A B\n"
     ]
    }
   ],
   "source": [
    "a, b = input().split()\n",
    "if a.isupper() == True:\n",
    "    a = a.lower()\n",
    "elif a.islower() == True:\n",
    "    a = a.upper()\n",
    "if b.isupper() == True:\n",
    "    b = b.lower()\n",
    "elif b.islower() == True:\n",
    "    b = b.upper()\n",
    "print(a, b)"
   ]
  },
  {
   "cell_type": "code",
   "execution_count": 21,
   "id": "678c918c",
   "metadata": {},
   "outputs": [
    {
     "name": "stdout",
     "output_type": "stream",
     "text": [
      "G\n",
      "GHIJK\n",
      "GFEDC\n"
     ]
    }
   ],
   "source": [
    "char_1 = [0,0,0,0,0]\n",
    "char_2 = [0,0,0,0,0]\n",
    "a = input()\n",
    "a_ascii = ord(a)\n",
    "for i in range(5):\n",
    "    char_1[i] = chr(ord(a)+i)\n",
    "    char_2[i] = chr(ord(a)-i)\n",
    "print(*char_1,sep='')\n",
    "print(*char_2,sep='')"
   ]
  },
  {
   "cell_type": "code",
   "execution_count": 25,
   "id": "5f79a7ee",
   "metadata": {},
   "outputs": [
    {
     "name": "stdout",
     "output_type": "stream",
     "text": [
      "9\n",
      "8 7 2 1 4 5 \n",
      "8 7 2 1 4 5 \n",
      "8 7 2 1 4 5 \n",
      "8 7 2 1 4 5 \n",
      "8 7 2 1 4 5 \n",
      "8 7 2 1 4 5 \n",
      "8 7 2 1 4 5 \n",
      "8 7 2 1 4 5 \n",
      "8 7 2 1 4 5 \n"
     ]
    }
   ],
   "source": [
    "lst = [5,4,1,2,7,8]\n",
    "a = int(input())\n",
    "for i in range(a):\n",
    "    for i in range(5,-1,-1):\n",
    "        print(lst[i],end=' ')\n",
    "    print(\"\")"
   ]
  },
  {
   "cell_type": "code",
   "execution_count": 28,
   "id": "68d4829b",
   "metadata": {},
   "outputs": [
    {
     "name": "stdout",
     "output_type": "stream",
     "text": [
      "Q C C\n",
      "옳다Q\n"
     ]
    }
   ],
   "source": [
    "lst = list(input().split())\n",
    "a = ord(lst[0])\n",
    "b = ord(lst[1])\n",
    "c = ord(lst[2])\n",
    "if a > b and a > c :\n",
    "    print(\"옳다{}\".format(lst[0]))\n",
    "else :\n",
    "    print(\"옳지않음\")"
   ]
  },
  {
   "cell_type": "code",
   "execution_count": 30,
   "id": "14a8bd41",
   "metadata": {},
   "outputs": [
    {
     "name": "stdout",
     "output_type": "stream",
     "text": [
      "c q\n",
      "14\n"
     ]
    }
   ],
   "source": [
    "ch1, ch2 = input().split()\n",
    "ch1_ascii = ord(ch1)\n",
    "ch2_ascii = ord(ch2)\n",
    "print(ord(ch2)-ord(ch1))"
   ]
  },
  {
   "cell_type": "code",
   "execution_count": 54,
   "id": "2d932f91",
   "metadata": {},
   "outputs": [
    {
     "name": "stdout",
     "output_type": "stream",
     "text": [
      "2\n",
      "98\n",
      "71\n",
      "34\n"
     ]
    }
   ],
   "source": [
    "lst = [3,5,2,4,1]\n",
    "arr = [[9,8],[7,1],[3,4]]\n",
    "a = int(input())\n",
    "if a % 2 == 0 :\n",
    "    for i in range(3):\n",
    "        for j in range(2):\n",
    "            print(arr[i][j],end='')\n",
    "        print(\"\")\n",
    "else :\n",
    "    print(*lst,sep='')"
   ]
  },
  {
   "cell_type": "code",
   "execution_count": 50,
   "id": "07dd7269",
   "metadata": {},
   "outputs": [
    {
     "name": "stdout",
     "output_type": "stream",
     "text": [
      "5 2\n",
      "고백한다\n"
     ]
    }
   ],
   "source": [
    "a, b = map(int,(input().split()))\n",
    "if a > b :\n",
    "    min = a - b\n",
    "else :\n",
    "    min = b -a\n",
    "if min % 2 == 0 :\n",
    "    print(\"짝사랑만\")\n",
    "else :\n",
    "    print(\"고백한다\")"
   ]
  },
  {
   "cell_type": "code",
   "execution_count": 52,
   "id": "9c61a193",
   "metadata": {},
   "outputs": [
    {
     "name": "stdout",
     "output_type": "stream",
     "text": [
      "311232"
     ]
    }
   ],
   "source": [
    "arr = [[3,1,1],[2,3,2]]\n",
    "for i in range(2):\n",
    "    for j in range(3):\n",
    "        print(arr[i][j],end='')"
   ]
  },
  {
   "cell_type": "code",
   "execution_count": 59,
   "id": "2386d0ec",
   "metadata": {},
   "outputs": [
    {
     "name": "stdout",
     "output_type": "stream",
     "text": [
      "1 2 3 4 5\n",
      "3\n"
     ]
    }
   ],
   "source": [
    "arr = list(map(int,input().split()))\n",
    "count = 0\n",
    "\n",
    "for i in range(5):\n",
    "    if arr[i] >= 3 and arr[i] <= 7 :\n",
    "        count+=1\n",
    "\n",
    "print(count)"
   ]
  },
  {
   "cell_type": "code",
   "execution_count": 61,
   "id": "a28f364e",
   "metadata": {},
   "outputs": [
    {
     "name": "stdout",
     "output_type": "stream",
     "text": [
      "96\n",
      "수\n"
     ]
    }
   ],
   "source": [
    "a = int(input())\n",
    "\n",
    "if a >= 80 :\n",
    "    print(\"수\")\n",
    "elif a >= 70 and a < 80 :\n",
    "    print(\"우\")\n",
    "elif a >= 60 and a < 70 :\n",
    "    print(\"미\")\n",
    "else :\n",
    "    print(\"재시도\")"
   ]
  },
  {
   "cell_type": "code",
   "execution_count": 65,
   "id": "aedf9a96",
   "metadata": {},
   "outputs": [
    {
     "name": "stdout",
     "output_type": "stream",
     "text": [
      "15 23 20 20\n",
      "더 큰 수를 입력하세요\n",
      "더 작은 수를 입력하세요\n",
      "정답입니다\n",
      "정답입니다\n"
     ]
    }
   ],
   "source": [
    "lst = list(map(int,input().split()))\n",
    "\n",
    "for i in range(4):\n",
    "    if lst[i] > 20 :\n",
    "        print(\"더 작은수를 입력하세요\")\n",
    "    elif lst[i] < 20 :\n",
    "        print(\"더 큰수를 입력하세요\")\n",
    "    elif lst[i] == 20 :\n",
    "        print(\"정답입니다\")"
   ]
  },
  {
   "cell_type": "code",
   "execution_count": 66,
   "id": "8b876297",
   "metadata": {},
   "outputs": [
    {
     "name": "stdout",
     "output_type": "stream",
     "text": [
      "5 3 3\n",
      "MAX=5\n",
      "MIN=3\n"
     ]
    }
   ],
   "source": [
    "a, b, c = map(int,input().split())\n",
    "if a > b and a > c :\n",
    "    MAX = a\n",
    "elif b > a and b > c :\n",
    "    MAX = b\n",
    "else :\n",
    "    MAX = c\n",
    "if a < b and a < c :\n",
    "    MIN = a\n",
    "elif b < a and b < c :\n",
    "    MIN = b\n",
    "else :\n",
    "    MIN = c\n",
    "print(\"MAX={}\".format(MAX))\n",
    "print(\"MIN={}\".format(MIN))"
   ]
  },
  {
   "cell_type": "code",
   "execution_count": 68,
   "id": "8b5ad733",
   "metadata": {},
   "outputs": [
    {
     "name": "stdout",
     "output_type": "stream",
     "text": [
      "짝수 : 4\n",
      "홀수 : 5\n"
     ]
    }
   ],
   "source": [
    "arr = [[3,4,1],[2,1,4],[3,3,0]]\n",
    "even = 0\n",
    "odd = 0\n",
    "for i in range(3):\n",
    "    for j in range(3):\n",
    "        if arr[i][j] % 2 == 0 :\n",
    "            even+=1\n",
    "        else :\n",
    "            odd+=1\n",
    "print(\"짝수 :\",even)\n",
    "print(\"홀수 :\",odd)"
   ]
  },
  {
   "cell_type": "code",
   "execution_count": 70,
   "id": "dbc6da5e",
   "metadata": {},
   "outputs": [
    {
     "name": "stdout",
     "output_type": "stream",
     "text": [
      "90 30 60 30 100\n",
      "1번사람은90점PASS\n",
      "2번사람은30점FAIL\n",
      "3번사람은60점FAIL\n",
      "4번사람은30점FAIL\n",
      "5번사람은100점PASS\n"
     ]
    }
   ],
   "source": [
    "lst = list(map(int,input().split()))\n",
    "\n",
    "for i in range(len(lst)):\n",
    "    if lst[i] >= 70 :\n",
    "        print(\"{}번사람은{}점PASS\".format(i+1,lst[i]))\n",
    "    elif lst[i] >= 50 and lst[i] < 70 :\n",
    "        print(\"{}번사람은{}점RETEST\".format(i+1,lst[i]))\n",
    "    else :\n",
    "        print(\"{}번사람은{}점FAIL\".format(i+1,lst[i]))"
   ]
  },
  {
   "cell_type": "code",
   "execution_count": null,
   "id": "1f214873",
   "metadata": {},
   "outputs": [],
   "source": []
  },
  {
   "cell_type": "code",
   "execution_count": null,
   "id": "b9d51658",
   "metadata": {},
   "outputs": [],
   "source": []
  },
  {
   "cell_type": "code",
   "execution_count": null,
   "id": "30ead9c3",
   "metadata": {},
   "outputs": [],
   "source": []
  },
  {
   "cell_type": "code",
   "execution_count": null,
   "id": "308a87dc",
   "metadata": {},
   "outputs": [],
   "source": []
  },
  {
   "cell_type": "code",
   "execution_count": null,
   "id": "2944a4fb",
   "metadata": {},
   "outputs": [],
   "source": []
  },
  {
   "cell_type": "code",
   "execution_count": null,
   "id": "91c2942c",
   "metadata": {},
   "outputs": [],
   "source": []
  },
  {
   "cell_type": "code",
   "execution_count": null,
   "id": "46a9dca4",
   "metadata": {},
   "outputs": [],
   "source": []
  }
 ],
 "metadata": {
  "kernelspec": {
   "display_name": "Python 3 (ipykernel)",
   "language": "python",
   "name": "python3"
  },
  "language_info": {
   "codemirror_mode": {
    "name": "ipython",
    "version": 3
   },
   "file_extension": ".py",
   "mimetype": "text/x-python",
   "name": "python",
   "nbconvert_exporter": "python",
   "pygments_lexer": "ipython3",
   "version": "3.9.13"
  }
 },
 "nbformat": 4,
 "nbformat_minor": 5
}
