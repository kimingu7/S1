{
 "cells": [
  {
   "cell_type": "code",
   "execution_count": 10,
   "id": "d591116d",
   "metadata": {},
   "outputs": [
    {
     "name": "stdout",
     "output_type": "stream",
     "text": [
      "a z\n",
      "abcdefghijklmnopqrstuvwxyz"
     ]
    }
   ],
   "source": [
    "a, b = input().split()\n",
    "\n",
    "if a.isupper() == True:\n",
    "    if b.isupper() == True:\n",
    "        print(\"대문자들\")\n",
    "    else :\n",
    "        print(\"대소문자\")\n",
    "elif a.islower() == True:\n",
    "    if b.isupper() == True:\n",
    "        print(\"대소문자\")\n",
    "    else :\n",
    "        for i in range(ord('a'),ord('z')+1):\n",
    "            print(chr(i),end='')"
   ]
  },
  {
   "cell_type": "code",
   "execution_count": 15,
   "id": "e77a15d7",
   "metadata": {},
   "outputs": [
    {
     "name": "stdout",
     "output_type": "stream",
     "text": [
      "B\n",
      "n\n"
     ]
    }
   ],
   "source": [
    "arr = [[0,0,0,0,0],[0,0,0,0,0],[0,0,0,0,0]]\n",
    "a = input()\n",
    "a_ascii = ord(a)\n",
    "for i in range(3):\n",
    "    for j in range(5):\n",
    "        arr[i][j] = chr(ord(a)+(i*5)+j)\n",
    "print(arr[2][2].lower())"
   ]
  },
  {
   "cell_type": "code",
   "execution_count": 20,
   "id": "f16b035f",
   "metadata": {},
   "outputs": [
    {
     "name": "stdout",
     "output_type": "stream",
     "text": [
      "a b c\n",
      "부족하다\n"
     ]
    }
   ],
   "source": [
    "char = list(input().split())\n",
    "count = 0\n",
    "for i in range(3):\n",
    "    if char[i].upper == True :\n",
    "        count+=1\n",
    "if count == 3 :\n",
    "    print(\"풍족하다\")\n",
    "elif count == 0 :\n",
    "    print(\"부족하다\")\n",
    "else :\n",
    "    print(\"적절하다\")"
   ]
  },
  {
   "cell_type": "code",
   "execution_count": 35,
   "id": "7bcae107",
   "metadata": {},
   "outputs": [
    {
     "name": "stdout",
     "output_type": "stream",
     "text": [
      "A B C\n",
      "0\n"
     ]
    }
   ],
   "source": [
    "char = list(input().split())\n",
    "count = 0\n",
    "for i in range(0, 3):\n",
    "    if char[i].isupper == True :\n",
    "        count+=1\n",
    "print(count)"
   ]
  },
  {
   "cell_type": "code",
   "execution_count": 26,
   "id": "934b550e",
   "metadata": {},
   "outputs": [
    {
     "name": "stdout",
     "output_type": "stream",
     "text": [
      "1 1\n",
      "0 0 0 0 \n",
      "0 1 0 0 \n"
     ]
    }
   ],
   "source": [
    "arr = [[0,0,0,0],[0,0,0,0]]\n",
    "x, y = map(int, input().split())\n",
    "arr[y][x] = 1\n",
    "for i in range(2):\n",
    "    for j in range(4):\n",
    "        print(arr[i][j],end=' ')\n",
    "    print(\"\")"
   ]
  },
  {
   "cell_type": "code",
   "execution_count": 41,
   "id": "1ae5fa0f",
   "metadata": {},
   "outputs": [
    {
     "name": "stdout",
     "output_type": "stream",
     "text": [
      "5\n",
      "3\n",
      "6\n",
      "1\n",
      "2\n",
      "3\n",
      "7 5 \n",
      "8 3 \n",
      "4 5 \n"
     ]
    }
   ],
   "source": [
    "arr = []\n",
    "\n",
    "for i in range(3):\n",
    "    lst = []\n",
    "    for j in range(2):\n",
    "        lst.append(int(input())+2)\n",
    "    arr.append(lst)\n",
    "for i in range(3):\n",
    "    for j in range(2):\n",
    "        print(arr[i][j],end=' ')\n",
    "    print(\"\")"
   ]
  },
  {
   "cell_type": "code",
   "execution_count": 44,
   "id": "7dd33322",
   "metadata": {},
   "outputs": [
    {
     "name": "stdout",
     "output_type": "stream",
     "text": [
      "3 4\n",
      "5 6 7 "
     ]
    }
   ],
   "source": [
    "a, b = map(int, input().split())\n",
    "sum = a + b\n",
    "i = 5\n",
    "while i <= sum :\n",
    "    print(i,end=' ')\n",
    "    i+=1"
   ]
  },
  {
   "cell_type": "code",
   "execution_count": 51,
   "id": "a5fd5029",
   "metadata": {},
   "outputs": [
    {
     "name": "stdout",
     "output_type": "stream",
     "text": [
      "1 2 7 4 9 6\n",
      "6 9 4 7 "
     ]
    }
   ],
   "source": [
    "lst = list(map(int, input().split()))\n",
    "for i in range(5,-1,-1):\n",
    "    print(lst[i],end=' ')\n",
    "    if lst[i] == 7:\n",
    "        break"
   ]
  },
  {
   "cell_type": "code",
   "execution_count": 55,
   "id": "7dfcde9a",
   "metadata": {},
   "outputs": [
    {
     "name": "stdout",
     "output_type": "stream",
     "text": [
      "3 4 1 6 7 5 "
     ]
    }
   ],
   "source": [
    "lst = [3,4,1,6,7,5]\n",
    "i = 0\n",
    "while i < len(lst):\n",
    "    print(lst[i],end=' ')\n",
    "    i+=1"
   ]
  },
  {
   "cell_type": "code",
   "execution_count": 62,
   "id": "831d278d",
   "metadata": {},
   "outputs": [
    {
     "name": "stdout",
     "output_type": "stream",
     "text": [
      "2\n",
      "3 4 5 6 \n",
      "7 8 9 10 \n",
      "11 12 13 14 \n"
     ]
    }
   ],
   "source": [
    "arr = [[0]*4]*3\n",
    "a = int(input())\n",
    "for i in range(3):\n",
    "    for j in range(4):\n",
    "        arr[i][j] = a + (i*4) + j + 1\n",
    "        print(arr[i][j],end=\" \")\n",
    "    print(\"\")"
   ]
  },
  {
   "cell_type": "code",
   "execution_count": null,
   "id": "753828ce",
   "metadata": {},
   "outputs": [],
   "source": []
  },
  {
   "cell_type": "code",
   "execution_count": null,
   "id": "c9cad8d6",
   "metadata": {},
   "outputs": [],
   "source": []
  },
  {
   "cell_type": "code",
   "execution_count": null,
   "id": "33e598fd",
   "metadata": {},
   "outputs": [],
   "source": []
  },
  {
   "cell_type": "code",
   "execution_count": null,
   "id": "ae9db91f",
   "metadata": {},
   "outputs": [],
   "source": []
  },
  {
   "cell_type": "code",
   "execution_count": null,
   "id": "31d56de6",
   "metadata": {},
   "outputs": [],
   "source": []
  },
  {
   "cell_type": "code",
   "execution_count": null,
   "id": "ecc509e4",
   "metadata": {},
   "outputs": [],
   "source": []
  },
  {
   "cell_type": "code",
   "execution_count": null,
   "id": "1796d3df",
   "metadata": {},
   "outputs": [],
   "source": []
  },
  {
   "cell_type": "code",
   "execution_count": null,
   "id": "be07c107",
   "metadata": {},
   "outputs": [],
   "source": []
  },
  {
   "cell_type": "code",
   "execution_count": null,
   "id": "8e7380f2",
   "metadata": {},
   "outputs": [],
   "source": []
  },
  {
   "cell_type": "code",
   "execution_count": null,
   "id": "a28a650a",
   "metadata": {},
   "outputs": [],
   "source": []
  },
  {
   "cell_type": "code",
   "execution_count": null,
   "id": "b3750fa5",
   "metadata": {},
   "outputs": [],
   "source": []
  },
  {
   "cell_type": "code",
   "execution_count": null,
   "id": "69cea8e5",
   "metadata": {},
   "outputs": [],
   "source": []
  },
  {
   "cell_type": "code",
   "execution_count": null,
   "id": "4198b7f9",
   "metadata": {},
   "outputs": [],
   "source": []
  },
  {
   "cell_type": "code",
   "execution_count": null,
   "id": "da5153c7",
   "metadata": {},
   "outputs": [],
   "source": []
  },
  {
   "cell_type": "code",
   "execution_count": null,
   "id": "786a7c00",
   "metadata": {},
   "outputs": [],
   "source": []
  },
  {
   "cell_type": "code",
   "execution_count": null,
   "id": "3b5204ed",
   "metadata": {},
   "outputs": [],
   "source": []
  },
  {
   "cell_type": "code",
   "execution_count": null,
   "id": "b09aa918",
   "metadata": {},
   "outputs": [],
   "source": []
  },
  {
   "cell_type": "code",
   "execution_count": null,
   "id": "c2f08ffa",
   "metadata": {},
   "outputs": [],
   "source": []
  },
  {
   "cell_type": "code",
   "execution_count": null,
   "id": "76cb1e61",
   "metadata": {},
   "outputs": [],
   "source": []
  },
  {
   "cell_type": "code",
   "execution_count": null,
   "id": "944d7d58",
   "metadata": {},
   "outputs": [],
   "source": []
  },
  {
   "cell_type": "code",
   "execution_count": null,
   "id": "e1f0ed2e",
   "metadata": {},
   "outputs": [],
   "source": []
  },
  {
   "cell_type": "code",
   "execution_count": null,
   "id": "9c28c256",
   "metadata": {},
   "outputs": [],
   "source": []
  },
  {
   "cell_type": "code",
   "execution_count": null,
   "id": "27ae5bde",
   "metadata": {},
   "outputs": [],
   "source": []
  }
 ],
 "metadata": {
  "kernelspec": {
   "display_name": "Python 3 (ipykernel)",
   "language": "python",
   "name": "python3"
  },
  "language_info": {
   "codemirror_mode": {
    "name": "ipython",
    "version": 3
   },
   "file_extension": ".py",
   "mimetype": "text/x-python",
   "name": "python",
   "nbconvert_exporter": "python",
   "pygments_lexer": "ipython3",
   "version": "3.9.13"
  }
 },
 "nbformat": 4,
 "nbformat_minor": 5
}
