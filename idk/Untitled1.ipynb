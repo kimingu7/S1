{
 "cells": [
  {
   "cell_type": "code",
   "execution_count": 6,
   "id": "49927f3d",
   "metadata": {},
   "outputs": [
    {
     "name": "stdout",
     "output_type": "stream",
     "text": [
      "6 2 5\n",
      "600\n"
     ]
    }
   ],
   "source": [
    "dice = list(map(int, input().split()))\n",
    "if dice[0] == dice[1] and dice[0] == dice[2]:\n",
    "    money = 10000 + (dice[0] * 1000)\n",
    "elif dice[0] == dice[1] and dice[0] != dice[2]:\n",
    "    money = 1000 + (dice[0] * 100)\n",
    "elif dice[0] == dice[2] and dice[0] != dice[1]:\n",
    "    money = 1000 + (dice[0] * 100)\n",
    "elif dice[1] == dice[2] and dice[0] != dice[1]:\n",
    "    money = 1000 + (dice[1] * 100)\n",
    "else :\n",
    "    money = max(dice) * 100\n",
    "print(money)"
   ]
  },
  {
   "cell_type": "code",
   "execution_count": 7,
   "id": "b4ab7c90",
   "metadata": {},
   "outputs": [
    {
     "name": "stdout",
     "output_type": "stream",
     "text": [
      "2\n",
      "2 * 1 = 2\n",
      "2 * 2 = 4\n",
      "2 * 3 = 6\n",
      "2 * 4 = 8\n",
      "2 * 5 = 10\n",
      "2 * 6 = 12\n",
      "2 * 7 = 14\n",
      "2 * 8 = 16\n",
      "2 * 9 = 18\n"
     ]
    }
   ],
   "source": [
    "N = int(input())\n",
    "for i in range(1,10):\n",
    "    print(f'{N} * {i} = {N*i}')"
   ]
  },
  {
   "cell_type": "code",
   "execution_count": 10,
   "id": "d4e8212c",
   "metadata": {},
   "outputs": [
    {
     "name": "stdout",
     "output_type": "stream",
     "text": [
      "5\n",
      "1 1\n",
      "2 3\n",
      "3 4\n",
      "9 8\n",
      "5 2\n",
      "2\n",
      "5\n",
      "7\n",
      "17\n",
      "7\n"
     ]
    }
   ],
   "source": [
    "N = int(input())\n",
    "Test_case = [[0 for _ in range(2)] for _ in range(N)]\n",
    "for i in range(N):\n",
    "    Test_case[i] = list(map(int, input().split()))\n",
    "for i in range(N):\n",
    "    print(Test_case[i][0] + Test_case[i][1])"
   ]
  },
  {
   "cell_type": "code",
   "execution_count": 12,
   "id": "ff36ca8b",
   "metadata": {},
   "outputs": [
    {
     "name": "stdout",
     "output_type": "stream",
     "text": [
      "3\n",
      "6\n"
     ]
    }
   ],
   "source": [
    "N = int(input())\n",
    "sum_N = 0\n",
    "for i in range(1,N+1):\n",
    "    sum_N = sum_N + i\n",
    "print(sum_N)"
   ]
  },
  {
   "cell_type": "code",
   "execution_count": 14,
   "id": "dfeb7b87",
   "metadata": {},
   "outputs": [
    {
     "name": "stdout",
     "output_type": "stream",
     "text": [
      "260000\n",
      "4\n",
      "20000 5\n",
      "30000 2\n",
      "10000 6\n",
      "5000 8\n",
      "Yes\n"
     ]
    }
   ],
   "source": [
    "total_price = int(input())\n",
    "N = int(input())\n",
    "prices = [[0 for _ in range(2)] for _ in range(N)]\n",
    "sum_price = 0\n",
    "for i in range(N):\n",
    "    prices[i] = list(map(int, input().split()))\n",
    "for i in range(N):\n",
    "    sum_price = sum_price + (prices[i][0] * prices[i][1])\n",
    "if total_price == sum_price:\n",
    "    print('Yes')\n",
    "else :\n",
    "    print('No')"
   ]
  },
  {
   "cell_type": "code",
   "execution_count": 16,
   "id": "41695e15",
   "metadata": {},
   "outputs": [
    {
     "name": "stdout",
     "output_type": "stream",
     "text": [
      "5\n",
      "1 1\n",
      "2 2\n",
      "3 3\n",
      "4 4\n",
      "5 5\n",
      "2\n",
      "4\n",
      "6\n",
      "8\n",
      "10\n"
     ]
    }
   ],
   "source": [
    "T = int(input())\n",
    "Test_case = [[0 for _ in range(2)] for _ in range(T)]\n",
    "for i in range(T):\n",
    "    Test_case[i] = list(map(int, input().split()))\n",
    "for i in range(T):\n",
    "    print(Test_case[i][0] + Test_case[i][1])"
   ]
  },
  {
   "cell_type": "code",
   "execution_count": 20,
   "id": "9ec8b9af",
   "metadata": {},
   "outputs": [
    {
     "name": "stdout",
     "output_type": "stream",
     "text": [
      "5\n",
      "1 1\n",
      "2 3\n",
      "3 4\n",
      "9 8\n",
      "5 2\n",
      "Case #1: 1 + 1 = 2\n",
      "Case #2: 2 + 3 = 5\n",
      "Case #3: 3 + 4 = 7\n",
      "Case #4: 9 + 8 = 17\n",
      "Case #5: 5 + 2 = 7\n"
     ]
    }
   ],
   "source": [
    "T = int(input())\n",
    "Test_case = [[0 for _ in range(2)] for _ in range(T)]\n",
    "for i in range(T):\n",
    "    Test_case[i] = list(map(int, input().split()))\n",
    "for i in range(T):\n",
    "    sum_case = Test_case[i][0] + Test_case[i][1]\n",
    "    print(f'Case #{i+1}: {Test_case[i][0]} + {Test_case[i][1]} = {sum_case}')"
   ]
  },
  {
   "cell_type": "code",
   "execution_count": 28,
   "id": "212e622f",
   "metadata": {},
   "outputs": [
    {
     "name": "stdout",
     "output_type": "stream",
     "text": [
      "5\n",
      "*\n",
      "**\n",
      "***\n",
      "****\n",
      "*****\n"
     ]
    }
   ],
   "source": [
    "N = int(input())\n",
    "for i in range(N):\n",
    "    print('*'*(i+1))"
   ]
  },
  {
   "cell_type": "code",
   "execution_count": 32,
   "id": "d13f5b98",
   "metadata": {},
   "outputs": [
    {
     "name": "stdout",
     "output_type": "stream",
     "text": [
      "5\n",
      "     *\n",
      "    **\n",
      "   ***\n",
      "  ****\n",
      " *****\n"
     ]
    }
   ],
   "source": [
    "N = int(input())\n",
    "for i in range(N):\n",
    "    print(' '*(4-i),'*'*(i+1))"
   ]
  },
  {
   "cell_type": "code",
   "execution_count": 41,
   "id": "e985edfd",
   "metadata": {},
   "outputs": [
    {
     "name": "stdout",
     "output_type": "stream",
     "text": [
      "5\n",
      "0000*\n",
      "000**\n",
      "00***\n",
      "0****\n",
      "*****\n"
     ]
    }
   ],
   "source": [
    "N = int(input())\n",
    "lst_ = [['*' for _ in range(N)] for _ in range(N)]\n",
    "for i in range(N):\n",
    "    for j in range(N-i-1):\n",
    "        lst_[i][j] = 0\n",
    "for i in range(N):\n",
    "    for j in rang\n",
    "for i in lst_:\n",
    "    print(*i,sep = '')"
   ]
  },
  {
   "cell_type": "code",
   "execution_count": null,
   "id": "57ade9c2",
   "metadata": {},
   "outputs": [],
   "source": []
  },
  {
   "cell_type": "code",
   "execution_count": null,
   "id": "064f11ba",
   "metadata": {},
   "outputs": [],
   "source": []
  },
  {
   "cell_type": "code",
   "execution_count": null,
   "id": "96eec612",
   "metadata": {},
   "outputs": [],
   "source": []
  },
  {
   "cell_type": "code",
   "execution_count": null,
   "id": "06048878",
   "metadata": {},
   "outputs": [],
   "source": []
  },
  {
   "cell_type": "code",
   "execution_count": null,
   "id": "3d9d6e44",
   "metadata": {},
   "outputs": [],
   "source": []
  },
  {
   "cell_type": "code",
   "execution_count": null,
   "id": "35e65620",
   "metadata": {},
   "outputs": [],
   "source": []
  },
  {
   "cell_type": "code",
   "execution_count": null,
   "id": "c8fdcf71",
   "metadata": {},
   "outputs": [],
   "source": []
  }
 ],
 "metadata": {
  "kernelspec": {
   "display_name": "Python 3 (ipykernel)",
   "language": "python",
   "name": "python3"
  },
  "language_info": {
   "codemirror_mode": {
    "name": "ipython",
    "version": 3
   },
   "file_extension": ".py",
   "mimetype": "text/x-python",
   "name": "python",
   "nbconvert_exporter": "python",
   "pygments_lexer": "ipython3",
   "version": "3.9.13"
  }
 },
 "nbformat": 4,
 "nbformat_minor": 5
}
