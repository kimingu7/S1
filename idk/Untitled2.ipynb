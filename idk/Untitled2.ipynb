{
 "cells": [
  {
   "cell_type": "code",
   "execution_count": 2,
   "id": "5a7b788e",
   "metadata": {},
   "outputs": [
    {
     "name": "stdout",
     "output_type": "stream",
     "text": [
      "11\n",
      "1 4 1 2 4 2 4 2 3 4 4\n",
      "2\n",
      "3\n"
     ]
    }
   ],
   "source": [
    "N = int(input())\n",
    "n_list = list(map(int, input().split()))\n",
    "v = int(input())\n",
    "cnt = 0\n",
    "for i in range(N):\n",
    "    if n_list[i] == v:\n",
    "        cnt+=1\n",
    "print(cnt)"
   ]
  },
  {
   "cell_type": "code",
   "execution_count": 5,
   "id": "f1907c8e",
   "metadata": {},
   "outputs": [
    {
     "name": "stdout",
     "output_type": "stream",
     "text": [
      "10 5\n",
      "1 10 4 9 2 3 8 5 7 6\n",
      "1 4 2 3\n"
     ]
    }
   ],
   "source": [
    "N, X = map(int,input().split())\n",
    "A = list(map(int, input().split()))\n",
    "B = [0 for _ in range(len(A))]\n",
    "for i in range(len(A)):\n",
    "    if A[i] < X:\n",
    "        B[i] = A[i]\n",
    "while 0 in B:\n",
    "    B.remove(0)\n",
    "print(*B)"
   ]
  },
  {
   "cell_type": "code",
   "execution_count": 6,
   "id": "ca2ccdc4",
   "metadata": {},
   "outputs": [
    {
     "name": "stdout",
     "output_type": "stream",
     "text": [
      "5\n",
      "20 10 35 30 7\n",
      "7 35\n"
     ]
    }
   ],
   "source": [
    "N = int(input())\n",
    "N_list = list(map(int, input().split()))\n",
    "print(min(N_list), max(N_list))"
   ]
  },
  {
   "cell_type": "code",
   "execution_count": 22,
   "id": "d407d0ef",
   "metadata": {},
   "outputs": [
    {
     "name": "stdout",
     "output_type": "stream",
     "text": [
      "1\n",
      "2\n",
      "3\n",
      "4\n",
      "5\n",
      "6\n",
      "7\n",
      "8\n",
      "9\n",
      "10\n",
      "[1, 2, 3, 4, 5, 6, 7, 8, 9, 10]\n",
      "10\n"
     ]
    }
   ],
   "source": [
    "N_list = [[0 for _ in range(1)] for _ in range(10)]\n",
    "for i in range(10):\n",
    "    N_list[i] = int(input())\n",
    "for i in range(10):\n",
    "    N_list[i] = N_list[i] % 42\n",
    "N_list = list(set(N_list))\n",
    "print(len(N_list))"
   ]
  },
  {
   "cell_type": "code",
   "execution_count": 26,
   "id": "fdd09147",
   "metadata": {},
   "outputs": [
    {
     "name": "stdout",
     "output_type": "stream",
     "text": [
      "3\n",
      "40 80 60\n",
      "75.0\n"
     ]
    }
   ],
   "source": [
    "N = int(input())\n",
    "score = list(map(int, input().split()))\n",
    "M = max(score)\n",
    "sum_score = 0\n",
    "for i in range(len(score)):\n",
    "    score[i] = (score[i] / M) * 100\n",
    "    sum_score = sum_score + score[i]\n",
    "print(sum_score/N)"
   ]
  },
  {
   "cell_type": "code",
   "execution_count": 37,
   "id": "1a20268a",
   "metadata": {},
   "outputs": [
    {
     "name": "stdout",
     "output_type": "stream",
     "text": [
      "3\n",
      "OOOO\n",
      "XOOX\n",
      "OOOX\n",
      "10\n",
      "3\n",
      "6\n"
     ]
    }
   ],
   "source": [
    "T = int(input())\n",
    "Test_case = [[0 for _ in range(80)] for _ in range(T)]\n",
    "for i in range(T):\n",
    "    Test_case[i] = list(input())\n",
    "for i in range(T):\n",
    "    score = 0\n",
    "    cnt = 0\n",
    "    for j in range(len(Test_case[i])):\n",
    "        if Test_case[i][j] == 'O':\n",
    "            cnt+=1\n",
    "            score = score + cnt\n",
    "        elif Test_case[i][j] == 'X':\n",
    "            cnt = 0\n",
    "    print(score)"
   ]
  },
  {
   "cell_type": "code",
   "execution_count": 54,
   "id": "0bd27105",
   "metadata": {},
   "outputs": [
    {
     "name": "stdout",
     "output_type": "stream",
     "text": [
      "5\n",
      "5 50 50 70 80 100\n",
      "7 100 95 90 80 70 60 50\n",
      "3 70 90 80\n",
      "3 70 90 81\n",
      "9 100 99 98 97 96 95 94 93 91\n",
      "40.000%\n",
      "57.143%\n",
      "33.333%\n",
      "66.667%\n",
      "55.556%\n"
     ]
    }
   ],
   "source": [
    "C = int(input())\n",
    "lst = [[0 for _ in range(1000)] for _ in range(C)]\n",
    "for i in range(C):\n",
    "    lst[i] = list(map(int,input().split()))\n",
    "for i in range(C):\n",
    "    sum_lst = 0\n",
    "    cnt_over_avg = 0\n",
    "    for j in range(1,len(lst[i])):\n",
    "        sum_lst = sum_lst + lst[i][j]\n",
    "    avg_lst = sum_lst / lst[i][0]\n",
    "    for j in range(1,len(lst[i])):\n",
    "        if lst[i][j] > avg_lst:\n",
    "            cnt_over_avg+=1\n",
    "    cnt_per = cnt_over_avg/lst[i][0]*100\n",
    "    print(f'{cnt_per:.3f}%')"
   ]
  },
  {
   "cell_type": "code",
   "execution_count": 56,
   "id": "0a0cab68",
   "metadata": {},
   "outputs": [
    {
     "name": "stdout",
     "output_type": "stream",
     "text": [
      "0\n",
      "48\n"
     ]
    }
   ],
   "source": [
    "char = input()\n",
    "print(ord(char))"
   ]
  },
  {
   "cell_type": "code",
   "execution_count": 58,
   "id": "9a213e11",
   "metadata": {},
   "outputs": [
    {
     "name": "stdout",
     "output_type": "stream",
     "text": [
      "5\n",
      "54321\n",
      "15\n"
     ]
    }
   ],
   "source": [
    "N = int(input())\n",
    "lst = list(map(int,input()))\n",
    "sum_lst = 0\n",
    "for i in range(N):\n",
    "    sum_lst = lst[i] + sum_lst\n",
    "print(sum_lst)"
   ]
  },
  {
   "cell_type": "code",
   "execution_count": 63,
   "id": "c03161b8",
   "metadata": {},
   "outputs": [
    {
     "name": "stdout",
     "output_type": "stream",
     "text": [
      "baekjoon\n",
      "1\n",
      "0\n",
      "-1\n",
      "-1\n",
      "2\n",
      "-1\n",
      "-1\n",
      "-1\n",
      "-1\n",
      "4\n",
      "3\n",
      "-1\n",
      "-1\n",
      "7\n",
      "5\n",
      "-1\n",
      "-1\n",
      "-1\n",
      "-1\n",
      "-1\n",
      "-1\n",
      "-1\n",
      "-1\n",
      "-1\n",
      "-1\n",
      "-1\n"
     ]
    }
   ],
   "source": [
    "S = input()\n",
    "apb = list(range(97,123))\n",
    "for i in apb :\n",
    "    print(S.find(chr(i))) "
   ]
  },
  {
   "cell_type": "code",
   "execution_count": 70,
   "id": "8429b92e",
   "metadata": {},
   "outputs": [
    {
     "name": "stdout",
     "output_type": "stream",
     "text": [
      "2\n",
      "3 ABC\n",
      "AAABBBCCC\n",
      "5 /HTP\n",
      "/////HHHHHTTTTTPPPPP\n"
     ]
    }
   ],
   "source": [
    "T = int(input())\n",
    "for i in range(T):\n",
    "    R, S = input().split()\n",
    "    text = ''\n",
    "    for i in S:\n",
    "        text += int(R) * i\n",
    "    print(text)"
   ]
  },
  {
   "cell_type": "code",
   "execution_count": 73,
   "id": "cd6fcda4",
   "metadata": {},
   "outputs": [
    {
     "name": "stdout",
     "output_type": "stream",
     "text": [
      "zZa\n",
      "Z\n"
     ]
    }
   ],
   "source": [
    "word = input().upper()\n",
    "apb = list(set(word))\n",
    "cnt_list = []\n",
    "for i in apb :\n",
    "    cnt = word.count(i)\n",
    "    cnt_list.append(cnt)\n",
    "if cnt_list.count(max(cnt_list)) > 1 :\n",
    "    print('?')\n",
    "else :\n",
    "    max_index = cnt_list.index(max(cnt_list))\n",
    "    print(apb[max_index])"
   ]
  },
  {
   "cell_type": "code",
   "execution_count": null,
   "id": "d95a5fc5",
   "metadata": {},
   "outputs": [],
   "source": []
  },
  {
   "cell_type": "code",
   "execution_count": null,
   "id": "e7fefaf9",
   "metadata": {},
   "outputs": [],
   "source": []
  },
  {
   "cell_type": "code",
   "execution_count": null,
   "id": "41793d74",
   "metadata": {},
   "outputs": [],
   "source": []
  },
  {
   "cell_type": "code",
   "execution_count": null,
   "id": "c7a05526",
   "metadata": {},
   "outputs": [],
   "source": []
  },
  {
   "cell_type": "code",
   "execution_count": null,
   "id": "abed2a82",
   "metadata": {},
   "outputs": [],
   "source": []
  },
  {
   "cell_type": "code",
   "execution_count": null,
   "id": "2576f22a",
   "metadata": {},
   "outputs": [],
   "source": []
  },
  {
   "cell_type": "code",
   "execution_count": null,
   "id": "082f31ac",
   "metadata": {},
   "outputs": [],
   "source": []
  },
  {
   "cell_type": "code",
   "execution_count": null,
   "id": "a7245309",
   "metadata": {},
   "outputs": [],
   "source": []
  },
  {
   "cell_type": "code",
   "execution_count": null,
   "id": "5e0388e9",
   "metadata": {},
   "outputs": [],
   "source": []
  },
  {
   "cell_type": "code",
   "execution_count": null,
   "id": "16e1d082",
   "metadata": {},
   "outputs": [],
   "source": []
  },
  {
   "cell_type": "code",
   "execution_count": null,
   "id": "8df8b115",
   "metadata": {},
   "outputs": [],
   "source": []
  },
  {
   "cell_type": "code",
   "execution_count": null,
   "id": "66d5410e",
   "metadata": {},
   "outputs": [],
   "source": []
  },
  {
   "cell_type": "code",
   "execution_count": null,
   "id": "43a0339f",
   "metadata": {},
   "outputs": [],
   "source": []
  }
 ],
 "metadata": {
  "kernelspec": {
   "display_name": "Python 3 (ipykernel)",
   "language": "python",
   "name": "python3"
  },
  "language_info": {
   "codemirror_mode": {
    "name": "ipython",
    "version": 3
   },
   "file_extension": ".py",
   "mimetype": "text/x-python",
   "name": "python",
   "nbconvert_exporter": "python",
   "pygments_lexer": "ipython3",
   "version": "3.9.13"
  }
 },
 "nbformat": 4,
 "nbformat_minor": 5
}
