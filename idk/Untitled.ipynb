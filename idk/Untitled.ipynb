{
 "cells": [
  {
   "cell_type": "code",
   "execution_count": null,
   "id": "c47c4b9e",
   "metadata": {},
   "outputs": [],
   "source": [
    "a, b = map(int, input().split())\n",
    "\n",
    "print(a+b)\n",
    "print(a-b)\n",
    "print(a*b)\n",
    "print(int(a/b))\n",
    "print(a%b)"
   ]
  },
  {
   "cell_type": "code",
   "execution_count": 4,
   "id": "1f929468",
   "metadata": {},
   "outputs": [
    {
     "name": "stdout",
     "output_type": "stream",
     "text": [
      "joonsa\n",
      "joonsa??!\n"
     ]
    }
   ],
   "source": [
    "id_ = input()\n",
    "print(f'{id_}??!')"
   ]
  },
  {
   "cell_type": "code",
   "execution_count": 5,
   "id": "5d0e20c7",
   "metadata": {},
   "outputs": [
    {
     "name": "stdout",
     "output_type": "stream",
     "text": [
      "2541\n",
      "1998\n"
     ]
    }
   ],
   "source": [
    "y = int(input())\n",
    "y_AC = y-543\n",
    "print(y_AC)"
   ]
  },
  {
   "cell_type": "code",
   "execution_count": 6,
   "id": "19b4037c",
   "metadata": {},
   "outputs": [
    {
     "name": "stdout",
     "output_type": "stream",
     "text": [
      "0 1 2 2 2 7\n",
      "1 0 0 0 0 1\n"
     ]
    }
   ],
   "source": [
    "chess = [1,1,2,2,2,8]\n",
    "chess_donghyeok = list(map(int, input().split()))\n",
    "chess_need = [0 for _ in range(len(chess))]\n",
    "for i in range(len(chess)):\n",
    "    chess_need[i] = chess[i] - chess_donghyeok[i]\n",
    "print(*chess_need)"
   ]
  },
  {
   "cell_type": "code",
   "execution_count": 11,
   "id": "964620aa",
   "metadata": {},
   "outputs": [
    {
     "name": "stdout",
     "output_type": "stream",
     "text": [
      "5 8 4\n",
      "1\n",
      "1\n",
      "0\n",
      "0\n"
     ]
    }
   ],
   "source": [
    "a, b, c = map(int, input().split())\n",
    "print((a+b)%c)\n",
    "print(((a%c)+(b%c))%c)\n",
    "print((a*b)%c)\n",
    "print(((a%c)*(b%c))%c)"
   ]
  },
  {
   "cell_type": "code",
   "execution_count": 27,
   "id": "2e6bb492",
   "metadata": {},
   "outputs": [
    {
     "name": "stdout",
     "output_type": "stream",
     "text": [
      "472\n",
      "385\n",
      "2360\n",
      "3776\n",
      "1416\n",
      "181720\n"
     ]
    }
   ],
   "source": [
    "num = int(input())\n",
    "lst = list(map(int,input()))\n",
    "lst_1 = [0 for _ in range(3)]\n",
    "pd_numlst = 0\n",
    "for i in range(len(lst_1)-1,-1,-1):\n",
    "    lst_1[i] = lst[i]*num\n",
    "    print(lst_1[i])\n",
    "for i in range(len(lst_1)-1,-1,-1):\n",
    "    pd_numlst = pd_numlst + lst_1[i]*(10**(len(lst_1)-i-1))\n",
    "print(pd_numlst)"
   ]
  },
  {
   "cell_type": "code",
   "execution_count": 28,
   "id": "1254f79a",
   "metadata": {},
   "outputs": [
    {
     "name": "stdout",
     "output_type": "stream",
     "text": [
      "1 2\n",
      "<\n"
     ]
    }
   ],
   "source": [
    "A, B = map(int,input().split())\n",
    "if A > B:\n",
    "    print('>')\n",
    "elif A < B:\n",
    "    print('<')\n",
    "else :\n",
    "    print('==')"
   ]
  },
  {
   "cell_type": "code",
   "execution_count": null,
   "id": "b8e1bc69",
   "metadata": {},
   "outputs": [],
   "source": [
    "score = int(input())\n",
    "if score >= 90:\n",
    "    print('A')\n",
    "elif score >= 80 and score < 90:\n",
    "    print('B')\n",
    "elif score >= 70 and score < 80:\n",
    "    print('C')\n",
    "elif score >= 60 and score < 70:\n",
    "    print('D')\n",
    "else :\n",
    "    print('F')"
   ]
  },
  {
   "cell_type": "code",
   "execution_count": 31,
   "id": "1bcc9b29",
   "metadata": {},
   "outputs": [
    {
     "name": "stdout",
     "output_type": "stream",
     "text": [
      "1999\n",
      "0\n"
     ]
    }
   ],
   "source": [
    "year = int(input())\n",
    "if year % 400 == 0:\n",
    "    print('1')\n",
    "else:\n",
    "    if year % 100 == 0:\n",
    "        print('0')\n",
    "    else :\n",
    "        if year % 4 == 0:\n",
    "            print('1')\n",
    "        else :\n",
    "            print('0')"
   ]
  },
  {
   "cell_type": "code",
   "execution_count": 35,
   "id": "982ac29e",
   "metadata": {},
   "outputs": [
    {
     "name": "stdout",
     "output_type": "stream",
     "text": [
      "-3\n",
      "2\n",
      "3\n"
     ]
    }
   ],
   "source": [
    "x = int(input())\n",
    "y = int(input())\n",
    "if x > 0:\n",
    "    if y > 0:\n",
    "        print('1')\n",
    "    elif y < 0:\n",
    "        print('4')\n",
    "elif x < 0:\n",
    "    if y > 0:\n",
    "        print('2')\n",
    "    elif y < 0:\n",
    "        print('3')"
   ]
  },
  {
   "cell_type": "code",
   "execution_count": 40,
   "id": "89d935d3",
   "metadata": {},
   "outputs": [
    {
     "name": "stdout",
     "output_type": "stream",
     "text": [
      "23 40\n",
      "22 55\n"
     ]
    }
   ],
   "source": [
    "H, M = map(int, input().split())\n",
    "if M - 45 < 0:\n",
    "    if H - 1 < 0:\n",
    "        H = H + 23\n",
    "        M = M + 15\n",
    "    else :\n",
    "        H = H - 1\n",
    "        M = M + 15\n",
    "else :\n",
    "    M = M - 45\n",
    "print(H, M)"
   ]
  },
  {
   "cell_type": "code",
   "execution_count": 75,
   "id": "cea8564e",
   "metadata": {},
   "outputs": [
    {
     "name": "stdout",
     "output_type": "stream",
     "text": [
      "30\n",
      "135\n",
      "45\n"
     ]
    }
   ],
   "source": [
    "H, M = map(int, input().split())\n",
    "oven = int(input())\n",
    "H = \n",
    "M = M + (oven % 60)\n",
    "print(H, M)"
   ]
  },
  {
   "cell_type": "code",
   "execution_count": null,
   "id": "20350217",
   "metadata": {},
   "outputs": [],
   "source": [
    "H, M = map(int, input().split())\n",
    "oven = int(input())\n",
    "M = M + (oven % 60)\n",
    "print(M)"
   ]
  },
  {
   "cell_type": "code",
   "execution_count": 82,
   "id": "4dbdac2f",
   "metadata": {},
   "outputs": [
    {
     "name": "stdout",
     "output_type": "stream",
     "text": [
      "30\n",
      "150\n",
      "-120\n"
     ]
    }
   ],
   "source": [
    "M = int(input())\n",
    "oven = int(input())\n",
    "M = M + (oven % 60)\n",
    "print(M)"
   ]
  },
  {
   "cell_type": "code",
   "execution_count": null,
   "id": "951f1e81",
   "metadata": {},
   "outputs": [],
   "source": []
  },
  {
   "cell_type": "code",
   "execution_count": null,
   "id": "c87a33da",
   "metadata": {},
   "outputs": [],
   "source": []
  },
  {
   "cell_type": "code",
   "execution_count": null,
   "id": "b208a672",
   "metadata": {},
   "outputs": [],
   "source": []
  },
  {
   "cell_type": "code",
   "execution_count": null,
   "id": "e8b48aff",
   "metadata": {},
   "outputs": [],
   "source": []
  },
  {
   "cell_type": "code",
   "execution_count": null,
   "id": "992dd254",
   "metadata": {},
   "outputs": [],
   "source": []
  },
  {
   "cell_type": "code",
   "execution_count": null,
   "id": "011eaabf",
   "metadata": {},
   "outputs": [],
   "source": []
  },
  {
   "cell_type": "code",
   "execution_count": null,
   "id": "4900a5b8",
   "metadata": {},
   "outputs": [],
   "source": []
  },
  {
   "cell_type": "code",
   "execution_count": null,
   "id": "b418f75c",
   "metadata": {},
   "outputs": [],
   "source": []
  },
  {
   "cell_type": "code",
   "execution_count": null,
   "id": "61d40113",
   "metadata": {},
   "outputs": [],
   "source": []
  },
  {
   "cell_type": "code",
   "execution_count": null,
   "id": "c91c6b4f",
   "metadata": {},
   "outputs": [],
   "source": []
  },
  {
   "cell_type": "code",
   "execution_count": null,
   "id": "886cdc8b",
   "metadata": {},
   "outputs": [],
   "source": []
  },
  {
   "cell_type": "code",
   "execution_count": null,
   "id": "63690eb1",
   "metadata": {},
   "outputs": [],
   "source": []
  },
  {
   "cell_type": "code",
   "execution_count": null,
   "id": "669271f2",
   "metadata": {},
   "outputs": [],
   "source": []
  }
 ],
 "metadata": {
  "kernelspec": {
   "display_name": "Python 3 (ipykernel)",
   "language": "python",
   "name": "python3"
  },
  "language_info": {
   "codemirror_mode": {
    "name": "ipython",
    "version": 3
   },
   "file_extension": ".py",
   "mimetype": "text/x-python",
   "name": "python",
   "nbconvert_exporter": "python",
   "pygments_lexer": "ipython3",
   "version": "3.9.13"
  }
 },
 "nbformat": 4,
 "nbformat_minor": 5
}
